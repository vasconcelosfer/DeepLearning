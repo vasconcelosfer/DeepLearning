{
 "nbformat": 4,
 "nbformat_minor": 0,
 "metadata": {
  "colab": {
   "provenance": [],
   "include_colab_link": true
  },
  "kernelspec": {
   "name": "python3",
   "display_name": "Python 3 (ipykernel)",
   "language": "python"
  },
  "language_info": {
   "name": "python"
  }
 },
 "cells": [
  {
   "cell_type": "markdown",
   "metadata": {
    "id": "view-in-github",
    "colab_type": "text"
   },
   "source": "    <a href=\"https://colab.research.google.com/github/vasconcelosfer/DeepLearning/blob/main/Deep_Learning_TP_Cohorte_16_4B2024.ipynb\" target=\"_parent\"><img src=\"https://colab.research.google.com/assets/colab-badge.svg\" alt=\"Open In Colab\"/></a>"
  },
  {
   "cell_type": "markdown",
   "source": [
    "\n",
    "# Universidad de Buenos Aires\n",
    "# Deep Learning - TP\n",
    "# Cohorte 16 - 4to bimestre 2024\n"
   ],
   "metadata": {
    "id": "bm6z-kS8vmfn"
   }
  },
  {
   "cell_type": "markdown",
   "source": [
    "El TP comienza al momento de recibir este correo y la ventana de entrega estará abierta hasta **las 20hs del Lunes 21 de octubre**. La resolución es individual. Pueden utilizar los contenidos vistos en clase y otra bibliografía. Si se toman ideas de fuentes externas deben ser correctamente citadas incluyendo el correspondiente link o página de libro.\n",
    "\n",
    "El formato de entrega debe ser un “link a un colab” (permitir acceso a las siguientes direcciones: alfonsorafel93@gmail.com y lelectronfou@gmail.com) y **se realizará en el siguiente link de google form: [link](https://docs.google.com/forms/d/e/1FAIpQLSc8dLsaaKQxAbtTv5RejE6TxifO_BugdeEU_IdhKl39qMvoMg/viewform?usp=sf_link)**. Tanto los resultados, como el código y las explicaciones deben quedar guardados y visualizables en el colab.\n",
    "\n",
    "NO ES NECESARIO QUE NOS ENVIEN COREEO AVISANDO DE LA ENTREGA!\n",
    "\n",
    "**Consideraciones a tener en cuenta:**\n",
    "- Se entregará 1 solo colab para la totalidad del examen.\n",
    "- Renombrar el archivo de la siguiente manera: **APELLIDO-NOMBRE-DL-TP Co(numero de cohorte).ipynb**\n",
    "- Los códigos deben poder ejecutarse.\n",
    "- Los resultados, cómo el código y las explicaciones deben quedar guardados y visualizables en el correspondiente link.\n",
    "- Prestar atención a las consignas, responder las preguntas cuando corresponda.\n",
    "\n",
    "\n",
    "**Condiciones de aprobación**\n",
    "- Se aprueba con más del 60% del examen bien resuelto de cada parte del TP (Parte 1 y Parte 2).\n",
    "- La escala de notas empleada por la UBA es aprobado para nota igual o superior a 4."
   ],
   "metadata": {
    "id": "4Z9ecZHdv0lH"
   }
  },
  {
   "cell_type": "markdown",
   "source": [
    "# Parte 1\n",
    "Descargar el dataset del siguiente link: https://drive.google.com/file/d/1X8_G5BpQMi-Nnbtms2RL8lcWSxzD8ixd/view?usp=sharing. El dataset son compras de productos que diferentes clientes realizaron durante un black sales. El dataset contiene información sobre las transacciones y el objetivo es poder utilizarlo para crear diferentes modelos que puedan predecir cuánto un cliente está dispuesto a gastar en un producto en el futuro.\n",
    "- a) Analizar y preparar el dataset.\n",
    "\n",
    "Particularmente para los puntos b), c) y d) vamos a tratar este problema como una clasificación donde queremos averiguar si el cliente pertenece al grupo 0 (gasta menos de 5000), al grupo 1 (gasta entre 5000 y 10000), al grupo 2 (gasta entre 10000 y 15000) o al grupo 3 (gasta más de 15000).\n",
    "- b) Entrenar un modelo de deep learning que no utilice embeddings, **descartando el `product_id` y `user_id`.** . Graficar las evoluciones de la funcion de costo y la metrica de validacion. Usar capas de regularizacion en caso de considerar necesario. Explicar resultados obtenidos.\n",
    "- c)\tEntrenar un modelo de deep learning que utilice **2 capas de embeddings**, una para los productos y otra para los usuarios. Graficar las evoluciones de la funcion de costo y la metrica de validacion. Usar capas de regularizacion en caso de considerar necesario. Explicar resultados obtenidos.\n",
    "- d) Para el modelo del punto c) implementar una funcion que a reciba un id de usuario y sugiera **n** cantidad usuarios que tuvieron un comportamiento de compras similar.\n",
    "\n",
    "Para el punto e) vamos a considerar un problema de regresion, donde la salida es cuanto gasto el cliente:\n",
    "- e)\tEntrenar un de deep learning que utilice **2 capas de embeddings**, una para los productos y otra para los usuarios. Graficar las evoluciones de la funcion de costo y la metrica de validacion. Usar capas de regularizacion en caso de considerar necesario. Explicar resultados obtenidos.\n",
    "- f) Para el mejor modelo obtenido en el apartado d) elegir al menos 2 hiperparametros para tunear. Explicar el metodo utilizado y los resultados obtenidos.\n",
    "\n"
   ],
   "metadata": {
    "id": "JV4xRTZgJ39X"
   }
  },
  {
   "metadata": {
    "ExecuteTime": {
     "end_time": "2024-10-20T23:06:52.407641Z",
     "start_time": "2024-10-20T23:06:52.405289Z"
    }
   },
   "cell_type": "code",
   "source": [
    "from unittest.mock import inplace\n",
    "\n",
    "import numpy as np\n",
    "import matplotlib.pyplot as plt\n",
    "import seaborn as sns\n",
    "import pandas as pd\n",
    "import torch\n",
    "from sklearn import metrics\n",
    "from torch.utils.data import Dataset, DataLoader\n",
    "from sklearn.preprocessing import OrdinalEncoder\n",
    "from sklearn.model_selection import train_test_split"
   ],
   "outputs": [],
   "execution_count": 243
  },
  {
   "metadata": {
    "ExecuteTime": {
     "end_time": "2024-10-20T22:57:59.622154Z",
     "start_time": "2024-10-20T22:57:59.619758Z"
    }
   },
   "cell_type": "code",
   "source": [
    "device = \"cpu\"\n",
    "if torch.cuda.is_available():\n",
    "  device = \"cuda:0\""
   ],
   "outputs": [],
   "execution_count": 236
  },
  {
   "metadata": {},
   "cell_type": "markdown",
   "source": "#### a) Analizar y preparar el dataset."
  },
  {
   "metadata": {
    "ExecuteTime": {
     "end_time": "2024-10-21T02:23:28.930115Z",
     "start_time": "2024-10-21T02:23:28.629346Z"
    }
   },
   "cell_type": "code",
   "source": "bsales_df = pd.read_csv('dataset_black_sales.csv')",
   "outputs": [],
   "execution_count": 289
  },
  {
   "metadata": {
    "ExecuteTime": {
     "end_time": "2024-10-20T22:38:39.372933Z",
     "start_time": "2024-10-20T22:38:39.363906Z"
    }
   },
   "cell_type": "code",
   "source": "bsales_df",
   "outputs": [
    {
     "data": {
      "text/plain": [
       "        User_ID Product_ID Gender    Age  Occupation City_Category  \\\n",
       "0       1000001  P00069042      F   0-17          10             A   \n",
       "1       1000001  P00248942      F   0-17          10             A   \n",
       "2       1000001  P00087842      F   0-17          10             A   \n",
       "3       1000001  P00085442      F   0-17          10             A   \n",
       "4       1000002  P00285442      M    55+          16             C   \n",
       "...         ...        ...    ...    ...         ...           ...   \n",
       "550063  1006033  P00372445      M  51-55          13             B   \n",
       "550064  1006035  P00375436      F  26-35           1             C   \n",
       "550065  1006036  P00375436      F  26-35          15             B   \n",
       "550066  1006038  P00375436      F    55+           1             C   \n",
       "550067  1006039  P00371644      F  46-50           0             B   \n",
       "\n",
       "       Stay_In_Current_City_Years  Marital_Status  Product_Category_1  \\\n",
       "0                               2               0                   3   \n",
       "1                               2               0                   1   \n",
       "2                               2               0                  12   \n",
       "3                               2               0                  12   \n",
       "4                              4+               0                   8   \n",
       "...                           ...             ...                 ...   \n",
       "550063                          1               1                  20   \n",
       "550064                          3               0                  20   \n",
       "550065                         4+               1                  20   \n",
       "550066                          2               0                  20   \n",
       "550067                         4+               1                  20   \n",
       "\n",
       "        Product_Category_2  Product_Category_3  Purchase  \n",
       "0                      NaN                 NaN      8370  \n",
       "1                      6.0                14.0     15200  \n",
       "2                      NaN                 NaN      1422  \n",
       "3                     14.0                 NaN      1057  \n",
       "4                      NaN                 NaN      7969  \n",
       "...                    ...                 ...       ...  \n",
       "550063                 NaN                 NaN       368  \n",
       "550064                 NaN                 NaN       371  \n",
       "550065                 NaN                 NaN       137  \n",
       "550066                 NaN                 NaN       365  \n",
       "550067                 NaN                 NaN       490  \n",
       "\n",
       "[550068 rows x 12 columns]"
      ],
      "text/html": [
       "<div>\n",
       "<style scoped>\n",
       "    .dataframe tbody tr th:only-of-type {\n",
       "        vertical-align: middle;\n",
       "    }\n",
       "\n",
       "    .dataframe tbody tr th {\n",
       "        vertical-align: top;\n",
       "    }\n",
       "\n",
       "    .dataframe thead th {\n",
       "        text-align: right;\n",
       "    }\n",
       "</style>\n",
       "<table border=\"1\" class=\"dataframe\">\n",
       "  <thead>\n",
       "    <tr style=\"text-align: right;\">\n",
       "      <th></th>\n",
       "      <th>User_ID</th>\n",
       "      <th>Product_ID</th>\n",
       "      <th>Gender</th>\n",
       "      <th>Age</th>\n",
       "      <th>Occupation</th>\n",
       "      <th>City_Category</th>\n",
       "      <th>Stay_In_Current_City_Years</th>\n",
       "      <th>Marital_Status</th>\n",
       "      <th>Product_Category_1</th>\n",
       "      <th>Product_Category_2</th>\n",
       "      <th>Product_Category_3</th>\n",
       "      <th>Purchase</th>\n",
       "    </tr>\n",
       "  </thead>\n",
       "  <tbody>\n",
       "    <tr>\n",
       "      <th>0</th>\n",
       "      <td>1000001</td>\n",
       "      <td>P00069042</td>\n",
       "      <td>F</td>\n",
       "      <td>0-17</td>\n",
       "      <td>10</td>\n",
       "      <td>A</td>\n",
       "      <td>2</td>\n",
       "      <td>0</td>\n",
       "      <td>3</td>\n",
       "      <td>NaN</td>\n",
       "      <td>NaN</td>\n",
       "      <td>8370</td>\n",
       "    </tr>\n",
       "    <tr>\n",
       "      <th>1</th>\n",
       "      <td>1000001</td>\n",
       "      <td>P00248942</td>\n",
       "      <td>F</td>\n",
       "      <td>0-17</td>\n",
       "      <td>10</td>\n",
       "      <td>A</td>\n",
       "      <td>2</td>\n",
       "      <td>0</td>\n",
       "      <td>1</td>\n",
       "      <td>6.0</td>\n",
       "      <td>14.0</td>\n",
       "      <td>15200</td>\n",
       "    </tr>\n",
       "    <tr>\n",
       "      <th>2</th>\n",
       "      <td>1000001</td>\n",
       "      <td>P00087842</td>\n",
       "      <td>F</td>\n",
       "      <td>0-17</td>\n",
       "      <td>10</td>\n",
       "      <td>A</td>\n",
       "      <td>2</td>\n",
       "      <td>0</td>\n",
       "      <td>12</td>\n",
       "      <td>NaN</td>\n",
       "      <td>NaN</td>\n",
       "      <td>1422</td>\n",
       "    </tr>\n",
       "    <tr>\n",
       "      <th>3</th>\n",
       "      <td>1000001</td>\n",
       "      <td>P00085442</td>\n",
       "      <td>F</td>\n",
       "      <td>0-17</td>\n",
       "      <td>10</td>\n",
       "      <td>A</td>\n",
       "      <td>2</td>\n",
       "      <td>0</td>\n",
       "      <td>12</td>\n",
       "      <td>14.0</td>\n",
       "      <td>NaN</td>\n",
       "      <td>1057</td>\n",
       "    </tr>\n",
       "    <tr>\n",
       "      <th>4</th>\n",
       "      <td>1000002</td>\n",
       "      <td>P00285442</td>\n",
       "      <td>M</td>\n",
       "      <td>55+</td>\n",
       "      <td>16</td>\n",
       "      <td>C</td>\n",
       "      <td>4+</td>\n",
       "      <td>0</td>\n",
       "      <td>8</td>\n",
       "      <td>NaN</td>\n",
       "      <td>NaN</td>\n",
       "      <td>7969</td>\n",
       "    </tr>\n",
       "    <tr>\n",
       "      <th>...</th>\n",
       "      <td>...</td>\n",
       "      <td>...</td>\n",
       "      <td>...</td>\n",
       "      <td>...</td>\n",
       "      <td>...</td>\n",
       "      <td>...</td>\n",
       "      <td>...</td>\n",
       "      <td>...</td>\n",
       "      <td>...</td>\n",
       "      <td>...</td>\n",
       "      <td>...</td>\n",
       "      <td>...</td>\n",
       "    </tr>\n",
       "    <tr>\n",
       "      <th>550063</th>\n",
       "      <td>1006033</td>\n",
       "      <td>P00372445</td>\n",
       "      <td>M</td>\n",
       "      <td>51-55</td>\n",
       "      <td>13</td>\n",
       "      <td>B</td>\n",
       "      <td>1</td>\n",
       "      <td>1</td>\n",
       "      <td>20</td>\n",
       "      <td>NaN</td>\n",
       "      <td>NaN</td>\n",
       "      <td>368</td>\n",
       "    </tr>\n",
       "    <tr>\n",
       "      <th>550064</th>\n",
       "      <td>1006035</td>\n",
       "      <td>P00375436</td>\n",
       "      <td>F</td>\n",
       "      <td>26-35</td>\n",
       "      <td>1</td>\n",
       "      <td>C</td>\n",
       "      <td>3</td>\n",
       "      <td>0</td>\n",
       "      <td>20</td>\n",
       "      <td>NaN</td>\n",
       "      <td>NaN</td>\n",
       "      <td>371</td>\n",
       "    </tr>\n",
       "    <tr>\n",
       "      <th>550065</th>\n",
       "      <td>1006036</td>\n",
       "      <td>P00375436</td>\n",
       "      <td>F</td>\n",
       "      <td>26-35</td>\n",
       "      <td>15</td>\n",
       "      <td>B</td>\n",
       "      <td>4+</td>\n",
       "      <td>1</td>\n",
       "      <td>20</td>\n",
       "      <td>NaN</td>\n",
       "      <td>NaN</td>\n",
       "      <td>137</td>\n",
       "    </tr>\n",
       "    <tr>\n",
       "      <th>550066</th>\n",
       "      <td>1006038</td>\n",
       "      <td>P00375436</td>\n",
       "      <td>F</td>\n",
       "      <td>55+</td>\n",
       "      <td>1</td>\n",
       "      <td>C</td>\n",
       "      <td>2</td>\n",
       "      <td>0</td>\n",
       "      <td>20</td>\n",
       "      <td>NaN</td>\n",
       "      <td>NaN</td>\n",
       "      <td>365</td>\n",
       "    </tr>\n",
       "    <tr>\n",
       "      <th>550067</th>\n",
       "      <td>1006039</td>\n",
       "      <td>P00371644</td>\n",
       "      <td>F</td>\n",
       "      <td>46-50</td>\n",
       "      <td>0</td>\n",
       "      <td>B</td>\n",
       "      <td>4+</td>\n",
       "      <td>1</td>\n",
       "      <td>20</td>\n",
       "      <td>NaN</td>\n",
       "      <td>NaN</td>\n",
       "      <td>490</td>\n",
       "    </tr>\n",
       "  </tbody>\n",
       "</table>\n",
       "<p>550068 rows × 12 columns</p>\n",
       "</div>"
      ]
     },
     "execution_count": 205,
     "metadata": {},
     "output_type": "execute_result"
    }
   ],
   "execution_count": 205
  },
  {
   "metadata": {
    "ExecuteTime": {
     "end_time": "2024-10-20T22:38:39.521977Z",
     "start_time": "2024-10-20T22:38:39.457124Z"
    }
   },
   "cell_type": "code",
   "source": "bsales_df.describe()",
   "outputs": [
    {
     "data": {
      "text/plain": [
       "            User_ID     Occupation  Marital_Status  Product_Category_1  \\\n",
       "count  5.500680e+05  550068.000000   550068.000000       550068.000000   \n",
       "mean   1.003029e+06       8.076707        0.409653            5.404270   \n",
       "std    1.727592e+03       6.522660        0.491770            3.936211   \n",
       "min    1.000001e+06       0.000000        0.000000            1.000000   \n",
       "25%    1.001516e+06       2.000000        0.000000            1.000000   \n",
       "50%    1.003077e+06       7.000000        0.000000            5.000000   \n",
       "75%    1.004478e+06      14.000000        1.000000            8.000000   \n",
       "max    1.006040e+06      20.000000        1.000000           20.000000   \n",
       "\n",
       "       Product_Category_2  Product_Category_3       Purchase  \n",
       "count       376430.000000       166821.000000  550068.000000  \n",
       "mean             9.842329           12.668243    9263.968713  \n",
       "std              5.086590            4.125338    5023.065394  \n",
       "min              2.000000            3.000000      12.000000  \n",
       "25%              5.000000            9.000000    5823.000000  \n",
       "50%              9.000000           14.000000    8047.000000  \n",
       "75%             15.000000           16.000000   12054.000000  \n",
       "max             18.000000           18.000000   23961.000000  "
      ],
      "text/html": [
       "<div>\n",
       "<style scoped>\n",
       "    .dataframe tbody tr th:only-of-type {\n",
       "        vertical-align: middle;\n",
       "    }\n",
       "\n",
       "    .dataframe tbody tr th {\n",
       "        vertical-align: top;\n",
       "    }\n",
       "\n",
       "    .dataframe thead th {\n",
       "        text-align: right;\n",
       "    }\n",
       "</style>\n",
       "<table border=\"1\" class=\"dataframe\">\n",
       "  <thead>\n",
       "    <tr style=\"text-align: right;\">\n",
       "      <th></th>\n",
       "      <th>User_ID</th>\n",
       "      <th>Occupation</th>\n",
       "      <th>Marital_Status</th>\n",
       "      <th>Product_Category_1</th>\n",
       "      <th>Product_Category_2</th>\n",
       "      <th>Product_Category_3</th>\n",
       "      <th>Purchase</th>\n",
       "    </tr>\n",
       "  </thead>\n",
       "  <tbody>\n",
       "    <tr>\n",
       "      <th>count</th>\n",
       "      <td>5.500680e+05</td>\n",
       "      <td>550068.000000</td>\n",
       "      <td>550068.000000</td>\n",
       "      <td>550068.000000</td>\n",
       "      <td>376430.000000</td>\n",
       "      <td>166821.000000</td>\n",
       "      <td>550068.000000</td>\n",
       "    </tr>\n",
       "    <tr>\n",
       "      <th>mean</th>\n",
       "      <td>1.003029e+06</td>\n",
       "      <td>8.076707</td>\n",
       "      <td>0.409653</td>\n",
       "      <td>5.404270</td>\n",
       "      <td>9.842329</td>\n",
       "      <td>12.668243</td>\n",
       "      <td>9263.968713</td>\n",
       "    </tr>\n",
       "    <tr>\n",
       "      <th>std</th>\n",
       "      <td>1.727592e+03</td>\n",
       "      <td>6.522660</td>\n",
       "      <td>0.491770</td>\n",
       "      <td>3.936211</td>\n",
       "      <td>5.086590</td>\n",
       "      <td>4.125338</td>\n",
       "      <td>5023.065394</td>\n",
       "    </tr>\n",
       "    <tr>\n",
       "      <th>min</th>\n",
       "      <td>1.000001e+06</td>\n",
       "      <td>0.000000</td>\n",
       "      <td>0.000000</td>\n",
       "      <td>1.000000</td>\n",
       "      <td>2.000000</td>\n",
       "      <td>3.000000</td>\n",
       "      <td>12.000000</td>\n",
       "    </tr>\n",
       "    <tr>\n",
       "      <th>25%</th>\n",
       "      <td>1.001516e+06</td>\n",
       "      <td>2.000000</td>\n",
       "      <td>0.000000</td>\n",
       "      <td>1.000000</td>\n",
       "      <td>5.000000</td>\n",
       "      <td>9.000000</td>\n",
       "      <td>5823.000000</td>\n",
       "    </tr>\n",
       "    <tr>\n",
       "      <th>50%</th>\n",
       "      <td>1.003077e+06</td>\n",
       "      <td>7.000000</td>\n",
       "      <td>0.000000</td>\n",
       "      <td>5.000000</td>\n",
       "      <td>9.000000</td>\n",
       "      <td>14.000000</td>\n",
       "      <td>8047.000000</td>\n",
       "    </tr>\n",
       "    <tr>\n",
       "      <th>75%</th>\n",
       "      <td>1.004478e+06</td>\n",
       "      <td>14.000000</td>\n",
       "      <td>1.000000</td>\n",
       "      <td>8.000000</td>\n",
       "      <td>15.000000</td>\n",
       "      <td>16.000000</td>\n",
       "      <td>12054.000000</td>\n",
       "    </tr>\n",
       "    <tr>\n",
       "      <th>max</th>\n",
       "      <td>1.006040e+06</td>\n",
       "      <td>20.000000</td>\n",
       "      <td>1.000000</td>\n",
       "      <td>20.000000</td>\n",
       "      <td>18.000000</td>\n",
       "      <td>18.000000</td>\n",
       "      <td>23961.000000</td>\n",
       "    </tr>\n",
       "  </tbody>\n",
       "</table>\n",
       "</div>"
      ]
     },
     "execution_count": 206,
     "metadata": {},
     "output_type": "execute_result"
    }
   ],
   "execution_count": 206
  },
  {
   "metadata": {
    "ExecuteTime": {
     "end_time": "2024-10-20T22:38:39.813601Z",
     "start_time": "2024-10-20T22:38:39.646850Z"
    }
   },
   "cell_type": "code",
   "source": "bsales_df.describe(include=['O'])",
   "outputs": [
    {
     "data": {
      "text/plain": [
       "       Product_ID  Gender     Age City_Category Stay_In_Current_City_Years\n",
       "count      550068  550068  550068        550068                     550068\n",
       "unique       3631       2       7             3                          5\n",
       "top     P00265242       M   26-35             B                          1\n",
       "freq         1880  414259  219587        231173                     193821"
      ],
      "text/html": [
       "<div>\n",
       "<style scoped>\n",
       "    .dataframe tbody tr th:only-of-type {\n",
       "        vertical-align: middle;\n",
       "    }\n",
       "\n",
       "    .dataframe tbody tr th {\n",
       "        vertical-align: top;\n",
       "    }\n",
       "\n",
       "    .dataframe thead th {\n",
       "        text-align: right;\n",
       "    }\n",
       "</style>\n",
       "<table border=\"1\" class=\"dataframe\">\n",
       "  <thead>\n",
       "    <tr style=\"text-align: right;\">\n",
       "      <th></th>\n",
       "      <th>Product_ID</th>\n",
       "      <th>Gender</th>\n",
       "      <th>Age</th>\n",
       "      <th>City_Category</th>\n",
       "      <th>Stay_In_Current_City_Years</th>\n",
       "    </tr>\n",
       "  </thead>\n",
       "  <tbody>\n",
       "    <tr>\n",
       "      <th>count</th>\n",
       "      <td>550068</td>\n",
       "      <td>550068</td>\n",
       "      <td>550068</td>\n",
       "      <td>550068</td>\n",
       "      <td>550068</td>\n",
       "    </tr>\n",
       "    <tr>\n",
       "      <th>unique</th>\n",
       "      <td>3631</td>\n",
       "      <td>2</td>\n",
       "      <td>7</td>\n",
       "      <td>3</td>\n",
       "      <td>5</td>\n",
       "    </tr>\n",
       "    <tr>\n",
       "      <th>top</th>\n",
       "      <td>P00265242</td>\n",
       "      <td>M</td>\n",
       "      <td>26-35</td>\n",
       "      <td>B</td>\n",
       "      <td>1</td>\n",
       "    </tr>\n",
       "    <tr>\n",
       "      <th>freq</th>\n",
       "      <td>1880</td>\n",
       "      <td>414259</td>\n",
       "      <td>219587</td>\n",
       "      <td>231173</td>\n",
       "      <td>193821</td>\n",
       "    </tr>\n",
       "  </tbody>\n",
       "</table>\n",
       "</div>"
      ]
     },
     "execution_count": 207,
     "metadata": {},
     "output_type": "execute_result"
    }
   ],
   "execution_count": 207
  },
  {
   "metadata": {
    "ExecuteTime": {
     "end_time": "2024-10-20T22:38:40.061572Z",
     "start_time": "2024-10-20T22:38:39.994346Z"
    }
   },
   "cell_type": "code",
   "source": "bsales_df.info()",
   "outputs": [
    {
     "name": "stdout",
     "output_type": "stream",
     "text": [
      "<class 'pandas.core.frame.DataFrame'>\n",
      "RangeIndex: 550068 entries, 0 to 550067\n",
      "Data columns (total 12 columns):\n",
      " #   Column                      Non-Null Count   Dtype  \n",
      "---  ------                      --------------   -----  \n",
      " 0   User_ID                     550068 non-null  int64  \n",
      " 1   Product_ID                  550068 non-null  object \n",
      " 2   Gender                      550068 non-null  object \n",
      " 3   Age                         550068 non-null  object \n",
      " 4   Occupation                  550068 non-null  int64  \n",
      " 5   City_Category               550068 non-null  object \n",
      " 6   Stay_In_Current_City_Years  550068 non-null  object \n",
      " 7   Marital_Status              550068 non-null  int64  \n",
      " 8   Product_Category_1          550068 non-null  int64  \n",
      " 9   Product_Category_2          376430 non-null  float64\n",
      " 10  Product_Category_3          166821 non-null  float64\n",
      " 11  Purchase                    550068 non-null  int64  \n",
      "dtypes: float64(2), int64(5), object(5)\n",
      "memory usage: 50.4+ MB\n"
     ]
    }
   ],
   "execution_count": 208
  },
  {
   "metadata": {},
   "cell_type": "markdown",
   "source": [
    "Del análisis inicial observamos que el dataset cuenta con 550068 registros. Tiene 11 atributos y el target Compras (Purchase). A continuación listamos los atributos:\n",
    "\n",
    "Atributos:\n",
    "\n",
    "- User_ID: Número de identificación del comprador. Variable del tipo cualitativa nominal.  \n",
    "- Product_ID: Número de identificación del producto. Variable del tipo cualitativa nominal.\n",
    "- Gender: Género del comprador. Variable del tipo cualitativa nominal.\n",
    "- Age: Edad del comprado. Variable del tipo cualitativa ordinal. \n",
    "- Occupation: Ocupación del comprador. Variable del tipo cualitativa nominal.  \n",
    "- City_Category: Categoría de ciudad. Variable del tipo cualitativa nominal.\n",
    "- Stay_In_Current_City_Years: Años de residencia en la ciudad.  Variable del tipo cualitativa ordinal.  \n",
    "- Marital_Status: Estado civil del comprador. Variable del tipo cualitativa nominal.  \n",
    "- Product_Category_1: Categoría de producto. Variable cuantitativa discreta (si bien es un tipo de dato flotante todos los valores son enteros. Entendemos que se encuentra en este tipo de dato por tener valores faltantes).\n",
    "- Product_Category_2: Categoría de producto. Variable cuantitativa discreta (si bien es un tipo de dato flotante todos los valores son enteros. Entendemos que se encuentra en este tipo de dato por tener valores faltantes).\n",
    "- Product_Category_3: Categoría de producto. Variable cuantitativa discreta (si bien es un tipo de dato flotante todos los valores son enteros. Entendemos que se encuentra en este tipo de dato por tener valores faltantes).\n",
    "\n",
    "Target:\n",
    "- Purchase: Monto gastado. Variable cuantitativa discreta.\n",
    "NOTA: Dado que los puntos b), c) y d), vamos a entrenar una red para un problema de clasificación. Vamos a crear una columna del tipo cualitativa ordinal para agrupar al cliente en 4 grupos dependiendo del monto gastado.\n",
    "    - grupo 0 (gasta menos de 5000)\n",
    "    - grupo 1 (gasta entre 5000 y 10000)\n",
    "    - grupo 2 (gasta entre 10000 y 15000)\n",
    "    - grupo 3 (gasta más de 15000)   "
   ]
  },
  {
   "metadata": {
    "ExecuteTime": {
     "end_time": "2024-10-20T22:38:41.167942Z",
     "start_time": "2024-10-20T22:38:41.069998Z"
    }
   },
   "cell_type": "code",
   "source": "bsales_df.nunique()",
   "outputs": [
    {
     "data": {
      "text/plain": [
       "User_ID                        5891\n",
       "Product_ID                     3631\n",
       "Gender                            2\n",
       "Age                               7\n",
       "Occupation                       21\n",
       "City_Category                     3\n",
       "Stay_In_Current_City_Years        5\n",
       "Marital_Status                    2\n",
       "Product_Category_1               20\n",
       "Product_Category_2               17\n",
       "Product_Category_3               15\n",
       "Purchase                      18105\n",
       "dtype: int64"
      ]
     },
     "execution_count": 209,
     "metadata": {},
     "output_type": "execute_result"
    }
   ],
   "execution_count": 209
  },
  {
   "metadata": {},
   "cell_type": "markdown",
   "source": "Graficamos histograma de Purchase Category para ver como están balanceadas las categorías:"
  },
  {
   "metadata": {
    "ExecuteTime": {
     "end_time": "2024-10-20T22:38:44.429556Z",
     "start_time": "2024-10-20T22:38:44.291691Z"
    }
   },
   "cell_type": "code",
   "source": [
    "sns.histplot(bsales_df, x=bsales_df['purchase_category'], stat='count', discrete=True)\n",
    "plt.title('Histograma Categoría de compras')\n",
    "plt.ylabel('Cantidad de compras')\n",
    "plt.xlabel('Grupo')\n",
    "plt.xticks([0,1,2,3])\n",
    "plt.show()"
   ],
   "outputs": [
    {
     "data": {
      "text/plain": [
       "<Figure size 640x480 with 1 Axes>"
      ],
      "image/png": "[encoded data removed]"
     },
     "metadata": {},
     "output_type": "display_data"
    }
   ],
   "execution_count": 211
  },
  {
   "metadata": {},
   "cell_type": "markdown",
   "source": "Como podemos observar hay un desbalanceo ya que hay mas compras del grupo 1."
  },
  {
   "metadata": {
    "ExecuteTime": {
     "end_time": "2024-10-20T22:38:45.267325Z",
     "start_time": "2024-10-20T22:38:44.971777Z"
    }
   },
   "cell_type": "code",
   "source": [
    "sns.histplot(bsales_df, x=bsales_df['Gender'], stat='count', discrete=True)\n",
    "plt.title('Histograma Genero')\n",
    "plt.ylabel('Cantidad de compras')\n",
    "plt.xlabel('Genero')\n",
    "# plt.xticks([0,1,2,3])\n",
    "plt.show()"
   ],
   "outputs": [
    {
     "data": {
      "text/plain": [
       "<Figure size 640x480 with 1 Axes>"
      ],
      "image/png": "[encoded data removed]"
     },
     "metadata": {},
     "output_type": "display_data"
    }
   ],
   "execution_count": 212
  },
  {
   "metadata": {},
   "cell_type": "markdown",
   "source": "#### Codificación de variables categoricas"
  },
  {
   "metadata": {
    "ExecuteTime": {
     "end_time": "2024-10-20T22:38:46.206822Z",
     "start_time": "2024-10-20T22:38:46.204866Z"
    }
   },
   "cell_type": "code",
   "source": "# bsales_df = pd.read_csv('dataset_black_sales.csv')",
   "outputs": [],
   "execution_count": 213
  },
  {
   "metadata": {},
   "cell_type": "markdown",
   "source": "Mapeamos los generos en 0 y 1:"
  },
  {
   "metadata": {
    "ExecuteTime": {
     "end_time": "2024-10-21T02:23:34.098729Z",
     "start_time": "2024-10-21T02:23:34.082350Z"
    }
   },
   "cell_type": "code",
   "source": "bsales_df.insert(bsales_df.columns.get_loc('Gender')+1, 'Encode_Gender', bsales_df['Gender'].map({'F':0, 'M':1}))",
   "outputs": [],
   "execution_count": 290
  },
  {
   "metadata": {},
   "cell_type": "markdown",
   "source": "Codificamos los rangos de edad"
  },
  {
   "metadata": {
    "ExecuteTime": {
     "end_time": "2024-10-21T02:23:36.046211Z",
     "start_time": "2024-10-21T02:23:36.021571Z"
    }
   },
   "cell_type": "code",
   "source": "bsales_df['Age'].unique()",
   "outputs": [
    {
     "data": {
      "text/plain": [
       "array(['0-17', '55+', '26-35', '46-50', '51-55', '36-45', '18-25'],\n",
       "      dtype=object)"
      ]
     },
     "execution_count": 291,
     "metadata": {},
     "output_type": "execute_result"
    }
   ],
   "execution_count": 291
  },
  {
   "metadata": {
    "ExecuteTime": {
     "end_time": "2024-10-21T02:23:37.286200Z",
     "start_time": "2024-10-21T02:23:37.199187Z"
    }
   },
   "cell_type": "code",
   "source": [
    "age_label= ['0-17','18-25','26-35','36-45','46-50', '51-55', '55+']\n",
    "encoder = OrdinalEncoder(categories=[age_label])\n",
    "bsales_df.insert(bsales_df.columns.get_loc('Age')+1, 'Encode_Age', encoder.fit_transform(bsales_df[['Age']]))\n",
    "bsales_df['Encode_Age'] = bsales_df['Encode_Age'].astype(int)"
   ],
   "outputs": [],
   "execution_count": 292
  },
  {
   "metadata": {},
   "cell_type": "markdown",
   "source": "Codificamos las categorías de ciudad con One-Hot Encoding"
  },
  {
   "metadata": {
    "ExecuteTime": {
     "end_time": "2024-10-21T02:23:41.028758Z",
     "start_time": "2024-10-21T02:23:40.944890Z"
    }
   },
   "cell_type": "code",
   "source": [
    "dummies_bsales_df = pd.get_dummies(bsales_df['City_Category'], columns=['City_Category'], prefix='City').astype(int)\n",
    "city_category_index = bsales_df.columns.get_loc('City_Category') + 1\n",
    "bsales_df = pd.concat([bsales_df.iloc[:,:city_category_index], dummies_bsales_df, bsales_df.iloc[:,city_category_index:]], axis=1)"
   ],
   "outputs": [],
   "execution_count": 293
  },
  {
   "metadata": {},
   "cell_type": "markdown",
   "source": "Para el caso de la columna Stay_In_Current_City_Years remplazamos 4+ por 4 y convertimos a int"
  },
  {
   "metadata": {
    "ExecuteTime": {
     "end_time": "2024-10-21T02:23:43.739168Z",
     "start_time": "2024-10-21T02:23:43.693722Z"
    }
   },
   "cell_type": "code",
   "source": "bsales_df['Stay_In_Current_City_Years']= bsales_df['Stay_In_Current_City_Years'].replace('4+', '4').astype(int)",
   "outputs": [],
   "execution_count": 294
  },
  {
   "metadata": {},
   "cell_type": "markdown",
   "source": "En el caso de los valores faltantes en Product_Category_2 y Product_Category_3, reemplazamos el valor faltante por -1"
  },
  {
   "metadata": {
    "ExecuteTime": {
     "end_time": "2024-10-21T02:23:44.459708Z",
     "start_time": "2024-10-21T02:23:44.451110Z"
    }
   },
   "cell_type": "code",
   "source": [
    "bsales_df['Product_Category_2'].fillna(-1, inplace=True)\n",
    "bsales_df['Product_Category_3'].fillna(-1, inplace=True)"
   ],
   "outputs": [],
   "execution_count": 295
  },
  {
   "metadata": {
    "ExecuteTime": {
     "end_time": "2024-10-21T02:23:44.819793Z",
     "start_time": "2024-10-21T02:23:44.814124Z"
    }
   },
   "cell_type": "code",
   "source": [
    "bsales_df['Product_Category_2'] = bsales_df['Product_Category_2'].astype(int)\n",
    "bsales_df['Product_Category_3'] = bsales_df['Product_Category_3'].astype(int)"
   ],
   "outputs": [],
   "execution_count": 296
  },
  {
   "metadata": {},
   "cell_type": "markdown",
   "source": "Preparamos y dividimos el dataset para entrenar y validar la red neuronal"
  },
  {
   "metadata": {
    "ExecuteTime": {
     "end_time": "2024-10-21T02:23:45.879161Z",
     "start_time": "2024-10-21T02:23:45.848794Z"
    }
   },
   "cell_type": "code",
   "source": "bsales_df.drop(['Gender', 'Age', 'City_Category'], axis=1, inplace=True)",
   "outputs": [],
   "execution_count": 297
  },
  {
   "metadata": {
    "ExecuteTime": {
     "end_time": "2024-10-21T02:23:46.765917Z",
     "start_time": "2024-10-21T02:23:46.648500Z"
    }
   },
   "cell_type": "code",
   "source": "bsales_df_nn = bsales_df.copy() ",
   "outputs": [],
   "execution_count": 298
  },
  {
   "metadata": {},
   "cell_type": "markdown",
   "source": [
    "Por último, para los puntos b), c) y d) resulta un problema de clasificación multiclase. Por lo tanto, vamos a crear la columna Pruchase Category con los siguientes valores: 0 (gasta menos de 5000), 1 (gasta entre 5000 y 10000), 2 (gasta entre 10000 y 15000) o 3 (gasta más de 15000).    \n",
    "Luego aplicamos one hot encondig."
   ]
  },
  {
   "metadata": {
    "ExecuteTime": {
     "end_time": "2024-10-21T02:24:42.747618Z",
     "start_time": "2024-10-21T02:24:35.727590Z"
    }
   },
   "cell_type": "code",
   "source": [
    "def set_purchase_category(row):\n",
    "    if row['Purchase'] < 5000:\n",
    "        return 0\n",
    "    elif 5000 <= row['Purchase'] < 10000:\n",
    "        return 1\n",
    "    elif 10000 <= row['Purchase'] < 15000:\n",
    "        return 2\n",
    "    else:\n",
    "        return 3\n",
    "    \n",
    "bsales_df_nn['Purchase_Category'] = bsales_df_nn.apply(set_purchase_category, axis=1)"
   ],
   "outputs": [],
   "execution_count": 299
  },
  {
   "metadata": {
    "ExecuteTime": {
     "end_time": "2024-10-21T02:24:42.876247Z",
     "start_time": "2024-10-21T02:24:42.751536Z"
    }
   },
   "cell_type": "code",
   "source": [
    "purchase_category_onehot = pd.get_dummies(bsales_df_nn['Purchase_Category'], columns=['Purchase_Category'], prefix='Group').astype(int)\n",
    "bsales_df_nn = pd.concat([bsales_df_nn, purchase_category_onehot], axis=1)\n"
   ],
   "outputs": [],
   "execution_count": 300
  },
  {
   "metadata": {
    "ExecuteTime": {
     "end_time": "2024-10-21T02:25:40.660516Z",
     "start_time": "2024-10-21T02:25:40.634707Z"
    }
   },
   "cell_type": "code",
   "source": "bsales_df_nn",
   "outputs": [
    {
     "data": {
      "text/plain": [
       "        User_ID Product_ID  Encode_Gender  Encode_Age  Occupation  City_A  \\\n",
       "0       1000001  P00069042              0           0          10       1   \n",
       "1       1000001  P00248942              0           0          10       1   \n",
       "2       1000001  P00087842              0           0          10       1   \n",
       "3       1000001  P00085442              0           0          10       1   \n",
       "4       1000002  P00285442              1           6          16       0   \n",
       "...         ...        ...            ...         ...         ...     ...   \n",
       "550063  1006033  P00372445              1           5          13       0   \n",
       "550064  1006035  P00375436              0           2           1       0   \n",
       "550065  1006036  P00375436              0           2          15       0   \n",
       "550066  1006038  P00375436              0           6           1       0   \n",
       "550067  1006039  P00371644              0           4           0       0   \n",
       "\n",
       "        City_B  City_C  Stay_In_Current_City_Years  Marital_Status  \\\n",
       "0            0       0                           2               0   \n",
       "1            0       0                           2               0   \n",
       "2            0       0                           2               0   \n",
       "3            0       0                           2               0   \n",
       "4            0       1                           4               0   \n",
       "...        ...     ...                         ...             ...   \n",
       "550063       1       0                           1               1   \n",
       "550064       0       1                           3               0   \n",
       "550065       1       0                           4               1   \n",
       "550066       0       1                           2               0   \n",
       "550067       1       0                           4               1   \n",
       "\n",
       "        Product_Category_1  Product_Category_2  Product_Category_3  Purchase  \\\n",
       "0                        3                  -1                  -1      8370   \n",
       "1                        1                   6                  14     15200   \n",
       "2                       12                  -1                  -1      1422   \n",
       "3                       12                  14                  -1      1057   \n",
       "4                        8                  -1                  -1      7969   \n",
       "...                    ...                 ...                 ...       ...   \n",
       "550063                  20                  -1                  -1       368   \n",
       "550064                  20                  -1                  -1       371   \n",
       "550065                  20                  -1                  -1       137   \n",
       "550066                  20                  -1                  -1       365   \n",
       "550067                  20                  -1                  -1       490   \n",
       "\n",
       "        Purchase_Category  Group_0  Group_1  Group_2  Group_3  \n",
       "0                       1        0        1        0        0  \n",
       "1                       3        0        0        0        1  \n",
       "2                       0        1        0        0        0  \n",
       "3                       0        1        0        0        0  \n",
       "4                       1        0        1        0        0  \n",
       "...                   ...      ...      ...      ...      ...  \n",
       "550063                  0        1        0        0        0  \n",
       "550064                  0        1        0        0        0  \n",
       "550065                  0        1        0        0        0  \n",
       "550066                  0        1        0        0        0  \n",
       "550067                  0        1        0        0        0  \n",
       "\n",
       "[550068 rows x 19 columns]"
      ],
      "text/html": [
       "<div>\n",
       "<style scoped>\n",
       "    .dataframe tbody tr th:only-of-type {\n",
       "        vertical-align: middle;\n",
       "    }\n",
       "\n",
       "    .dataframe tbody tr th {\n",
       "        vertical-align: top;\n",
       "    }\n",
       "\n",
       "    .dataframe thead th {\n",
       "        text-align: right;\n",
       "    }\n",
       "</style>\n",
       "<table border=\"1\" class=\"dataframe\">\n",
       "  <thead>\n",
       "    <tr style=\"text-align: right;\">\n",
       "      <th></th>\n",
       "      <th>User_ID</th>\n",
       "      <th>Product_ID</th>\n",
       "      <th>Encode_Gender</th>\n",
       "      <th>Encode_Age</th>\n",
       "      <th>Occupation</th>\n",
       "      <th>City_A</th>\n",
       "      <th>City_B</th>\n",
       "      <th>City_C</th>\n",
       "      <th>Stay_In_Current_City_Years</th>\n",
       "      <th>Marital_Status</th>\n",
       "      <th>Product_Category_1</th>\n",
       "      <th>Product_Category_2</th>\n",
       "      <th>Product_Category_3</th>\n",
       "      <th>Purchase</th>\n",
       "      <th>Purchase_Category</th>\n",
       "      <th>Group_0</th>\n",
       "      <th>Group_1</th>\n",
       "      <th>Group_2</th>\n",
       "      <th>Group_3</th>\n",
       "    </tr>\n",
       "  </thead>\n",
       "  <tbody>\n",
       "    <tr>\n",
       "      <th>0</th>\n",
       "      <td>1000001</td>\n",
       "      <td>P00069042</td>\n",
       "      <td>0</td>\n",
       "      <td>0</td>\n",
       "      <td>10</td>\n",
       "      <td>1</td>\n",
       "      <td>0</td>\n",
       "      <td>0</td>\n",
       "      <td>2</td>\n",
       "      <td>0</td>\n",
       "      <td>3</td>\n",
       "      <td>-1</td>\n",
       "      <td>-1</td>\n",
       "      <td>8370</td>\n",
       "      <td>1</td>\n",
       "      <td>0</td>\n",
       "      <td>1</td>\n",
       "      <td>0</td>\n",
       "      <td>0</td>\n",
       "    </tr>\n",
       "    <tr>\n",
       "      <th>1</th>\n",
       "      <td>1000001</td>\n",
       "      <td>P00248942</td>\n",
       "      <td>0</td>\n",
       "      <td>0</td>\n",
       "      <td>10</td>\n",
       "      <td>1</td>\n",
       "      <td>0</td>\n",
       "      <td>0</td>\n",
       "      <td>2</td>\n",
       "      <td>0</td>\n",
       "      <td>1</td>\n",
       "      <td>6</td>\n",
       "      <td>14</td>\n",
       "      <td>15200</td>\n",
       "      <td>3</td>\n",
       "      <td>0</td>\n",
       "      <td>0</td>\n",
       "      <td>0</td>\n",
       "      <td>1</td>\n",
       "    </tr>\n",
       "    <tr>\n",
       "      <th>2</th>\n",
       "      <td>1000001</td>\n",
       "      <td>P00087842</td>\n",
       "      <td>0</td>\n",
       "      <td>0</td>\n",
       "      <td>10</td>\n",
       "      <td>1</td>\n",
       "      <td>0</td>\n",
       "      <td>0</td>\n",
       "      <td>2</td>\n",
       "      <td>0</td>\n",
       "      <td>12</td>\n",
       "      <td>-1</td>\n",
       "      <td>-1</td>\n",
       "      <td>1422</td>\n",
       "      <td>0</td>\n",
       "      <td>1</td>\n",
       "      <td>0</td>\n",
       "      <td>0</td>\n",
       "      <td>0</td>\n",
       "    </tr>\n",
       "    <tr>\n",
       "      <th>3</th>\n",
       "      <td>1000001</td>\n",
       "      <td>P00085442</td>\n",
       "      <td>0</td>\n",
       "      <td>0</td>\n",
       "      <td>10</td>\n",
       "      <td>1</td>\n",
       "      <td>0</td>\n",
       "      <td>0</td>\n",
       "      <td>2</td>\n",
       "      <td>0</td>\n",
       "      <td>12</td>\n",
       "      <td>14</td>\n",
       "      <td>-1</td>\n",
       "      <td>1057</td>\n",
       "      <td>0</td>\n",
       "      <td>1</td>\n",
       "      <td>0</td>\n",
       "      <td>0</td>\n",
       "      <td>0</td>\n",
       "    </tr>\n",
       "    <tr>\n",
       "      <th>4</th>\n",
       "      <td>1000002</td>\n",
       "      <td>P00285442</td>\n",
       "      <td>1</td>\n",
       "      <td>6</td>\n",
       "      <td>16</td>\n",
       "      <td>0</td>\n",
       "      <td>0</td>\n",
       "      <td>1</td>\n",
       "      <td>4</td>\n",
       "      <td>0</td>\n",
       "      <td>8</td>\n",
       "      <td>-1</td>\n",
       "      <td>-1</td>\n",
       "      <td>7969</td>\n",
       "      <td>1</td>\n",
       "      <td>0</td>\n",
       "      <td>1</td>\n",
       "      <td>0</td>\n",
       "      <td>0</td>\n",
       "    </tr>\n",
       "    <tr>\n",
       "      <th>...</th>\n",
       "      <td>...</td>\n",
       "      <td>...</td>\n",
       "      <td>...</td>\n",
       "      <td>...</td>\n",
       "      <td>...</td>\n",
       "      <td>...</td>\n",
       "      <td>...</td>\n",
       "      <td>...</td>\n",
       "      <td>...</td>\n",
       "      <td>...</td>\n",
       "      <td>...</td>\n",
       "      <td>...</td>\n",
       "      <td>...</td>\n",
       "      <td>...</td>\n",
       "      <td>...</td>\n",
       "      <td>...</td>\n",
       "      <td>...</td>\n",
       "      <td>...</td>\n",
       "      <td>...</td>\n",
       "    </tr>\n",
       "    <tr>\n",
       "      <th>550063</th>\n",
       "      <td>1006033</td>\n",
       "      <td>P00372445</td>\n",
       "      <td>1</td>\n",
       "      <td>5</td>\n",
       "      <td>13</td>\n",
       "      <td>0</td>\n",
       "      <td>1</td>\n",
       "      <td>0</td>\n",
       "      <td>1</td>\n",
       "      <td>1</td>\n",
       "      <td>20</td>\n",
       "      <td>-1</td>\n",
       "      <td>-1</td>\n",
       "      <td>368</td>\n",
       "      <td>0</td>\n",
       "      <td>1</td>\n",
       "      <td>0</td>\n",
       "      <td>0</td>\n",
       "      <td>0</td>\n",
       "    </tr>\n",
       "    <tr>\n",
       "      <th>550064</th>\n",
       "      <td>1006035</td>\n",
       "      <td>P00375436</td>\n",
       "      <td>0</td>\n",
       "      <td>2</td>\n",
       "      <td>1</td>\n",
       "      <td>0</td>\n",
       "      <td>0</td>\n",
       "      <td>1</td>\n",
       "      <td>3</td>\n",
       "      <td>0</td>\n",
       "      <td>20</td>\n",
       "      <td>-1</td>\n",
       "      <td>-1</td>\n",
       "      <td>371</td>\n",
       "      <td>0</td>\n",
       "      <td>1</td>\n",
       "      <td>0</td>\n",
       "      <td>0</td>\n",
       "      <td>0</td>\n",
       "    </tr>\n",
       "    <tr>\n",
       "      <th>550065</th>\n",
       "      <td>1006036</td>\n",
       "      <td>P00375436</td>\n",
       "      <td>0</td>\n",
       "      <td>2</td>\n",
       "      <td>15</td>\n",
       "      <td>0</td>\n",
       "      <td>1</td>\n",
       "      <td>0</td>\n",
       "      <td>4</td>\n",
       "      <td>1</td>\n",
       "      <td>20</td>\n",
       "      <td>-1</td>\n",
       "      <td>-1</td>\n",
       "      <td>137</td>\n",
       "      <td>0</td>\n",
       "      <td>1</td>\n",
       "      <td>0</td>\n",
       "      <td>0</td>\n",
       "      <td>0</td>\n",
       "    </tr>\n",
       "    <tr>\n",
       "      <th>550066</th>\n",
       "      <td>1006038</td>\n",
       "      <td>P00375436</td>\n",
       "      <td>0</td>\n",
       "      <td>6</td>\n",
       "      <td>1</td>\n",
       "      <td>0</td>\n",
       "      <td>0</td>\n",
       "      <td>1</td>\n",
       "      <td>2</td>\n",
       "      <td>0</td>\n",
       "      <td>20</td>\n",
       "      <td>-1</td>\n",
       "      <td>-1</td>\n",
       "      <td>365</td>\n",
       "      <td>0</td>\n",
       "      <td>1</td>\n",
       "      <td>0</td>\n",
       "      <td>0</td>\n",
       "      <td>0</td>\n",
       "    </tr>\n",
       "    <tr>\n",
       "      <th>550067</th>\n",
       "      <td>1006039</td>\n",
       "      <td>P00371644</td>\n",
       "      <td>0</td>\n",
       "      <td>4</td>\n",
       "      <td>0</td>\n",
       "      <td>0</td>\n",
       "      <td>1</td>\n",
       "      <td>0</td>\n",
       "      <td>4</td>\n",
       "      <td>1</td>\n",
       "      <td>20</td>\n",
       "      <td>-1</td>\n",
       "      <td>-1</td>\n",
       "      <td>490</td>\n",
       "      <td>0</td>\n",
       "      <td>1</td>\n",
       "      <td>0</td>\n",
       "      <td>0</td>\n",
       "      <td>0</td>\n",
       "    </tr>\n",
       "  </tbody>\n",
       "</table>\n",
       "<p>550068 rows × 19 columns</p>\n",
       "</div>"
      ]
     },
     "execution_count": 301,
     "metadata": {},
     "output_type": "execute_result"
    }
   ],
   "execution_count": 301
  },
  {
   "metadata": {},
   "cell_type": "markdown",
   "source": "### b) Entrenar un modelo de deep learning que no utilice embeddings, **descartando el `product_id` y `user_id`.** . Graficar las evoluciones de la funcion de costo y la metrica de validacion. Usar capas de regularizacion en caso de considerar necesario. Explicar resultados obtenidos."
  },
  {
   "metadata": {
    "ExecuteTime": {
     "end_time": "2024-10-21T02:27:19.416687Z",
     "start_time": "2024-10-21T02:27:19.370658Z"
    }
   },
   "cell_type": "code",
   "source": "bsales_df_nn_without_embeddings = bsales_df_nn.drop(['User_ID', 'Product_ID', 'Purchase', 'Purchase_Category'], axis=1, inplace=False)",
   "outputs": [],
   "execution_count": 304
  },
  {
   "metadata": {
    "ExecuteTime": {
     "end_time": "2024-10-21T02:29:17.391248Z",
     "start_time": "2024-10-21T02:29:17.327661Z"
    }
   },
   "cell_type": "code",
   "source": [
    "x = bsales_df_nn_without_embeddings.drop(columns=['Group_0', 'Group_1', 'Group_2', 'Group_3']).values\n",
    "y = bsales_df_nn_without_embeddings[['Group_0', 'Group_1', 'Group_2', 'Group_3']].values"
   ],
   "outputs": [],
   "execution_count": 306
  },
  {
   "metadata": {
    "ExecuteTime": {
     "end_time": "2024-10-21T02:29:40.862773Z",
     "start_time": "2024-10-21T02:29:40.736043Z"
    }
   },
   "cell_type": "code",
   "source": "x_train, x_valid, y_train, y_valid = train_test_split(x, y, test_size=0.15, random_state=42)",
   "outputs": [],
   "execution_count": 309
  },
  {
   "metadata": {
    "ExecuteTime": {
     "end_time": "2024-10-21T02:29:41.402117Z",
     "start_time": "2024-10-21T02:29:41.398020Z"
    }
   },
   "cell_type": "code",
   "source": [
    "# Pytorch necesita de una clase de dataset que extienda de torch.utils.data.Dataset\n",
    "# Esta clase dataset debe sobreescribir los métodos init, len y getitem\n",
    "class PurchaseCategoryDataset(Dataset):\n",
    "  #__init__ guarda el dataset en una variable de clase\n",
    "  def __init__(self, x, y):\n",
    "    self.x = x\n",
    "    self.y = y\n",
    "\n",
    "  # __len__ define el comportamiento de la función len() sobre el objeto\n",
    "  def __len__(self):\n",
    "    return self.x.shape[0]\n",
    "\n",
    "  # __getitem__ define el comportamiento de los []\n",
    "  def __getitem__(self, idx):\n",
    "    return self.x[idx], self.y[idx]"
   ],
   "outputs": [],
   "execution_count": 310
  },
  {
   "metadata": {
    "ExecuteTime": {
     "end_time": "2024-10-21T02:32:43.392136Z",
     "start_time": "2024-10-21T02:32:43.386808Z"
    }
   },
   "cell_type": "code",
   "source": [
    "# Creo el dataset de entrenamiento\n",
    "train_ds = PurchaseCategoryDataset(x_train, y_train)\n",
    "# Creo el dataset de validación\n",
    "valid_ds = PurchaseCategoryDataset(x_valid, y)\n",
    "\n",
    "# Pytorch utiliza DataLoader para entregar los dataset de a batches\n",
    "train_dataloader = DataLoader(train_ds, batch_size = 64, shuffle= True)\n",
    "valid_dataloader = DataLoader(valid_ds, batch_size=64)"
   ],
   "outputs": [],
   "execution_count": 326
  },
  {
   "metadata": {
    "ExecuteTime": {
     "end_time": "2024-10-21T02:30:54.541892Z",
     "start_time": "2024-10-21T02:30:54.537627Z"
    }
   },
   "cell_type": "code",
   "source": "x_train.shape",
   "outputs": [
    {
     "data": {
      "text/plain": [
       "(467557, 11)"
      ]
     },
     "execution_count": 319,
     "metadata": {},
     "output_type": "execute_result"
    }
   ],
   "execution_count": 319
  },
  {
   "metadata": {
    "ExecuteTime": {
     "end_time": "2024-10-21T02:32:15.843398Z",
     "start_time": "2024-10-21T02:32:15.837627Z"
    }
   },
   "cell_type": "code",
   "source": [
    "# Arquitectura red neuronal\n",
    "class NNet(torch.nn.Module):\n",
    "\n",
    "  def __init__(self):\n",
    "    # Defino la arquitectura de la red\n",
    "    super().__init__()\n",
    "    self.linear_1 = torch.nn.Linear(in_features=11, out_features=128, bias=True)\n",
    "    self.relu_1 = torch.nn.ReLU()\n",
    "    self.linear_2 = torch.nn.Linear(in_features = 128, out_features=64, bias=True)\n",
    "    self.relu_2 = torch.nn.ReLU()\n",
    "    self.linear_3 = torch.nn.Linear(in_features = 64, out_features= 16, bias=True)\n",
    "    self.output = torch.nn.Linear(in_features = 16, out_features= 4, bias=True)\n",
    "\n",
    "  def forward(self, x):\n",
    "    # Defino el cálculo del paso forward\n",
    "    x = self.linear_1(x)\n",
    "    x = self.relu_1(x)\n",
    "    x = self.linear_2(x)\n",
    "    x = self.relu_2(x)\n",
    "    x = self.linear_3(x)\n",
    "    x = self.output(x)\n",
    "    return x"
   ],
   "outputs": [],
   "execution_count": 323
  },
  {
   "metadata": {},
   "cell_type": "markdown",
   "source": ""
  },
  {
   "metadata": {
    "ExecuteTime": {
     "end_time": "2024-10-21T02:32:17.203250Z",
     "start_time": "2024-10-21T02:32:17.198864Z"
    }
   },
   "cell_type": "code",
   "source": [
    "# Instanciamos la red\n",
    "nnet = NNet()\n",
    "# Copio la red neuronal al dispositivo donde entrene la red neuronal\n",
    "nnet = nnet.to(device)\n",
    "# Loss\n",
    "loss_function = torch.nn.CrossEntropyLoss()\n",
    "    # torch.nn.BCELoss(reduction='sum'))\n",
    "# Optimizer\n",
    "optimizer = torch.optim.Adam(nnet.parameters(), lr=0.0001)"
   ],
   "outputs": [],
   "execution_count": 324
  },
  {
   "metadata": {
    "jupyter": {
     "is_executing": true
    },
    "ExecuteTime": {
     "start_time": "2024-10-21T02:55:58.237804Z"
    }
   },
   "cell_type": "code",
   "source": [
    "# cantidad de epochs\n",
    "epochs = 100\n",
    "\n",
    "n_train = len(train_ds)\n",
    "n_valid = len(valid_ds)\n",
    "# Doble loop algoritmo Mini-Batch\n",
    "for epoch in range(epochs):\n",
    "  \n",
    "  ############################################\n",
    "  ## Entrenamiento\n",
    "  ############################################\n",
    "  nnet.train(True)\n",
    "\n",
    "  epoch_loss = 0\n",
    "  epoch_y_hat = []\n",
    "  epoch_y = []\n",
    "  \n",
    "  for i,data in enumerate(train_dataloader):\n",
    "    # Obtengo los datos del batch de entrenamiento\n",
    "    x_batch, y_batch = data\n",
    "    # Copio el batch al dispositivo donde entreno la red neuronal\n",
    "    x_batch = x_batch.to(device).float()\n",
    "    y_batch = y_batch.to(device).float().reshape(-1, 4)\n",
    "\n",
    "    # Paso forward\n",
    "    # Limpio optimizer para empezar un nuevo cálculo de gradiente\n",
    "    optimizer.zero_grad()\n",
    "    y_batch_hat = nnet(x_batch)\n",
    "    \n",
    "    # Calculo el loss\n",
    "    loss = loss_function(y_batch_hat,y_batch)\n",
    "\n",
    "    # Backpropagation\n",
    "    loss.backward()\n",
    "\n",
    "    # Actualizar los parámetros\n",
    "    optimizer.step()\n",
    "\n",
    "    # Almaceno los valores reales y mis predicciones para cálcular las métricas\n",
    "    epoch_y += list(y_batch.detach().cpu().numpy())\n",
    "    epoch_y_hat += list(y_batch_hat.detach().cpu().numpy())\n",
    "    # Acumulo la loss del batch\n",
    "    epoch_loss = epoch_loss + loss.item()\n",
    "\n",
    "  # Calculo la media de la loss\n",
    "  epoch_loss = epoch_loss / n_train\n",
    "  # Cálculo la métrica de la epoch\n",
    "  accuracy = metrics.accuracy_score( np.argmax(epoch_y, axis=1),  np.argmax(epoch_y_hat, axis=1))\n",
    "  recall = metrics.recall_score(np.argmax(epoch_y, axis=1), np.argmax(epoch_y_hat, axis=1), average='macro')\n",
    "\n",
    "  ############################################\n",
    "  ## Validación\n",
    "  ############################################\n",
    "  # Desactivo el cálculo de gradiente para validación\n",
    "  nnet.train(False)\n",
    "\n",
    "  valid_epoch_loss = 0\n",
    "  valid_epoch_y_hat = []\n",
    "  valid_epoch_y = []\n",
    "\n",
    "  for i,data in enumerate(valid_dataloader):\n",
    "    # Obtengo los datos del batch de validación\n",
    "    x_batch, y_batch = data\n",
    "    # Copio el batch al dispositivo donde entreno la red neuronal\n",
    "    x_batch = x_batch.to(device).float()\n",
    "    y_batch = y_batch.to(device).float().reshape(-1, 4)\n",
    "\n",
    "    # Paso forward\n",
    "    y_batch_hat = nnet(x_batch)\n",
    "    \n",
    "    # Calculo el loss\n",
    "    loss = loss_function(y_batch_hat, y_batch)\n",
    "\n",
    "    # En validación no hago backpropagation!!\n",
    "\n",
    "    # Almaceno los valores reales y mis predicciones para cálcular las métricas\n",
    "    valid_epoch_y += list(y_batch.detach().cpu().numpy())\n",
    "    valid_epoch_y_hat += list(y_batch_hat.detach().cpu().numpy())\n",
    "    # Acumulo la loss del batch\n",
    "    valid_epoch_loss = valid_epoch_loss + loss.item()\n",
    "\n",
    "  # Calculo la media de la loss\n",
    "  valid_epoch_loss = valid_epoch_loss / n_valid\n",
    "  # Cálculo la métrica de la epoch\n",
    "  valid_accuracy = metrics.accuracy_score(np.argmax(valid_epoch_y, axis=1), np.argmax(valid_epoch_y_hat, axis=1))\n",
    "  valid_recall = metrics.recall_score(np.argmax(valid_epoch_y, axis=1), np.argmax(valid_epoch_y_hat, axis=1), average='macro')\n",
    "\n",
    "  ############################################\n",
    "  ## Impresión de resultados por epoch\n",
    "  ############################################\n",
    "  print(f\" Epoch {epoch} | \" \\\n",
    "        f\"Train/Valid loss: {epoch_loss:.3f} / {valid_epoch_loss:.3f} | \" \\\n",
    "        f\"Train/Valid accuracy: {accuracy:.3f} / {valid_accuracy:.3f} | \" \\\n",
    "        f\"Train/Valid recall: {recall:.3f} / {valid_recall:.3f} | \")"
   ],
   "outputs": [
    {
     "name": "stdout",
     "output_type": "stream",
     "text": [
      " Epoch 0 | Train/Valid loss: 0.012 / 0.038 | Train/Valid accuracy: 0.706 / 0.337 | Train/Valid recall: 0.620 / 0.252 | \n",
      " Epoch 1 | Train/Valid loss: 0.012 / 0.039 | Train/Valid accuracy: 0.706 / 0.341 | Train/Valid recall: 0.621 / 0.252 | \n",
      " Epoch 2 | Train/Valid loss: 0.012 / 0.038 | Train/Valid accuracy: 0.706 / 0.337 | Train/Valid recall: 0.620 / 0.252 | \n",
      " Epoch 3 | Train/Valid loss: 0.012 / 0.038 | Train/Valid accuracy: 0.707 / 0.336 | Train/Valid recall: 0.621 / 0.252 | \n",
      " Epoch 4 | Train/Valid loss: 0.012 / 0.038 | Train/Valid accuracy: 0.707 / 0.338 | Train/Valid recall: 0.621 / 0.251 | \n",
      " Epoch 5 | Train/Valid loss: 0.012 / 0.039 | Train/Valid accuracy: 0.707 / 0.336 | Train/Valid recall: 0.621 / 0.252 | \n",
      " Epoch 6 | Train/Valid loss: 0.012 / 0.040 | Train/Valid accuracy: 0.707 / 0.339 | Train/Valid recall: 0.621 / 0.252 | \n",
      " Epoch 7 | Train/Valid loss: 0.011 / 0.039 | Train/Valid accuracy: 0.707 / 0.342 | Train/Valid recall: 0.621 / 0.252 | \n",
      " Epoch 8 | Train/Valid loss: 0.011 / 0.039 | Train/Valid accuracy: 0.708 / 0.337 | Train/Valid recall: 0.622 / 0.252 | \n",
      " Epoch 9 | Train/Valid loss: 0.011 / 0.039 | Train/Valid accuracy: 0.708 / 0.337 | Train/Valid recall: 0.622 / 0.252 | \n",
      " Epoch 10 | Train/Valid loss: 0.011 / 0.039 | Train/Valid accuracy: 0.708 / 0.336 | Train/Valid recall: 0.622 / 0.252 | \n",
      " Epoch 11 | Train/Valid loss: 0.011 / 0.040 | Train/Valid accuracy: 0.708 / 0.335 | Train/Valid recall: 0.622 / 0.251 | \n",
      " Epoch 12 | Train/Valid loss: 0.011 / 0.040 | Train/Valid accuracy: 0.709 / 0.337 | Train/Valid recall: 0.623 / 0.252 | \n",
      " Epoch 13 | Train/Valid loss: 0.011 / 0.040 | Train/Valid accuracy: 0.709 / 0.342 | Train/Valid recall: 0.622 / 0.251 | \n",
      " Epoch 14 | Train/Valid loss: 0.011 / 0.039 | Train/Valid accuracy: 0.709 / 0.341 | Train/Valid recall: 0.622 / 0.252 | \n",
      " Epoch 15 | Train/Valid loss: 0.011 / 0.040 | Train/Valid accuracy: 0.709 / 0.336 | Train/Valid recall: 0.622 / 0.252 | \n",
      " Epoch 16 | Train/Valid loss: 0.011 / 0.039 | Train/Valid accuracy: 0.709 / 0.340 | Train/Valid recall: 0.622 / 0.252 | \n",
      " Epoch 17 | Train/Valid loss: 0.011 / 0.040 | Train/Valid accuracy: 0.709 / 0.337 | Train/Valid recall: 0.622 / 0.252 | \n",
      " Epoch 18 | Train/Valid loss: 0.011 / 0.040 | Train/Valid accuracy: 0.709 / 0.338 | Train/Valid recall: 0.622 / 0.252 | \n",
      " Epoch 19 | Train/Valid loss: 0.011 / 0.040 | Train/Valid accuracy: 0.709 / 0.338 | Train/Valid recall: 0.623 / 0.251 | \n",
      " Epoch 20 | Train/Valid loss: 0.011 / 0.040 | Train/Valid accuracy: 0.709 / 0.342 | Train/Valid recall: 0.623 / 0.252 | \n",
      " Epoch 21 | Train/Valid loss: 0.011 / 0.040 | Train/Valid accuracy: 0.710 / 0.338 | Train/Valid recall: 0.623 / 0.252 | \n",
      " Epoch 22 | Train/Valid loss: 0.011 / 0.041 | Train/Valid accuracy: 0.710 / 0.339 | Train/Valid recall: 0.622 / 0.251 | \n",
      " Epoch 23 | Train/Valid loss: 0.011 / 0.041 | Train/Valid accuracy: 0.710 / 0.337 | Train/Valid recall: 0.623 / 0.251 | \n",
      " Epoch 24 | Train/Valid loss: 0.011 / 0.040 | Train/Valid accuracy: 0.710 / 0.338 | Train/Valid recall: 0.622 / 0.252 | \n"
     ]
    }
   ],
   "execution_count": null
  },
  {
   "cell_type": "markdown",
   "source": [
    "# Parte 2.a\n",
    "\n",
    "Implemente una arquitectura de red neuronal basada en CNN para identificar del dataset fashion MNIST las 10 clases del mismo. Sobre dicho modelo, realize una exploración de 5 variantes distintas (que se desprenden del modelo propuesto) variando alguno (o varios) de los siguientes hiperparámetros:\n",
    "- numero de capas.\n",
    "- numero de kernels.\n",
    "- tamaño de kernels.\n",
    "\n",
    "\n",
    "Evalue la evolución de la función de perdida y la accuracy (para train y test) para cada modelo en una gráfica con las curvas de los 5 modelos propuestos. Compare también el tiempo de entrenamiento y peso (tamaño) de cada modelo. Aplique técnicas de regularización para evitar overfitting. Elija el modelo que considera mejor y justifique.\n",
    "Entregables:\n",
    " - Grafica comparativa de función de perdida vs epochs para los 5 modelos.\n",
    " - Grafica comparativa de función de accuracy vs epochs para los 5 modelos.\n",
    " - Tabla comparativa (o grafico de barras) del tiempo de entrenamiento y pesos de cada modelo.\n",
    " - Justificación del modelo elegio (qué consideró para elegir el modelo y bajo qué criterio).\n",
    "\n"
   ],
   "metadata": {
    "id": "-6LncA6WwfhQ"
   }
  },
  {
   "cell_type": "code",
   "metadata": {
    "id": "srwTqvY7fKk2",
    "ExecuteTime": {
     "end_time": "2024-10-10T00:53:02.935899Z",
     "start_time": "2024-10-10T00:53:01.474362Z"
    }
   },
   "source": [
    "import torch\n",
    "from torch import nn\n",
    "from torch.utils.data import DataLoader\n",
    "from torchvision import datasets\n",
    "from torchvision.transforms import ToTensor"
   ],
   "outputs": [],
   "execution_count": 1
  },
  {
   "metadata": {
    "ExecuteTime": {
     "end_time": "2024-10-10T00:53:31.705142Z",
     "start_time": "2024-10-10T00:53:31.702316Z"
    }
   },
   "cell_type": "code",
   "source": "torch.cuda.is_available()",
   "outputs": [
    {
     "data": {
      "text/plain": [
       "False"
      ]
     },
     "execution_count": 3,
     "metadata": {},
     "output_type": "execute_result"
    }
   ],
   "execution_count": 3
  },
  {
   "cell_type": "code",
   "source": [
    "# Download train data from open datasets.\n",
    "train_data= datasets.FashionMNIST(root='data', train=True, download=True, transform=ToTensor(),)\n",
    "\n",
    "# Download test data from open datsets.\n",
    "test_data=datasets.FashionMNIST(root='data', train=False, download=True, transform=ToTensor(),)\n"
   ],
   "metadata": {
    "colab": {
     "base_uri": "https://localhost:8080/"
    },
    "id": "xNGscXTPfVNZ",
    "outputId": "250430fb-d246-4950-ec66-73057bd4fda0"
   },
   "execution_count": null,
   "outputs": [
    {
     "output_type": "stream",
     "name": "stdout",
     "text": [
      "Downloading http://fashion-mnist.s3-website.eu-central-1.amazonaws.com/train-images-idx3-ubyte.gz\n",
      "Downloading http://fashion-mnist.s3-website.eu-central-1.amazonaws.com/train-images-idx3-ubyte.gz to data/FashionMNIST/raw/train-images-idx3-ubyte.gz\n"
     ]
    },
    {
     "output_type": "stream",
     "name": "stderr",
     "text": [
      "100%|██████████| 26421880/26421880 [00:02<00:00, 12594801.85it/s]\n"
     ]
    },
    {
     "output_type": "stream",
     "name": "stdout",
     "text": [
      "Extracting data/FashionMNIST/raw/train-images-idx3-ubyte.gz to data/FashionMNIST/raw\n",
      "\n",
      "Downloading http://fashion-mnist.s3-website.eu-central-1.amazonaws.com/train-labels-idx1-ubyte.gz\n",
      "Downloading http://fashion-mnist.s3-website.eu-central-1.amazonaws.com/train-labels-idx1-ubyte.gz to data/FashionMNIST/raw/train-labels-idx1-ubyte.gz\n"
     ]
    },
    {
     "output_type": "stream",
     "name": "stderr",
     "text": [
      "100%|██████████| 29515/29515 [00:00<00:00, 199486.41it/s]\n"
     ]
    },
    {
     "output_type": "stream",
     "name": "stdout",
     "text": [
      "Extracting data/FashionMNIST/raw/train-labels-idx1-ubyte.gz to data/FashionMNIST/raw\n",
      "\n",
      "Downloading http://fashion-mnist.s3-website.eu-central-1.amazonaws.com/t10k-images-idx3-ubyte.gz\n",
      "Downloading http://fashion-mnist.s3-website.eu-central-1.amazonaws.com/t10k-images-idx3-ubyte.gz to data/FashionMNIST/raw/t10k-images-idx3-ubyte.gz\n"
     ]
    },
    {
     "output_type": "stream",
     "name": "stderr",
     "text": [
      "100%|██████████| 4422102/4422102 [00:01<00:00, 3758955.28it/s]\n"
     ]
    },
    {
     "output_type": "stream",
     "name": "stdout",
     "text": [
      "Extracting data/FashionMNIST/raw/t10k-images-idx3-ubyte.gz to data/FashionMNIST/raw\n",
      "\n",
      "Downloading http://fashion-mnist.s3-website.eu-central-1.amazonaws.com/t10k-labels-idx1-ubyte.gz\n",
      "Downloading http://fashion-mnist.s3-website.eu-central-1.amazonaws.com/t10k-labels-idx1-ubyte.gz to data/FashionMNIST/raw/t10k-labels-idx1-ubyte.gz\n"
     ]
    },
    {
     "output_type": "stream",
     "name": "stderr",
     "text": [
      "100%|██████████| 5148/5148 [00:00<00:00, 4915155.25it/s]"
     ]
    },
    {
     "output_type": "stream",
     "name": "stdout",
     "text": [
      "Extracting data/FashionMNIST/raw/t10k-labels-idx1-ubyte.gz to data/FashionMNIST/raw\n",
      "\n"
     ]
    },
    {
     "output_type": "stream",
     "name": "stderr",
     "text": [
      "\n"
     ]
    }
   ]
  },
  {
   "cell_type": "code",
   "source": [
    "import matplotlib.pyplot as plt\n",
    "\n",
    "labels_map={\n",
    "    0: 'T-shirt',\n",
    "    1: 'Trouser',\n",
    "    2: 'Pullover',\n",
    "    3: 'Dress',\n",
    "    4: 'Coat',\n",
    "    5: 'Sandal',\n",
    "    6: 'Shirt',\n",
    "    7: 'Sneaker',\n",
    "    8: 'Bag',\n",
    "    9: 'Ankle Boot',\n",
    "}\n",
    "\n",
    "figure = plt.figure(figsize = (10,10))\n",
    "cols, rows = 3, 3\n",
    "\n",
    "for i in range (1, cols*rows + 1):\n",
    "    sample_idx = torch.randint(len(train_data), size = (1,)).item()\n",
    "    image, label = train_data[sample_idx]\n",
    "    figure.add_subplot(rows, cols, i)\n",
    "    plt.title(labels_map[label])\n",
    "    plt.axis('off')\n",
    "    plt.imshow(image.squeeze(), cmap='gray')\n",
    "plt.show()"
   ],
   "metadata": {
    "colab": {
     "base_uri": "https://localhost:8080/",
     "height": 829
    },
    "id": "9mZXNPCQfbEU",
    "outputId": "bd25839b-3629-4887-e19d-390bf4ce5d60"
   },
   "execution_count": null,
   "outputs": [
    {
     "output_type": "display_data",
     "data": {
      "text/plain": [
       "<Figure size 1000x1000 with 9 Axes>"
      ],
      "image/png": "[encoded data removed]"
     },
     "metadata": {}
    }
   ]
  },
  {
   "cell_type": "code",
   "source": [],
   "metadata": {
    "id": "PWhInawBhdIE"
   },
   "execution_count": null,
   "outputs": []
  },
  {
   "cell_type": "markdown",
   "source": [
    "# Parte 2.b\n",
    "\n",
    "Empleando el modelo entrenado y elegido por Ud. en el punto anterior, realice transfer learning para procesar las imágenes del dataset MNIST (los números) **e identificar los números mayores o menores a 4,5**.\n",
    "Para el entrenamiento emplee solamente 20.000 muestras del set de entrenamiento y valide con el set de testeo. Al reducir el train set, mantenga equilibrada la distribución de las clases.\n",
    "\n",
    "Elija la estrategia de transfer learning acorde a los visto en la teoría y justifique su elección.\n",
    "\n",
    "Compare las curvas de entrenamiento y accurracy empleando transfer learning o usando la arquitectura elejida en el punto anterior pero entrenando desde cero.\n",
    "Entregables:\n",
    "- Estrategia elegida y su justificación.\n",
    "- Grafica comparativa de función de perdida vs epochs para el modelo con transfer learning y sin transfer learning.\n",
    "- Grafica comparativa de función de accuracy vs epochs para el modelo con transfer learning y sin transfer learning.\n",
    "- Comentarios sobre las curvas graficadas.\n"
   ],
   "metadata": {
    "id": "jLIuwzpm0Rz0"
   }
  }
 ]
}

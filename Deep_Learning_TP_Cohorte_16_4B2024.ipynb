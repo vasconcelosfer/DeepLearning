{
  "nbformat": 4,
  "nbformat_minor": 0,
  "metadata": {
    "colab": {
      "provenance": [],
      "gpuType": "T4"
    },
    "kernelspec": {
      "name": "python3",
      "display_name": "Python 3"
    },
    "language_info": {
      "name": "python"
    },
    "accelerator": "GPU"
  },
  "cells": [
    {
      "cell_type": "markdown",
      "metadata": {
        "id": "view-in-github"
      },
      "source": [
        "    <a href=\"https://colab.research.google.com/github/vasconcelosfer/DeepLearning/blob/main/Deep_Learning_TP_Cohorte_16_4B2024.ipynb\" target=\"_parent\"><img src=\"https://colab.research.google.com/assets/colab-badge.svg\" alt=\"Open In Colab\"/></a>"
      ]
    },
    {
      "cell_type": "markdown",
      "source": [
        "\n",
        "# Universidad de Buenos Aires\n",
        "# Deep Learning - TP\n",
        "# Cohorte 16 - 4to bimestre 2024\n"
      ],
      "metadata": {
        "id": "bm6z-kS8vmfn"
      }
    },
    {
      "cell_type": "markdown",
      "source": [
        "El TP comienza al momento de recibir este correo y la ventana de entrega estará abierta hasta **las 20hs del Lunes 21 de octubre**. La resolución es individual. Pueden utilizar los contenidos vistos en clase y otra bibliografía. Si se toman ideas de fuentes externas deben ser correctamente citadas incluyendo el correspondiente link o página de libro.\n",
        "\n",
        "El formato de entrega debe ser un “link a un colab” (permitir acceso a las siguientes direcciones: alfonsorafel93@gmail.com y lelectronfou@gmail.com) y **se realizará en el siguiente link de google form: [link](https://docs.google.com/forms/d/e/1FAIpQLSc8dLsaaKQxAbtTv5RejE6TxifO_BugdeEU_IdhKl39qMvoMg/viewform?usp=sf_link)**. Tanto los resultados, como el código y las explicaciones deben quedar guardados y visualizables en el colab.\n",
        "\n",
        "NO ES NECESARIO QUE NOS ENVIEN COREEO AVISANDO DE LA ENTREGA!\n",
        "\n",
        "**Consideraciones a tener en cuenta:**\n",
        "- Se entregará 1 solo colab para la totalidad del examen.\n",
        "- Renombrar el archivo de la siguiente manera: **APELLIDO-NOMBRE-DL-TP Co(numero de cohorte).ipynb**\n",
        "- Los códigos deben poder ejecutarse.\n",
        "- Los resultados, cómo el código y las explicaciones deben quedar guardados y visualizables en el correspondiente link.\n",
        "- Prestar atención a las consignas, responder las preguntas cuando corresponda.\n",
        "\n",
        "\n",
        "**Condiciones de aprobación**\n",
        "- Se aprueba con más del 60% del examen bien resuelto de cada parte del TP (Parte 1 y Parte 2).\n",
        "- La escala de notas empleada por la UBA es aprobado para nota igual o superior a 4."
      ],
      "metadata": {
        "id": "4Z9ecZHdv0lH"
      }
    },
    {
      "cell_type": "markdown",
      "source": [
        "# Parte 1\n",
        "Descargar el dataset del siguiente link: https://drive.google.com/file/d/1X8_G5BpQMi-Nnbtms2RL8lcWSxzD8ixd/view?usp=sharing. El dataset son compras de productos que diferentes clientes realizaron durante un black sales. El dataset contiene información sobre las transacciones y el objetivo es poder utilizarlo para crear diferentes modelos que puedan predecir cuánto un cliente está dispuesto a gastar en un producto en el futuro.\n",
        "- a) Analizar y preparar el dataset.\n",
        "\n",
        "Particularmente para los puntos b), c) y d) vamos a tratar este problema como una clasificación donde queremos averiguar si el cliente pertenece al grupo 0 (gasta menos de 5000), al grupo 1 (gasta entre 5000 y 10000), al grupo 2 (gasta entre 10000 y 15000) o al grupo 3 (gasta más de 15000).\n",
        "- b) Entrenar un modelo de deep learning que no utilice embeddings, **descartando el `product_id` y `user_id`.** . Graficar las evoluciones de la funcion de costo y la metrica de validacion. Usar capas de regularizacion en caso de considerar necesario. Explicar resultados obtenidos.\n",
        "- c)\tEntrenar un modelo de deep learning que utilice **2 capas de embeddings**, una para los productos y otra para los usuarios. Graficar las evoluciones de la funcion de costo y la metrica de validacion. Usar capas de regularizacion en caso de considerar necesario. Explicar resultados obtenidos.\n",
        "- d) Para el modelo del punto c) implementar una funcion que a reciba un id de usuario y sugiera **n** cantidad usuarios que tuvieron un comportamiento de compras similar.\n",
        "\n",
        "Para el punto e) vamos a considerar un problema de regresion, donde la salida es cuanto gasto el cliente:\n",
        "- e)\tEntrenar un de deep learning que utilice **2 capas de embeddings**, una para los productos y otra para los usuarios. Graficar las evoluciones de la funcion de costo y la metrica de validacion. Usar capas de regularizacion en caso de considerar necesario. Explicar resultados obtenidos.\n",
        "- f) Para el mejor modelo obtenido en el apartado d) elegir al menos 2 hiperparametros para tunear. Explicar el metodo utilizado y los resultados obtenidos.\n",
        "\n"
      ],
      "metadata": {
        "id": "JV4xRTZgJ39X"
      }
    },
    {
      "metadata": {
        "ExecuteTime": {
          "end_time": "2024-10-22T13:56:40.479854Z",
          "start_time": "2024-10-22T13:56:40.469634Z"
        },
        "id": "_w2RiJ13oVLz"
      },
      "cell_type": "code",
      "source": [
        "# from unittest.mock import inplace\n",
        "\n",
        "import numpy as np\n",
        "import matplotlib.pyplot as plt\n",
        "import seaborn as sns\n",
        "import pandas as pd\n",
        "import torch\n",
        "from sklearn import metrics\n",
        "from torch.utils.data import Dataset, DataLoader\n",
        "from sklearn.preprocessing import OrdinalEncoder\n",
        "from sklearn.model_selection import train_test_split"
      ],
      "outputs": [],
      "execution_count": 1
    },
    {
      "metadata": {
        "ExecuteTime": {
          "end_time": "2024-10-22T13:56:40.526486Z",
          "start_time": "2024-10-22T13:56:40.490083Z"
        },
        "colab": {
          "base_uri": "https://localhost:8080/",
          "height": 35
        },
        "id": "VMpNZzEToVL0",
        "outputId": "edaed35d-7d44-4311-9a33-47a71f7f8d08"
      },
      "cell_type": "code",
      "source": [
        "device = \"cpu\"\n",
        "if torch.cuda.is_available():\n",
        "  device = \"cuda\"\n",
        "device"
      ],
      "outputs": [
        {
          "output_type": "execute_result",
          "data": {
            "text/plain": [
              "'cuda'"
            ],
            "application/vnd.google.colaboratory.intrinsic+json": {
              "type": "string"
            }
          },
          "metadata": {},
          "execution_count": 58
        }
      ],
      "execution_count": 58
    },
    {
      "metadata": {
        "id": "FWIIIjc8oVL0"
      },
      "cell_type": "markdown",
      "source": [
        "#### a) Analizar y preparar el dataset."
      ]
    },
    {
      "metadata": {
        "ExecuteTime": {
          "end_time": "2024-10-22T13:56:41.975710Z",
          "start_time": "2024-10-22T13:56:40.531376Z"
        },
        "id": "5p6HdOW_oVL0"
      },
      "cell_type": "code",
      "source": [
        "bsales_df = pd.read_csv('dataset_black_sales.csv')"
      ],
      "outputs": [],
      "execution_count": 11
    },
    {
      "metadata": {
        "ExecuteTime": {
          "end_time": "2024-10-22T00:33:39.524551Z",
          "start_time": "2024-10-22T00:33:39.513956Z"
        },
        "id": "KX6mg6--oVL1",
        "outputId": "0747da74-0368-4977-b81c-79ec68d227b9"
      },
      "cell_type": "code",
      "source": [
        "bsales_df"
      ],
      "outputs": [
        {
          "data": {
            "text/plain": [
              "        User_ID Product_ID Gender    Age  Occupation City_Category  \\\n",
              "0       1000001  P00069042      F   0-17          10             A   \n",
              "1       1000001  P00248942      F   0-17          10             A   \n",
              "2       1000001  P00087842      F   0-17          10             A   \n",
              "3       1000001  P00085442      F   0-17          10             A   \n",
              "4       1000002  P00285442      M    55+          16             C   \n",
              "...         ...        ...    ...    ...         ...           ...   \n",
              "550063  1006033  P00372445      M  51-55          13             B   \n",
              "550064  1006035  P00375436      F  26-35           1             C   \n",
              "550065  1006036  P00375436      F  26-35          15             B   \n",
              "550066  1006038  P00375436      F    55+           1             C   \n",
              "550067  1006039  P00371644      F  46-50           0             B   \n",
              "\n",
              "       Stay_In_Current_City_Years  Marital_Status  Product_Category_1  \\\n",
              "0                               2               0                   3   \n",
              "1                               2               0                   1   \n",
              "2                               2               0                  12   \n",
              "3                               2               0                  12   \n",
              "4                              4+               0                   8   \n",
              "...                           ...             ...                 ...   \n",
              "550063                          1               1                  20   \n",
              "550064                          3               0                  20   \n",
              "550065                         4+               1                  20   \n",
              "550066                          2               0                  20   \n",
              "550067                         4+               1                  20   \n",
              "\n",
              "        Product_Category_2  Product_Category_3  Purchase  \n",
              "0                      NaN                 NaN      8370  \n",
              "1                        6                  14     15200  \n",
              "2                      NaN                 NaN      1422  \n",
              "3                       14                 NaN      1057  \n",
              "4                      NaN                 NaN      7969  \n",
              "...                    ...                 ...       ...  \n",
              "550063                 NaN                 NaN       368  \n",
              "550064                 NaN                 NaN       371  \n",
              "550065                 NaN                 NaN       137  \n",
              "550066                 NaN                 NaN       365  \n",
              "550067                 NaN                 NaN       490  \n",
              "\n",
              "[550068 rows x 12 columns]"
            ],
            "text/html": [
              "<div>\n",
              "<style scoped>\n",
              "    .dataframe tbody tr th:only-of-type {\n",
              "        vertical-align: middle;\n",
              "    }\n",
              "\n",
              "    .dataframe tbody tr th {\n",
              "        vertical-align: top;\n",
              "    }\n",
              "\n",
              "    .dataframe thead th {\n",
              "        text-align: right;\n",
              "    }\n",
              "</style>\n",
              "<table border=\"1\" class=\"dataframe\">\n",
              "  <thead>\n",
              "    <tr style=\"text-align: right;\">\n",
              "      <th></th>\n",
              "      <th>User_ID</th>\n",
              "      <th>Product_ID</th>\n",
              "      <th>Gender</th>\n",
              "      <th>Age</th>\n",
              "      <th>Occupation</th>\n",
              "      <th>City_Category</th>\n",
              "      <th>Stay_In_Current_City_Years</th>\n",
              "      <th>Marital_Status</th>\n",
              "      <th>Product_Category_1</th>\n",
              "      <th>Product_Category_2</th>\n",
              "      <th>Product_Category_3</th>\n",
              "      <th>Purchase</th>\n",
              "    </tr>\n",
              "  </thead>\n",
              "  <tbody>\n",
              "    <tr>\n",
              "      <th>0</th>\n",
              "      <td>1000001</td>\n",
              "      <td>P00069042</td>\n",
              "      <td>F</td>\n",
              "      <td>0-17</td>\n",
              "      <td>10</td>\n",
              "      <td>A</td>\n",
              "      <td>2</td>\n",
              "      <td>0</td>\n",
              "      <td>3</td>\n",
              "      <td>NaN</td>\n",
              "      <td>NaN</td>\n",
              "      <td>8370</td>\n",
              "    </tr>\n",
              "    <tr>\n",
              "      <th>1</th>\n",
              "      <td>1000001</td>\n",
              "      <td>P00248942</td>\n",
              "      <td>F</td>\n",
              "      <td>0-17</td>\n",
              "      <td>10</td>\n",
              "      <td>A</td>\n",
              "      <td>2</td>\n",
              "      <td>0</td>\n",
              "      <td>1</td>\n",
              "      <td>6</td>\n",
              "      <td>14</td>\n",
              "      <td>15200</td>\n",
              "    </tr>\n",
              "    <tr>\n",
              "      <th>2</th>\n",
              "      <td>1000001</td>\n",
              "      <td>P00087842</td>\n",
              "      <td>F</td>\n",
              "      <td>0-17</td>\n",
              "      <td>10</td>\n",
              "      <td>A</td>\n",
              "      <td>2</td>\n",
              "      <td>0</td>\n",
              "      <td>12</td>\n",
              "      <td>NaN</td>\n",
              "      <td>NaN</td>\n",
              "      <td>1422</td>\n",
              "    </tr>\n",
              "    <tr>\n",
              "      <th>3</th>\n",
              "      <td>1000001</td>\n",
              "      <td>P00085442</td>\n",
              "      <td>F</td>\n",
              "      <td>0-17</td>\n",
              "      <td>10</td>\n",
              "      <td>A</td>\n",
              "      <td>2</td>\n",
              "      <td>0</td>\n",
              "      <td>12</td>\n",
              "      <td>14</td>\n",
              "      <td>NaN</td>\n",
              "      <td>1057</td>\n",
              "    </tr>\n",
              "    <tr>\n",
              "      <th>4</th>\n",
              "      <td>1000002</td>\n",
              "      <td>P00285442</td>\n",
              "      <td>M</td>\n",
              "      <td>55+</td>\n",
              "      <td>16</td>\n",
              "      <td>C</td>\n",
              "      <td>4+</td>\n",
              "      <td>0</td>\n",
              "      <td>8</td>\n",
              "      <td>NaN</td>\n",
              "      <td>NaN</td>\n",
              "      <td>7969</td>\n",
              "    </tr>\n",
              "    <tr>\n",
              "      <th>...</th>\n",
              "      <td>...</td>\n",
              "      <td>...</td>\n",
              "      <td>...</td>\n",
              "      <td>...</td>\n",
              "      <td>...</td>\n",
              "      <td>...</td>\n",
              "      <td>...</td>\n",
              "      <td>...</td>\n",
              "      <td>...</td>\n",
              "      <td>...</td>\n",
              "      <td>...</td>\n",
              "      <td>...</td>\n",
              "    </tr>\n",
              "    <tr>\n",
              "      <th>550063</th>\n",
              "      <td>1006033</td>\n",
              "      <td>P00372445</td>\n",
              "      <td>M</td>\n",
              "      <td>51-55</td>\n",
              "      <td>13</td>\n",
              "      <td>B</td>\n",
              "      <td>1</td>\n",
              "      <td>1</td>\n",
              "      <td>20</td>\n",
              "      <td>NaN</td>\n",
              "      <td>NaN</td>\n",
              "      <td>368</td>\n",
              "    </tr>\n",
              "    <tr>\n",
              "      <th>550064</th>\n",
              "      <td>1006035</td>\n",
              "      <td>P00375436</td>\n",
              "      <td>F</td>\n",
              "      <td>26-35</td>\n",
              "      <td>1</td>\n",
              "      <td>C</td>\n",
              "      <td>3</td>\n",
              "      <td>0</td>\n",
              "      <td>20</td>\n",
              "      <td>NaN</td>\n",
              "      <td>NaN</td>\n",
              "      <td>371</td>\n",
              "    </tr>\n",
              "    <tr>\n",
              "      <th>550065</th>\n",
              "      <td>1006036</td>\n",
              "      <td>P00375436</td>\n",
              "      <td>F</td>\n",
              "      <td>26-35</td>\n",
              "      <td>15</td>\n",
              "      <td>B</td>\n",
              "      <td>4+</td>\n",
              "      <td>1</td>\n",
              "      <td>20</td>\n",
              "      <td>NaN</td>\n",
              "      <td>NaN</td>\n",
              "      <td>137</td>\n",
              "    </tr>\n",
              "    <tr>\n",
              "      <th>550066</th>\n",
              "      <td>1006038</td>\n",
              "      <td>P00375436</td>\n",
              "      <td>F</td>\n",
              "      <td>55+</td>\n",
              "      <td>1</td>\n",
              "      <td>C</td>\n",
              "      <td>2</td>\n",
              "      <td>0</td>\n",
              "      <td>20</td>\n",
              "      <td>NaN</td>\n",
              "      <td>NaN</td>\n",
              "      <td>365</td>\n",
              "    </tr>\n",
              "    <tr>\n",
              "      <th>550067</th>\n",
              "      <td>1006039</td>\n",
              "      <td>P00371644</td>\n",
              "      <td>F</td>\n",
              "      <td>46-50</td>\n",
              "      <td>0</td>\n",
              "      <td>B</td>\n",
              "      <td>4+</td>\n",
              "      <td>1</td>\n",
              "      <td>20</td>\n",
              "      <td>NaN</td>\n",
              "      <td>NaN</td>\n",
              "      <td>490</td>\n",
              "    </tr>\n",
              "  </tbody>\n",
              "</table>\n",
              "<p>550068 rows × 12 columns</p>\n",
              "</div>"
            ]
          },
          "execution_count": 436,
          "metadata": {},
          "output_type": "execute_result"
        }
      ],
      "execution_count": null
    },
    {
      "metadata": {
        "ExecuteTime": {
          "end_time": "2024-10-22T00:33:39.655081Z",
          "start_time": "2024-10-22T00:33:39.591617Z"
        },
        "id": "6VGDlLhgoVL1",
        "outputId": "45f9ae30-6d85-48ce-dbf3-95354f4c3231"
      },
      "cell_type": "code",
      "source": [
        "bsales_df.describe()"
      ],
      "outputs": [
        {
          "data": {
            "text/plain": [
              "       User_ID  Occupation  Marital_Status  Product_Category_1  \\\n",
              "count   550068      550068          550068              550068   \n",
              "mean   1003028           8               0                   5   \n",
              "std       1727           6               0                   3   \n",
              "min    1000001           0               0                   1   \n",
              "25%    1001516           2               0                   1   \n",
              "50%    1003077           7               0                   5   \n",
              "75%    1004478          14               1                   8   \n",
              "max    1006040          20               1                  20   \n",
              "\n",
              "       Product_Category_2  Product_Category_3  Purchase  \n",
              "count              376430              166821    550068  \n",
              "mean                    9                  12      9263  \n",
              "std                     5                   4      5023  \n",
              "min                     2                   3        12  \n",
              "25%                     5                   9      5823  \n",
              "50%                     9                  14      8047  \n",
              "75%                    15                  16     12054  \n",
              "max                    18                  18     23961  "
            ],
            "text/html": [
              "<div>\n",
              "<style scoped>\n",
              "    .dataframe tbody tr th:only-of-type {\n",
              "        vertical-align: middle;\n",
              "    }\n",
              "\n",
              "    .dataframe tbody tr th {\n",
              "        vertical-align: top;\n",
              "    }\n",
              "\n",
              "    .dataframe thead th {\n",
              "        text-align: right;\n",
              "    }\n",
              "</style>\n",
              "<table border=\"1\" class=\"dataframe\">\n",
              "  <thead>\n",
              "    <tr style=\"text-align: right;\">\n",
              "      <th></th>\n",
              "      <th>User_ID</th>\n",
              "      <th>Occupation</th>\n",
              "      <th>Marital_Status</th>\n",
              "      <th>Product_Category_1</th>\n",
              "      <th>Product_Category_2</th>\n",
              "      <th>Product_Category_3</th>\n",
              "      <th>Purchase</th>\n",
              "    </tr>\n",
              "  </thead>\n",
              "  <tbody>\n",
              "    <tr>\n",
              "      <th>count</th>\n",
              "      <td>550068</td>\n",
              "      <td>550068</td>\n",
              "      <td>550068</td>\n",
              "      <td>550068</td>\n",
              "      <td>376430</td>\n",
              "      <td>166821</td>\n",
              "      <td>550068</td>\n",
              "    </tr>\n",
              "    <tr>\n",
              "      <th>mean</th>\n",
              "      <td>1003028</td>\n",
              "      <td>8</td>\n",
              "      <td>0</td>\n",
              "      <td>5</td>\n",
              "      <td>9</td>\n",
              "      <td>12</td>\n",
              "      <td>9263</td>\n",
              "    </tr>\n",
              "    <tr>\n",
              "      <th>std</th>\n",
              "      <td>1727</td>\n",
              "      <td>6</td>\n",
              "      <td>0</td>\n",
              "      <td>3</td>\n",
              "      <td>5</td>\n",
              "      <td>4</td>\n",
              "      <td>5023</td>\n",
              "    </tr>\n",
              "    <tr>\n",
              "      <th>min</th>\n",
              "      <td>1000001</td>\n",
              "      <td>0</td>\n",
              "      <td>0</td>\n",
              "      <td>1</td>\n",
              "      <td>2</td>\n",
              "      <td>3</td>\n",
              "      <td>12</td>\n",
              "    </tr>\n",
              "    <tr>\n",
              "      <th>25%</th>\n",
              "      <td>1001516</td>\n",
              "      <td>2</td>\n",
              "      <td>0</td>\n",
              "      <td>1</td>\n",
              "      <td>5</td>\n",
              "      <td>9</td>\n",
              "      <td>5823</td>\n",
              "    </tr>\n",
              "    <tr>\n",
              "      <th>50%</th>\n",
              "      <td>1003077</td>\n",
              "      <td>7</td>\n",
              "      <td>0</td>\n",
              "      <td>5</td>\n",
              "      <td>9</td>\n",
              "      <td>14</td>\n",
              "      <td>8047</td>\n",
              "    </tr>\n",
              "    <tr>\n",
              "      <th>75%</th>\n",
              "      <td>1004478</td>\n",
              "      <td>14</td>\n",
              "      <td>1</td>\n",
              "      <td>8</td>\n",
              "      <td>15</td>\n",
              "      <td>16</td>\n",
              "      <td>12054</td>\n",
              "    </tr>\n",
              "    <tr>\n",
              "      <th>max</th>\n",
              "      <td>1006040</td>\n",
              "      <td>20</td>\n",
              "      <td>1</td>\n",
              "      <td>20</td>\n",
              "      <td>18</td>\n",
              "      <td>18</td>\n",
              "      <td>23961</td>\n",
              "    </tr>\n",
              "  </tbody>\n",
              "</table>\n",
              "</div>"
            ]
          },
          "execution_count": 437,
          "metadata": {},
          "output_type": "execute_result"
        }
      ],
      "execution_count": null
    },
    {
      "metadata": {
        "ExecuteTime": {
          "end_time": "2024-10-22T00:33:39.913204Z",
          "start_time": "2024-10-22T00:33:39.754044Z"
        },
        "id": "-PG1cYlJoVL2",
        "outputId": "e0446c81-affd-48f4-f936-de1dae9d7479"
      },
      "cell_type": "code",
      "source": [
        "bsales_df.describe(include=['O'])"
      ],
      "outputs": [
        {
          "data": {
            "text/plain": [
              "       Product_ID  Gender     Age City_Category Stay_In_Current_City_Years\n",
              "count      550068  550068  550068        550068                     550068\n",
              "unique       3631       2       7             3                          5\n",
              "top     P00265242       M   26-35             B                          1\n",
              "freq         1880  414259  219587        231173                     193821"
            ],
            "text/html": [
              "<div>\n",
              "<style scoped>\n",
              "    .dataframe tbody tr th:only-of-type {\n",
              "        vertical-align: middle;\n",
              "    }\n",
              "\n",
              "    .dataframe tbody tr th {\n",
              "        vertical-align: top;\n",
              "    }\n",
              "\n",
              "    .dataframe thead th {\n",
              "        text-align: right;\n",
              "    }\n",
              "</style>\n",
              "<table border=\"1\" class=\"dataframe\">\n",
              "  <thead>\n",
              "    <tr style=\"text-align: right;\">\n",
              "      <th></th>\n",
              "      <th>Product_ID</th>\n",
              "      <th>Gender</th>\n",
              "      <th>Age</th>\n",
              "      <th>City_Category</th>\n",
              "      <th>Stay_In_Current_City_Years</th>\n",
              "    </tr>\n",
              "  </thead>\n",
              "  <tbody>\n",
              "    <tr>\n",
              "      <th>count</th>\n",
              "      <td>550068</td>\n",
              "      <td>550068</td>\n",
              "      <td>550068</td>\n",
              "      <td>550068</td>\n",
              "      <td>550068</td>\n",
              "    </tr>\n",
              "    <tr>\n",
              "      <th>unique</th>\n",
              "      <td>3631</td>\n",
              "      <td>2</td>\n",
              "      <td>7</td>\n",
              "      <td>3</td>\n",
              "      <td>5</td>\n",
              "    </tr>\n",
              "    <tr>\n",
              "      <th>top</th>\n",
              "      <td>P00265242</td>\n",
              "      <td>M</td>\n",
              "      <td>26-35</td>\n",
              "      <td>B</td>\n",
              "      <td>1</td>\n",
              "    </tr>\n",
              "    <tr>\n",
              "      <th>freq</th>\n",
              "      <td>1880</td>\n",
              "      <td>414259</td>\n",
              "      <td>219587</td>\n",
              "      <td>231173</td>\n",
              "      <td>193821</td>\n",
              "    </tr>\n",
              "  </tbody>\n",
              "</table>\n",
              "</div>"
            ]
          },
          "execution_count": 438,
          "metadata": {},
          "output_type": "execute_result"
        }
      ],
      "execution_count": null
    },
    {
      "metadata": {
        "ExecuteTime": {
          "end_time": "2024-10-22T00:33:40.000550Z",
          "start_time": "2024-10-22T00:33:39.935137Z"
        },
        "id": "AcvfWPDgoVL2",
        "outputId": "e1300143-ddc7-4631-8540-7deec2a5eb1c"
      },
      "cell_type": "code",
      "source": [
        "bsales_df.info()"
      ],
      "outputs": [
        {
          "name": "stdout",
          "output_type": "stream",
          "text": [
            "<class 'pandas.core.frame.DataFrame'>\n",
            "RangeIndex: 550068 entries, 0 to 550067\n",
            "Data columns (total 12 columns):\n",
            " #   Column                      Non-Null Count   Dtype  \n",
            "---  ------                      --------------   -----  \n",
            " 0   User_ID                     550068 non-null  int64  \n",
            " 1   Product_ID                  550068 non-null  object \n",
            " 2   Gender                      550068 non-null  object \n",
            " 3   Age                         550068 non-null  object \n",
            " 4   Occupation                  550068 non-null  int64  \n",
            " 5   City_Category               550068 non-null  object \n",
            " 6   Stay_In_Current_City_Years  550068 non-null  object \n",
            " 7   Marital_Status              550068 non-null  int64  \n",
            " 8   Product_Category_1          550068 non-null  int64  \n",
            " 9   Product_Category_2          376430 non-null  float64\n",
            " 10  Product_Category_3          166821 non-null  float64\n",
            " 11  Purchase                    550068 non-null  int64  \n",
            "dtypes: float64(2), int64(5), object(5)\n",
            "memory usage: 50.4+ MB\n"
          ]
        }
      ],
      "execution_count": null
    },
    {
      "metadata": {
        "id": "NP0msNX7oVL2"
      },
      "cell_type": "markdown",
      "source": [
        "Del análisis inicial observamos que el dataset cuenta con 550068 registros. Tiene 11 atributos y el target Compras (Purchase). A continuación listamos los atributos:\n",
        "\n",
        "Atributos:\n",
        "\n",
        "- User_ID: Número de identificación del comprador. Variable del tipo cualitativa nominal.  \n",
        "- Product_ID: Número de identificación del producto. Variable del tipo cualitativa nominal.\n",
        "- Gender: Género del comprador. Variable del tipo cualitativa nominal.\n",
        "- Age: Edad del comprado. Variable del tipo cualitativa ordinal.\n",
        "- Occupation: Ocupación del comprador. Variable del tipo cualitativa nominal.  \n",
        "- City_Category: Categoría de ciudad. Variable del tipo cualitativa nominal.\n",
        "- Stay_In_Current_City_Years: Años de residencia en la ciudad.  Variable del tipo cualitativa ordinal.  \n",
        "- Marital_Status: Estado civil del comprador. Variable del tipo cualitativa nominal.  \n",
        "- Product_Category_1: Categoría de producto. Variable cuantitativa discreta (si bien es un tipo de dato flotante todos los valores son enteros. Entendemos que se encuentra en este tipo de dato por tener valores faltantes).\n",
        "- Product_Category_2: Categoría de producto. Variable cuantitativa discreta (si bien es un tipo de dato flotante todos los valores son enteros. Entendemos que se encuentra en este tipo de dato por tener valores faltantes).\n",
        "- Product_Category_3: Categoría de producto. Variable cuantitativa discreta (si bien es un tipo de dato flotante todos los valores son enteros. Entendemos que se encuentra en este tipo de dato por tener valores faltantes).\n",
        "\n",
        "Target:\n",
        "- Purchase: Monto gastado. Variable cuantitativa discreta.\n",
        "NOTA: Dado que los puntos b), c) y d), vamos a entrenar una red para un problema de clasificación. Vamos a crear una columna del tipo cualitativa ordinal para agrupar al cliente en 4 grupos dependiendo del monto gastado.\n",
        "    - grupo 0 (gasta menos de 5000)\n",
        "    - grupo 1 (gasta entre 5000 y 10000)\n",
        "    - grupo 2 (gasta entre 10000 y 15000)\n",
        "    - grupo 3 (gasta más de 15000)   "
      ]
    },
    {
      "metadata": {
        "ExecuteTime": {
          "end_time": "2024-10-22T14:06:43.047815Z",
          "start_time": "2024-10-22T14:06:42.702527Z"
        },
        "id": "oe3ZFk22oVL2",
        "outputId": "2d7b7b61-6336-46d8-d043-3deeb32bc1fd"
      },
      "cell_type": "code",
      "source": [
        "bsales_df.nunique()"
      ],
      "outputs": [
        {
          "data": {
            "text/plain": [
              "User_ID                        5891\n",
              "Product_ID                     3631\n",
              "Gender                            2\n",
              "Age                               7\n",
              "Occupation                       21\n",
              "City_Category                     3\n",
              "Stay_In_Current_City_Years        5\n",
              "Marital_Status                    2\n",
              "Product_Category_1               20\n",
              "Product_Category_2               17\n",
              "Product_Category_3               15\n",
              "Purchase                      18105\n",
              "Purchase_Category                 4\n",
              "dtype: int64"
            ]
          },
          "execution_count": 6,
          "metadata": {},
          "output_type": "execute_result"
        }
      ],
      "execution_count": null
    },
    {
      "metadata": {
        "id": "-jASHNtuoVL2"
      },
      "cell_type": "markdown",
      "source": [
        "Graficamos histograma de Purchase Category para ver como están balanceadas las categorías:"
      ]
    },
    {
      "metadata": {
        "ExecuteTime": {
          "end_time": "2024-10-22T14:06:58.650438Z",
          "start_time": "2024-10-22T14:06:44.829739Z"
        },
        "id": "o4YNw6W0oVL3"
      },
      "cell_type": "code",
      "source": [
        "def set_purchase_category(row):\n",
        "    if row['Purchase'] < 5000:\n",
        "        return 0\n",
        "    elif 5000 <= row['Purchase'] < 10000:\n",
        "        return 1\n",
        "    elif 10000 <= row['Purchase'] < 15000:\n",
        "        return 2\n",
        "    else:\n",
        "        return 3\n",
        "\n",
        "bsales_df['Purchase_Category'] = bsales_df.apply(set_purchase_category, axis=1)"
      ],
      "outputs": [],
      "execution_count": 12
    },
    {
      "metadata": {
        "ExecuteTime": {
          "end_time": "2024-10-22T14:07:04.322639Z",
          "start_time": "2024-10-22T14:07:02.428766Z"
        },
        "id": "WO0J8MLOoVL3",
        "outputId": "0c7287c5-7109-46d9-9828-d2439f37b4f3"
      },
      "cell_type": "code",
      "source": [
        "sns.histplot(bsales_df, x=bsales_df['Purchase_Category'], stat='count', discrete=True)\n",
        "plt.title('Histograma Categoría de compras')\n",
        "plt.ylabel('Cantidad de compras')\n",
        "plt.xlabel('Grupo')\n",
        "plt.xticks([0,1,2,3])\n",
        "plt.show()"
      ],
      "outputs": [
        {
          "data": {
            "text/plain": [
              "<Figure size 640x480 with 1 Axes>"
            ],
            "image/png": "[encoded data removed]"
          },
          "metadata": {},
          "output_type": "display_data"
        }
      ],
      "execution_count": null
    },
    {
      "metadata": {
        "id": "Fibc8DDgoVL3"
      },
      "cell_type": "markdown",
      "source": [
        "Como podemos observar hay un desbalanceo ya que hay mas compras del grupo 1."
      ]
    },
    {
      "metadata": {
        "id": "cUmcWbHyoVL3"
      },
      "cell_type": "markdown",
      "source": [
        "#### Codificación de variables categoricas"
      ]
    },
    {
      "metadata": {
        "id": "d9ScQOtDoVL3"
      },
      "cell_type": "markdown",
      "source": [
        "Mapeamos los generos en 0 y 1:"
      ]
    },
    {
      "metadata": {
        "ExecuteTime": {
          "end_time": "2024-10-22T14:07:09.225451Z",
          "start_time": "2024-10-22T14:07:09.188507Z"
        },
        "id": "3gNpy1zuoVL3"
      },
      "cell_type": "code",
      "source": [
        "bsales_df.insert(bsales_df.columns.get_loc('Gender')+1, 'Encode_Gender', bsales_df['Gender'].map({'F':0, 'M':1}))"
      ],
      "outputs": [],
      "execution_count": 13
    },
    {
      "metadata": {
        "id": "bZe6fLBmoVL3"
      },
      "cell_type": "markdown",
      "source": [
        "Codificamos los rangos de edad"
      ]
    },
    {
      "metadata": {
        "ExecuteTime": {
          "end_time": "2024-10-22T14:07:11.066474Z",
          "start_time": "2024-10-22T14:07:11.018679Z"
        },
        "colab": {
          "base_uri": "https://localhost:8080/"
        },
        "id": "q28tr7k6oVL4",
        "outputId": "64bc3b4f-01dd-46df-eeed-eeb5176784ba"
      },
      "cell_type": "code",
      "source": [
        "bsales_df['Age'].unique()"
      ],
      "outputs": [
        {
          "output_type": "execute_result",
          "data": {
            "text/plain": [
              "array(['0-17', '55+', '26-35', '46-50', '51-55', '36-45', '18-25', nan],\n",
              "      dtype=object)"
            ]
          },
          "metadata": {},
          "execution_count": 8
        }
      ],
      "execution_count": 8
    },
    {
      "metadata": {
        "ExecuteTime": {
          "end_time": "2024-10-22T14:07:11.866454Z",
          "start_time": "2024-10-22T14:07:11.670511Z"
        },
        "id": "U8FJB3H1oVL4"
      },
      "cell_type": "code",
      "source": [
        "age_label= ['0-17','18-25','26-35','36-45','46-50', '51-55', '55+']\n",
        "encoder = OrdinalEncoder(categories=[age_label])\n",
        "bsales_df.insert(bsales_df.columns.get_loc('Age')+1, 'Encode_Age', encoder.fit_transform(bsales_df[['Age']]))\n",
        "bsales_df['Encode_Age'] = bsales_df['Encode_Age'].astype(int)"
      ],
      "outputs": [],
      "execution_count": 14
    },
    {
      "metadata": {
        "id": "cfFWTxNPoVL4"
      },
      "cell_type": "markdown",
      "source": [
        "Codificamos las categorías de ciudad con One-Hot Encoding"
      ]
    },
    {
      "metadata": {
        "ExecuteTime": {
          "end_time": "2024-10-22T14:07:13.661509Z",
          "start_time": "2024-10-22T14:07:13.270515Z"
        },
        "id": "1nbxIr-joVL4"
      },
      "cell_type": "code",
      "source": [
        "dummies_bsales_df = pd.get_dummies(bsales_df['City_Category'], columns=['City_Category'], prefix='City').astype(int)\n",
        "city_category_index = bsales_df.columns.get_loc('City_Category') + 1\n",
        "bsales_df = pd.concat([bsales_df.iloc[:,:city_category_index], dummies_bsales_df, bsales_df.iloc[:,city_category_index:]], axis=1)"
      ],
      "outputs": [],
      "execution_count": 15
    },
    {
      "metadata": {
        "id": "Kj4aH95koVL4"
      },
      "cell_type": "markdown",
      "source": [
        "Para el caso de la columna Stay_In_Current_City_Years remplazamos 4+ por 4 y convertimos a int"
      ]
    },
    {
      "metadata": {
        "ExecuteTime": {
          "end_time": "2024-10-22T14:07:15.295825Z",
          "start_time": "2024-10-22T14:07:15.117691Z"
        },
        "id": "bAOb20zboVL4"
      },
      "cell_type": "code",
      "source": [
        "bsales_df['Stay_In_Current_City_Years']= bsales_df['Stay_In_Current_City_Years'].replace('4+', '4').astype(int)"
      ],
      "outputs": [],
      "execution_count": 16
    },
    {
      "metadata": {
        "id": "QIEr3n2moVL4"
      },
      "cell_type": "markdown",
      "source": [
        "En el caso de los valores faltantes en Product_Category_2 y Product_Category_3, reemplazamos el valor faltante por -1"
      ]
    },
    {
      "metadata": {
        "ExecuteTime": {
          "end_time": "2024-10-22T14:07:16.227820Z",
          "start_time": "2024-10-22T14:07:16.216135Z"
        },
        "colab": {
          "base_uri": "https://localhost:8080/"
        },
        "id": "CAibv-swoVL4",
        "outputId": "b863073a-cc8b-4318-860b-7ff59c10c1b3"
      },
      "cell_type": "code",
      "source": [
        "bsales_df['Product_Category_2'].fillna(-1, inplace=True)\n",
        "bsales_df['Product_Category_3'].fillna(-1, inplace=True)"
      ],
      "outputs": [
        {
          "output_type": "stream",
          "name": "stderr",
          "text": [
            "<ipython-input-17-66d700239363>:1: FutureWarning: A value is trying to be set on a copy of a DataFrame or Series through chained assignment using an inplace method.\n",
            "The behavior will change in pandas 3.0. This inplace method will never work because the intermediate object on which we are setting values always behaves as a copy.\n",
            "\n",
            "For example, when doing 'df[col].method(value, inplace=True)', try using 'df.method({col: value}, inplace=True)' or df[col] = df[col].method(value) instead, to perform the operation inplace on the original object.\n",
            "\n",
            "\n",
            "  bsales_df['Product_Category_2'].fillna(-1, inplace=True)\n",
            "<ipython-input-17-66d700239363>:2: FutureWarning: A value is trying to be set on a copy of a DataFrame or Series through chained assignment using an inplace method.\n",
            "The behavior will change in pandas 3.0. This inplace method will never work because the intermediate object on which we are setting values always behaves as a copy.\n",
            "\n",
            "For example, when doing 'df[col].method(value, inplace=True)', try using 'df.method({col: value}, inplace=True)' or df[col] = df[col].method(value) instead, to perform the operation inplace on the original object.\n",
            "\n",
            "\n",
            "  bsales_df['Product_Category_3'].fillna(-1, inplace=True)\n"
          ]
        }
      ],
      "execution_count": 17
    },
    {
      "metadata": {
        "ExecuteTime": {
          "end_time": "2024-10-22T14:07:16.993579Z",
          "start_time": "2024-10-22T14:07:16.963928Z"
        },
        "id": "2of7sRK4oVL5"
      },
      "cell_type": "code",
      "source": [
        "bsales_df['Product_Category_2'] = bsales_df['Product_Category_2'].astype(int)\n",
        "bsales_df['Product_Category_3'] = bsales_df['Product_Category_3'].astype(int)"
      ],
      "outputs": [],
      "execution_count": 18
    },
    {
      "metadata": {
        "id": "FEQFrC7UoVL5"
      },
      "cell_type": "markdown",
      "source": [
        "Preparamos y dividimos el dataset para entrenar y validar la red neuronal"
      ]
    },
    {
      "metadata": {
        "ExecuteTime": {
          "end_time": "2024-10-22T14:07:18.427185Z",
          "start_time": "2024-10-22T14:07:18.340932Z"
        },
        "id": "XFGAjzPMoVL5"
      },
      "cell_type": "code",
      "source": [
        "bsales_df.drop(['Gender', 'Age', 'City_Category'], axis=1, inplace=True)"
      ],
      "outputs": [],
      "execution_count": 19
    },
    {
      "metadata": {
        "ExecuteTime": {
          "end_time": "2024-10-22T14:07:19.756340Z",
          "start_time": "2024-10-22T14:07:19.350958Z"
        },
        "id": "I-Md-K0goVL5"
      },
      "cell_type": "code",
      "source": [
        "bsales_df_nn = bsales_df.copy()"
      ],
      "outputs": [],
      "execution_count": 20
    },
    {
      "metadata": {
        "id": "jaQluJVZoVL5"
      },
      "cell_type": "markdown",
      "source": [
        "Por último, para los puntos b), c) y d) resulta un problema de clasificación multiclase. Por lo tanto, vamos a crear la columna Pruchase Category con los siguientes valores: 0 (gasta menos de 5000), 1 (gasta entre 5000 y 10000), 2 (gasta entre 10000 y 15000) o 3 (gasta más de 15000).    \n",
        "Luego aplicamos one hot encondig."
      ]
    },
    {
      "metadata": {
        "ExecuteTime": {
          "end_time": "2024-10-22T14:07:20.456174Z",
          "start_time": "2024-10-22T14:07:20.453281Z"
        },
        "id": "SMWgVJIUoVL5"
      },
      "cell_type": "code",
      "source": [
        "# purchase_category_onehot = pd.get_dummies(bsales_df_nn['Purchase_Category'], columns=['Purchase_Category'], prefix='Group').astype(int)\n",
        "# bsales_df_nn = pd.concat([bsales_df_nn, purchase_category_onehot], axis=1)\n"
      ],
      "outputs": [],
      "execution_count": null
    },
    {
      "metadata": {
        "ExecuteTime": {
          "end_time": "2024-10-22T14:07:21.511186Z",
          "start_time": "2024-10-22T14:07:21.478109Z"
        },
        "id": "32KBbBJ7oVL5",
        "outputId": "0f983b88-989a-4346-b2e8-c844da4d578b"
      },
      "cell_type": "code",
      "source": [
        "bsales_df_nn"
      ],
      "outputs": [
        {
          "data": {
            "text/plain": [
              "        User_ID Product_ID  Encode_Gender  Encode_Age  Occupation  City_A  \\\n",
              "0       1000001  P00069042              0           0          10       1   \n",
              "1       1000001  P00248942              0           0          10       1   \n",
              "2       1000001  P00087842              0           0          10       1   \n",
              "3       1000001  P00085442              0           0          10       1   \n",
              "4       1000002  P00285442              1           6          16       0   \n",
              "...         ...        ...            ...         ...         ...     ...   \n",
              "550063  1006033  P00372445              1           5          13       0   \n",
              "550064  1006035  P00375436              0           2           1       0   \n",
              "550065  1006036  P00375436              0           2          15       0   \n",
              "550066  1006038  P00375436              0           6           1       0   \n",
              "550067  1006039  P00371644              0           4           0       0   \n",
              "\n",
              "        City_B  City_C  Stay_In_Current_City_Years  Marital_Status  \\\n",
              "0            0       0                           2               0   \n",
              "1            0       0                           2               0   \n",
              "2            0       0                           2               0   \n",
              "3            0       0                           2               0   \n",
              "4            0       1                           4               0   \n",
              "...        ...     ...                         ...             ...   \n",
              "550063       1       0                           1               1   \n",
              "550064       0       1                           3               0   \n",
              "550065       1       0                           4               1   \n",
              "550066       0       1                           2               0   \n",
              "550067       1       0                           4               1   \n",
              "\n",
              "        Product_Category_1  Product_Category_2  Product_Category_3  Purchase  \\\n",
              "0                        3                  -1                  -1      8370   \n",
              "1                        1                   6                  14     15200   \n",
              "2                       12                  -1                  -1      1422   \n",
              "3                       12                  14                  -1      1057   \n",
              "4                        8                  -1                  -1      7969   \n",
              "...                    ...                 ...                 ...       ...   \n",
              "550063                  20                  -1                  -1       368   \n",
              "550064                  20                  -1                  -1       371   \n",
              "550065                  20                  -1                  -1       137   \n",
              "550066                  20                  -1                  -1       365   \n",
              "550067                  20                  -1                  -1       490   \n",
              "\n",
              "        Purchase_Category  \n",
              "0                       1  \n",
              "1                       3  \n",
              "2                       0  \n",
              "3                       0  \n",
              "4                       1  \n",
              "...                   ...  \n",
              "550063                  0  \n",
              "550064                  0  \n",
              "550065                  0  \n",
              "550066                  0  \n",
              "550067                  0  \n",
              "\n",
              "[550068 rows x 15 columns]"
            ],
            "text/html": [
              "<div>\n",
              "<style scoped>\n",
              "    .dataframe tbody tr th:only-of-type {\n",
              "        vertical-align: middle;\n",
              "    }\n",
              "\n",
              "    .dataframe tbody tr th {\n",
              "        vertical-align: top;\n",
              "    }\n",
              "\n",
              "    .dataframe thead th {\n",
              "        text-align: right;\n",
              "    }\n",
              "</style>\n",
              "<table border=\"1\" class=\"dataframe\">\n",
              "  <thead>\n",
              "    <tr style=\"text-align: right;\">\n",
              "      <th></th>\n",
              "      <th>User_ID</th>\n",
              "      <th>Product_ID</th>\n",
              "      <th>Encode_Gender</th>\n",
              "      <th>Encode_Age</th>\n",
              "      <th>Occupation</th>\n",
              "      <th>City_A</th>\n",
              "      <th>City_B</th>\n",
              "      <th>City_C</th>\n",
              "      <th>Stay_In_Current_City_Years</th>\n",
              "      <th>Marital_Status</th>\n",
              "      <th>Product_Category_1</th>\n",
              "      <th>Product_Category_2</th>\n",
              "      <th>Product_Category_3</th>\n",
              "      <th>Purchase</th>\n",
              "      <th>Purchase_Category</th>\n",
              "    </tr>\n",
              "  </thead>\n",
              "  <tbody>\n",
              "    <tr>\n",
              "      <th>0</th>\n",
              "      <td>1000001</td>\n",
              "      <td>P00069042</td>\n",
              "      <td>0</td>\n",
              "      <td>0</td>\n",
              "      <td>10</td>\n",
              "      <td>1</td>\n",
              "      <td>0</td>\n",
              "      <td>0</td>\n",
              "      <td>2</td>\n",
              "      <td>0</td>\n",
              "      <td>3</td>\n",
              "      <td>-1</td>\n",
              "      <td>-1</td>\n",
              "      <td>8370</td>\n",
              "      <td>1</td>\n",
              "    </tr>\n",
              "    <tr>\n",
              "      <th>1</th>\n",
              "      <td>1000001</td>\n",
              "      <td>P00248942</td>\n",
              "      <td>0</td>\n",
              "      <td>0</td>\n",
              "      <td>10</td>\n",
              "      <td>1</td>\n",
              "      <td>0</td>\n",
              "      <td>0</td>\n",
              "      <td>2</td>\n",
              "      <td>0</td>\n",
              "      <td>1</td>\n",
              "      <td>6</td>\n",
              "      <td>14</td>\n",
              "      <td>15200</td>\n",
              "      <td>3</td>\n",
              "    </tr>\n",
              "    <tr>\n",
              "      <th>2</th>\n",
              "      <td>1000001</td>\n",
              "      <td>P00087842</td>\n",
              "      <td>0</td>\n",
              "      <td>0</td>\n",
              "      <td>10</td>\n",
              "      <td>1</td>\n",
              "      <td>0</td>\n",
              "      <td>0</td>\n",
              "      <td>2</td>\n",
              "      <td>0</td>\n",
              "      <td>12</td>\n",
              "      <td>-1</td>\n",
              "      <td>-1</td>\n",
              "      <td>1422</td>\n",
              "      <td>0</td>\n",
              "    </tr>\n",
              "    <tr>\n",
              "      <th>3</th>\n",
              "      <td>1000001</td>\n",
              "      <td>P00085442</td>\n",
              "      <td>0</td>\n",
              "      <td>0</td>\n",
              "      <td>10</td>\n",
              "      <td>1</td>\n",
              "      <td>0</td>\n",
              "      <td>0</td>\n",
              "      <td>2</td>\n",
              "      <td>0</td>\n",
              "      <td>12</td>\n",
              "      <td>14</td>\n",
              "      <td>-1</td>\n",
              "      <td>1057</td>\n",
              "      <td>0</td>\n",
              "    </tr>\n",
              "    <tr>\n",
              "      <th>4</th>\n",
              "      <td>1000002</td>\n",
              "      <td>P00285442</td>\n",
              "      <td>1</td>\n",
              "      <td>6</td>\n",
              "      <td>16</td>\n",
              "      <td>0</td>\n",
              "      <td>0</td>\n",
              "      <td>1</td>\n",
              "      <td>4</td>\n",
              "      <td>0</td>\n",
              "      <td>8</td>\n",
              "      <td>-1</td>\n",
              "      <td>-1</td>\n",
              "      <td>7969</td>\n",
              "      <td>1</td>\n",
              "    </tr>\n",
              "    <tr>\n",
              "      <th>...</th>\n",
              "      <td>...</td>\n",
              "      <td>...</td>\n",
              "      <td>...</td>\n",
              "      <td>...</td>\n",
              "      <td>...</td>\n",
              "      <td>...</td>\n",
              "      <td>...</td>\n",
              "      <td>...</td>\n",
              "      <td>...</td>\n",
              "      <td>...</td>\n",
              "      <td>...</td>\n",
              "      <td>...</td>\n",
              "      <td>...</td>\n",
              "      <td>...</td>\n",
              "      <td>...</td>\n",
              "    </tr>\n",
              "    <tr>\n",
              "      <th>550063</th>\n",
              "      <td>1006033</td>\n",
              "      <td>P00372445</td>\n",
              "      <td>1</td>\n",
              "      <td>5</td>\n",
              "      <td>13</td>\n",
              "      <td>0</td>\n",
              "      <td>1</td>\n",
              "      <td>0</td>\n",
              "      <td>1</td>\n",
              "      <td>1</td>\n",
              "      <td>20</td>\n",
              "      <td>-1</td>\n",
              "      <td>-1</td>\n",
              "      <td>368</td>\n",
              "      <td>0</td>\n",
              "    </tr>\n",
              "    <tr>\n",
              "      <th>550064</th>\n",
              "      <td>1006035</td>\n",
              "      <td>P00375436</td>\n",
              "      <td>0</td>\n",
              "      <td>2</td>\n",
              "      <td>1</td>\n",
              "      <td>0</td>\n",
              "      <td>0</td>\n",
              "      <td>1</td>\n",
              "      <td>3</td>\n",
              "      <td>0</td>\n",
              "      <td>20</td>\n",
              "      <td>-1</td>\n",
              "      <td>-1</td>\n",
              "      <td>371</td>\n",
              "      <td>0</td>\n",
              "    </tr>\n",
              "    <tr>\n",
              "      <th>550065</th>\n",
              "      <td>1006036</td>\n",
              "      <td>P00375436</td>\n",
              "      <td>0</td>\n",
              "      <td>2</td>\n",
              "      <td>15</td>\n",
              "      <td>0</td>\n",
              "      <td>1</td>\n",
              "      <td>0</td>\n",
              "      <td>4</td>\n",
              "      <td>1</td>\n",
              "      <td>20</td>\n",
              "      <td>-1</td>\n",
              "      <td>-1</td>\n",
              "      <td>137</td>\n",
              "      <td>0</td>\n",
              "    </tr>\n",
              "    <tr>\n",
              "      <th>550066</th>\n",
              "      <td>1006038</td>\n",
              "      <td>P00375436</td>\n",
              "      <td>0</td>\n",
              "      <td>6</td>\n",
              "      <td>1</td>\n",
              "      <td>0</td>\n",
              "      <td>0</td>\n",
              "      <td>1</td>\n",
              "      <td>2</td>\n",
              "      <td>0</td>\n",
              "      <td>20</td>\n",
              "      <td>-1</td>\n",
              "      <td>-1</td>\n",
              "      <td>365</td>\n",
              "      <td>0</td>\n",
              "    </tr>\n",
              "    <tr>\n",
              "      <th>550067</th>\n",
              "      <td>1006039</td>\n",
              "      <td>P00371644</td>\n",
              "      <td>0</td>\n",
              "      <td>4</td>\n",
              "      <td>0</td>\n",
              "      <td>0</td>\n",
              "      <td>1</td>\n",
              "      <td>0</td>\n",
              "      <td>4</td>\n",
              "      <td>1</td>\n",
              "      <td>20</td>\n",
              "      <td>-1</td>\n",
              "      <td>-1</td>\n",
              "      <td>490</td>\n",
              "      <td>0</td>\n",
              "    </tr>\n",
              "  </tbody>\n",
              "</table>\n",
              "<p>550068 rows × 15 columns</p>\n",
              "</div>"
            ]
          },
          "execution_count": 19,
          "metadata": {},
          "output_type": "execute_result"
        }
      ],
      "execution_count": null
    },
    {
      "metadata": {
        "id": "cFiLosqroVL6"
      },
      "cell_type": "markdown",
      "source": [
        "### b) Entrenar un modelo de deep learning que no utilice embeddings, **descartando el `product_id` y `user_id`.** . Graficar las evoluciones de la funcion de costo y la metrica de validacion. Usar capas de regularizacion en caso de considerar necesario. Explicar resultados obtenidos."
      ]
    },
    {
      "metadata": {
        "ExecuteTime": {
          "end_time": "2024-10-22T00:33:54.815580Z",
          "start_time": "2024-10-22T00:33:54.790814Z"
        },
        "id": "6COe9C1KoVL6"
      },
      "cell_type": "code",
      "source": [
        "bsales_df_nn_without_embeddings = bsales_df_nn.drop(['User_ID', 'Product_ID', 'Purchase'], axis=1, inplace=False)\n"
      ],
      "outputs": [],
      "execution_count": null
    },
    {
      "metadata": {
        "ExecuteTime": {
          "end_time": "2024-10-22T00:33:57.729079Z",
          "start_time": "2024-10-22T00:33:57.674818Z"
        },
        "id": "oSuNs2bzoVL6",
        "outputId": "edee2ff1-8689-4a0f-ece5-0e1df910702f"
      },
      "cell_type": "code",
      "source": [
        "# x = bsales_df_nn_without_embeddings.drop(columns=['Group_0', 'Group_1', 'Group_2', 'Group_3']).values\n",
        "x = bsales_df_nn_without_embeddings.drop(columns=['Purchase_Category']).values\n",
        "# y = bsales_df_nn_without_embeddings[['Group_0', 'Group_1', 'Group_2', 'Group_3']].values\n",
        "y = bsales_df_nn_without_embeddings['Purchase_Category'].values\n",
        "bsales_df_nn_without_embeddings"
      ],
      "outputs": [
        {
          "data": {
            "text/plain": [
              "        Encode_Gender  Encode_Age  Occupation  City_A  City_B  City_C  \\\n",
              "0                   0           0          10       1       0       0   \n",
              "1                   0           0          10       1       0       0   \n",
              "2                   0           0          10       1       0       0   \n",
              "3                   0           0          10       1       0       0   \n",
              "4                   1           6          16       0       0       1   \n",
              "...               ...         ...         ...     ...     ...     ...   \n",
              "550063              1           5          13       0       1       0   \n",
              "550064              0           2           1       0       0       1   \n",
              "550065              0           2          15       0       1       0   \n",
              "550066              0           6           1       0       0       1   \n",
              "550067              0           4           0       0       1       0   \n",
              "\n",
              "        Stay_In_Current_City_Years  Marital_Status  Product_Category_1  \\\n",
              "0                                2               0                   3   \n",
              "1                                2               0                   1   \n",
              "2                                2               0                  12   \n",
              "3                                2               0                  12   \n",
              "4                                4               0                   8   \n",
              "...                            ...             ...                 ...   \n",
              "550063                           1               1                  20   \n",
              "550064                           3               0                  20   \n",
              "550065                           4               1                  20   \n",
              "550066                           2               0                  20   \n",
              "550067                           4               1                  20   \n",
              "\n",
              "        Product_Category_2  Product_Category_3  Purchase_Category  \n",
              "0                       -1                  -1                  1  \n",
              "1                        6                  14                  3  \n",
              "2                       -1                  -1                  0  \n",
              "3                       14                  -1                  0  \n",
              "4                       -1                  -1                  1  \n",
              "...                    ...                 ...                ...  \n",
              "550063                  -1                  -1                  0  \n",
              "550064                  -1                  -1                  0  \n",
              "550065                  -1                  -1                  0  \n",
              "550066                  -1                  -1                  0  \n",
              "550067                  -1                  -1                  0  \n",
              "\n",
              "[550068 rows x 12 columns]"
            ],
            "text/html": [
              "<div>\n",
              "<style scoped>\n",
              "    .dataframe tbody tr th:only-of-type {\n",
              "        vertical-align: middle;\n",
              "    }\n",
              "\n",
              "    .dataframe tbody tr th {\n",
              "        vertical-align: top;\n",
              "    }\n",
              "\n",
              "    .dataframe thead th {\n",
              "        text-align: right;\n",
              "    }\n",
              "</style>\n",
              "<table border=\"1\" class=\"dataframe\">\n",
              "  <thead>\n",
              "    <tr style=\"text-align: right;\">\n",
              "      <th></th>\n",
              "      <th>Encode_Gender</th>\n",
              "      <th>Encode_Age</th>\n",
              "      <th>Occupation</th>\n",
              "      <th>City_A</th>\n",
              "      <th>City_B</th>\n",
              "      <th>City_C</th>\n",
              "      <th>Stay_In_Current_City_Years</th>\n",
              "      <th>Marital_Status</th>\n",
              "      <th>Product_Category_1</th>\n",
              "      <th>Product_Category_2</th>\n",
              "      <th>Product_Category_3</th>\n",
              "      <th>Purchase_Category</th>\n",
              "    </tr>\n",
              "  </thead>\n",
              "  <tbody>\n",
              "    <tr>\n",
              "      <th>0</th>\n",
              "      <td>0</td>\n",
              "      <td>0</td>\n",
              "      <td>10</td>\n",
              "      <td>1</td>\n",
              "      <td>0</td>\n",
              "      <td>0</td>\n",
              "      <td>2</td>\n",
              "      <td>0</td>\n",
              "      <td>3</td>\n",
              "      <td>-1</td>\n",
              "      <td>-1</td>\n",
              "      <td>1</td>\n",
              "    </tr>\n",
              "    <tr>\n",
              "      <th>1</th>\n",
              "      <td>0</td>\n",
              "      <td>0</td>\n",
              "      <td>10</td>\n",
              "      <td>1</td>\n",
              "      <td>0</td>\n",
              "      <td>0</td>\n",
              "      <td>2</td>\n",
              "      <td>0</td>\n",
              "      <td>1</td>\n",
              "      <td>6</td>\n",
              "      <td>14</td>\n",
              "      <td>3</td>\n",
              "    </tr>\n",
              "    <tr>\n",
              "      <th>2</th>\n",
              "      <td>0</td>\n",
              "      <td>0</td>\n",
              "      <td>10</td>\n",
              "      <td>1</td>\n",
              "      <td>0</td>\n",
              "      <td>0</td>\n",
              "      <td>2</td>\n",
              "      <td>0</td>\n",
              "      <td>12</td>\n",
              "      <td>-1</td>\n",
              "      <td>-1</td>\n",
              "      <td>0</td>\n",
              "    </tr>\n",
              "    <tr>\n",
              "      <th>3</th>\n",
              "      <td>0</td>\n",
              "      <td>0</td>\n",
              "      <td>10</td>\n",
              "      <td>1</td>\n",
              "      <td>0</td>\n",
              "      <td>0</td>\n",
              "      <td>2</td>\n",
              "      <td>0</td>\n",
              "      <td>12</td>\n",
              "      <td>14</td>\n",
              "      <td>-1</td>\n",
              "      <td>0</td>\n",
              "    </tr>\n",
              "    <tr>\n",
              "      <th>4</th>\n",
              "      <td>1</td>\n",
              "      <td>6</td>\n",
              "      <td>16</td>\n",
              "      <td>0</td>\n",
              "      <td>0</td>\n",
              "      <td>1</td>\n",
              "      <td>4</td>\n",
              "      <td>0</td>\n",
              "      <td>8</td>\n",
              "      <td>-1</td>\n",
              "      <td>-1</td>\n",
              "      <td>1</td>\n",
              "    </tr>\n",
              "    <tr>\n",
              "      <th>...</th>\n",
              "      <td>...</td>\n",
              "      <td>...</td>\n",
              "      <td>...</td>\n",
              "      <td>...</td>\n",
              "      <td>...</td>\n",
              "      <td>...</td>\n",
              "      <td>...</td>\n",
              "      <td>...</td>\n",
              "      <td>...</td>\n",
              "      <td>...</td>\n",
              "      <td>...</td>\n",
              "      <td>...</td>\n",
              "    </tr>\n",
              "    <tr>\n",
              "      <th>550063</th>\n",
              "      <td>1</td>\n",
              "      <td>5</td>\n",
              "      <td>13</td>\n",
              "      <td>0</td>\n",
              "      <td>1</td>\n",
              "      <td>0</td>\n",
              "      <td>1</td>\n",
              "      <td>1</td>\n",
              "      <td>20</td>\n",
              "      <td>-1</td>\n",
              "      <td>-1</td>\n",
              "      <td>0</td>\n",
              "    </tr>\n",
              "    <tr>\n",
              "      <th>550064</th>\n",
              "      <td>0</td>\n",
              "      <td>2</td>\n",
              "      <td>1</td>\n",
              "      <td>0</td>\n",
              "      <td>0</td>\n",
              "      <td>1</td>\n",
              "      <td>3</td>\n",
              "      <td>0</td>\n",
              "      <td>20</td>\n",
              "      <td>-1</td>\n",
              "      <td>-1</td>\n",
              "      <td>0</td>\n",
              "    </tr>\n",
              "    <tr>\n",
              "      <th>550065</th>\n",
              "      <td>0</td>\n",
              "      <td>2</td>\n",
              "      <td>15</td>\n",
              "      <td>0</td>\n",
              "      <td>1</td>\n",
              "      <td>0</td>\n",
              "      <td>4</td>\n",
              "      <td>1</td>\n",
              "      <td>20</td>\n",
              "      <td>-1</td>\n",
              "      <td>-1</td>\n",
              "      <td>0</td>\n",
              "    </tr>\n",
              "    <tr>\n",
              "      <th>550066</th>\n",
              "      <td>0</td>\n",
              "      <td>6</td>\n",
              "      <td>1</td>\n",
              "      <td>0</td>\n",
              "      <td>0</td>\n",
              "      <td>1</td>\n",
              "      <td>2</td>\n",
              "      <td>0</td>\n",
              "      <td>20</td>\n",
              "      <td>-1</td>\n",
              "      <td>-1</td>\n",
              "      <td>0</td>\n",
              "    </tr>\n",
              "    <tr>\n",
              "      <th>550067</th>\n",
              "      <td>0</td>\n",
              "      <td>4</td>\n",
              "      <td>0</td>\n",
              "      <td>0</td>\n",
              "      <td>1</td>\n",
              "      <td>0</td>\n",
              "      <td>4</td>\n",
              "      <td>1</td>\n",
              "      <td>20</td>\n",
              "      <td>-1</td>\n",
              "      <td>-1</td>\n",
              "      <td>0</td>\n",
              "    </tr>\n",
              "  </tbody>\n",
              "</table>\n",
              "<p>550068 rows × 12 columns</p>\n",
              "</div>"
            ]
          },
          "execution_count": 455,
          "metadata": {},
          "output_type": "execute_result"
        }
      ],
      "execution_count": null
    },
    {
      "metadata": {
        "ExecuteTime": {
          "end_time": "2024-10-22T00:33:59.263275Z",
          "start_time": "2024-10-22T00:33:59.181320Z"
        },
        "id": "bGvGvZEAoVL6"
      },
      "cell_type": "code",
      "source": [
        "# Normalización min max\n",
        "x_norm = (x - np.min(x, axis=0)) / (np.max(x, axis=0 ) - np.min(x, axis=0))"
      ],
      "outputs": [],
      "execution_count": null
    },
    {
      "metadata": {
        "ExecuteTime": {
          "end_time": "2024-10-22T00:33:59.536249Z",
          "start_time": "2024-10-22T00:33:59.473132Z"
        },
        "id": "xZavcklxoVL6"
      },
      "cell_type": "code",
      "source": [
        "x_train, x_valid, y_train, y_valid = train_test_split(x_norm, y, test_size=0.15, random_state=42)\n",
        "# Pytorch necesita de una clase de dataset que extienda de torch.utils.data.Dataset\n",
        "# Esta clase dataset debe sobreescribir los métodos init, len y getitem\n",
        "class PurchaseCategoryDataset(Dataset):\n",
        "  #__init__ guarda el dataset en una variable de clase\n",
        "  def __init__(self, x, y):\n",
        "    self.x = x\n",
        "    self.y = y\n",
        "\n",
        "  # __len__ define el comportamiento de la función len() sobre el objeto\n",
        "  def __len__(self):\n",
        "    return self.x.shape[0]\n",
        "\n",
        "  # __getitem__ define el comportamiento de los []\n",
        "  def __getitem__(self, idx):\n",
        "    return self.x[idx], self.y[idx]"
      ],
      "outputs": [],
      "execution_count": null
    },
    {
      "metadata": {
        "ExecuteTime": {
          "end_time": "2024-10-22T00:33:59.664641Z",
          "start_time": "2024-10-22T00:33:59.662178Z"
        },
        "id": "ZbjuzgNsoVL7"
      },
      "cell_type": "code",
      "source": [
        "# Creo el dataset de entrenamiento\n",
        "train_ds = PurchaseCategoryDataset(x_train, y_train)\n",
        "# Creo el dataset de validación\n",
        "valid_ds = PurchaseCategoryDataset(x_valid, y_valid)\n",
        "\n",
        "# Pytorch utiliza DataLoader para entregar los dataset de a batches\n",
        "train_dataloader = DataLoader(train_ds, batch_size = 64, shuffle= True)\n",
        "valid_dataloader = DataLoader(valid_ds, batch_size=64)"
      ],
      "outputs": [],
      "execution_count": null
    },
    {
      "metadata": {
        "ExecuteTime": {
          "end_time": "2024-10-22T00:34:00.343771Z",
          "start_time": "2024-10-22T00:34:00.340648Z"
        },
        "id": "wv0hQ-DooVL7",
        "outputId": "620ad5e5-d9fa-412b-f520-1e0520d9371b"
      },
      "cell_type": "code",
      "source": [
        "x_train"
      ],
      "outputs": [
        {
          "data": {
            "text/plain": [
              "array([[1.        , 0.33333333, 0.2       , ..., 0.        , 0.15789474,\n",
              "        0.84210526],\n",
              "       [1.        , 0.33333333, 0.25      , ..., 0.21052632, 0.68421053,\n",
              "        0.        ],\n",
              "       [0.        , 0.66666667, 0.15      , ..., 0.36842105, 0.78947368,\n",
              "        0.89473684],\n",
              "       ...,\n",
              "       [0.        , 0.16666667, 0.05      , ..., 0.21052632, 0.        ,\n",
              "        0.        ],\n",
              "       [0.        , 0.16666667, 0.2       , ..., 0.36842105, 0.78947368,\n",
              "        0.        ],\n",
              "       [0.        , 0.16666667, 0.1       , ..., 0.21052632, 0.78947368,\n",
              "        0.        ]])"
            ]
          },
          "execution_count": 459,
          "metadata": {},
          "output_type": "execute_result"
        }
      ],
      "execution_count": null
    },
    {
      "metadata": {
        "ExecuteTime": {
          "end_time": "2024-10-22T02:52:24.370739Z",
          "start_time": "2024-10-22T02:52:24.367483Z"
        },
        "id": "-HsrfULSoVL7"
      },
      "cell_type": "code",
      "source": [
        "# Arquitectura red neuronal\n",
        "class NNet(torch.nn.Module):\n",
        "\n",
        "  def __init__(self):\n",
        "    # Defino la arquitectura de la red\n",
        "    super().__init__()\n",
        "    self.linear_1 = torch.nn.Linear(in_features=11, out_features=128, bias=True)\n",
        "    self.relu_1 = torch.nn.ReLU()\n",
        "    self.linear_2 = torch.nn.Linear(in_features = 128, out_features=64, bias=True)\n",
        "    self.relu_2 = torch.nn.ReLU()\n",
        "    self.linear_3 = torch.nn.Linear(in_features = 64, out_features=16, bias=True)\n",
        "    # self.relu_3 = torch.nn.ReLU()\n",
        "    # self.linear_4 = torch.nn.Linear(in_features = 64, out_features= 16, bias=True)\n",
        "    # self.relu_4 = torch.nn.ReLU()\n",
        "    # self.linear_5 = torch.nn.Linear(in_features = 64, out_features= 16, bias=True)\n",
        "    # self.relu_5 = torch.nn.ReLU()\n",
        "    self.output = torch.nn.Linear(in_features = 16, out_features=4, bias=True)\n",
        "\n",
        "  def forward(self, x):\n",
        "    # Defino el cálculo del paso forward\n",
        "    x = self.linear_1(x)\n",
        "    x = self.relu_1(x)\n",
        "    x = self.linear_2(x)\n",
        "    x = self.relu_2(x)\n",
        "    x = self.linear_3(x)\n",
        "    # x = self.relu_3(x)\n",
        "    # x = self.linear_4(x)\n",
        "    # x = self.relu_4(x)\n",
        "    # x = self.linear_5(x)\n",
        "    # x = self.relu_5(x)\n",
        "    x = self.output(x)\n",
        "    return x"
      ],
      "outputs": [],
      "execution_count": null
    },
    {
      "metadata": {
        "ExecuteTime": {
          "end_time": "2024-10-22T02:52:24.762884Z",
          "start_time": "2024-10-22T02:52:24.760238Z"
        },
        "id": "WAlONTBuoVL7"
      },
      "cell_type": "code",
      "source": [
        "# Dado que las clases se encuentran desbalanceadas vamos a utilizar el argumento weight de CrossEntropy\n",
        "class_counts = np.bincount(y_train)\n",
        "class_weights = 1. / class_counts  # Invertir la frecuencia para dar más peso a las clases menos frecuentes\n",
        "class_weights = class_weights / class_weights.sum()"
      ],
      "outputs": [],
      "execution_count": null
    },
    {
      "metadata": {
        "ExecuteTime": {
          "end_time": "2024-10-22T02:52:25.077837Z",
          "start_time": "2024-10-22T02:52:25.075389Z"
        },
        "id": "d3Wz--LPoVL8"
      },
      "cell_type": "code",
      "source": [
        "weights = torch.tensor(class_weights, dtype=torch.float).to(device)"
      ],
      "outputs": [],
      "execution_count": null
    },
    {
      "metadata": {
        "ExecuteTime": {
          "end_time": "2024-10-22T02:52:25.401557Z",
          "start_time": "2024-10-22T02:52:25.398605Z"
        },
        "id": "Uv9cwfW_oVL8"
      },
      "cell_type": "code",
      "source": [
        "# Instanciamos la red\n",
        "nnet = NNet()\n",
        "# Copio la red neuronal al dispositivo donde entrene la red neuronal\n",
        "nnet = nnet.to(device)\n",
        "# Loss\n",
        "loss_function = torch.nn.CrossEntropyLoss(weight=weights, reduction='sum')\n",
        "# loss_function = torch.nn.CrossEntropyLoss(reduction='sum')\n",
        "    # torch.nn.BCELoss(reduction='sum'))\n",
        "# Optimizer\n",
        "optimizer = torch.optim.Adam(nnet.parameters(), lr=0.001)"
      ],
      "outputs": [],
      "execution_count": null
    },
    {
      "metadata": {
        "ExecuteTime": {
          "end_time": "2024-10-22T03:07:50.898503Z",
          "start_time": "2024-10-22T02:52:26.108009Z"
        },
        "id": "IW7Z0g1loVL8",
        "outputId": "4275ad7f-7809-4baf-cc19-772a86efd267"
      },
      "cell_type": "code",
      "source": [
        "# cantidad de epochs\n",
        "epochs = 100\n",
        "train_loss_by_epoch=[]\n",
        "valid_loss_by_epoch=[]\n",
        "train_accuracy_by_epoch=[]\n",
        "valid_accuracy_by_epoch=[]\n",
        "n_train = len(train_ds)\n",
        "n_valid = len(valid_ds)\n",
        "# Doble loop algoritmo Mini-Batch\n",
        "for epoch in range(epochs):\n",
        "\n",
        "  ############################################\n",
        "  ## Entrenamiento\n",
        "  ############################################\n",
        "  nnet.train(True)\n",
        "\n",
        "  epoch_loss = 0\n",
        "  epoch_y_hat = []\n",
        "  epoch_y = []\n",
        "\n",
        "  for i,data in enumerate(train_dataloader):\n",
        "    # Obtengo los datos del batch de entrenamiento\n",
        "    x_batch, y_batch = data\n",
        "    # Copio el batch al dispositivo donde entreno la red neuronal\n",
        "    x_batch = x_batch.to(device).float()\n",
        "    y_batch = y_batch.to(device).long()\n",
        "\n",
        "\n",
        "    # Paso forward\n",
        "    # Limpio optimizer para empezar un nuevo cálculo de gradiente\n",
        "    optimizer.zero_grad()\n",
        "    y_batch_hat = nnet(x_batch)\n",
        "    # print(y_batch_hat)\n",
        "    # Calculo el loss\n",
        "    loss = loss_function(y_batch_hat,y_batch)\n",
        "    # print(loss.item())\n",
        "    # Backpropagation\n",
        "    loss.backward()\n",
        "\n",
        "    # Actualizar los parámetros\n",
        "    optimizer.step()\n",
        "\n",
        "    # Almaceno los valores reales y mis predicciones para cálcular las métricas\n",
        "    epoch_y += list(y_batch.detach().cpu().numpy())\n",
        "    epoch_y_hat += list(np.argmax(y_batch_hat.detach().cpu().numpy(), axis=1))\n",
        "    # Acumulo la loss del batch\n",
        "    epoch_loss = epoch_loss + loss.item()\n",
        "\n",
        "  # Calculo la media de la loss\n",
        "  epoch_loss = epoch_loss / n_train\n",
        "  # Cálculo la métrica de la epoch\n",
        "  accuracy = metrics.accuracy_score(epoch_y,  epoch_y_hat)\n",
        "  recall = metrics.recall_score(epoch_y, epoch_y_hat, average='macro')\n",
        "  train_loss_by_epoch.append(epoch_loss)\n",
        "  train_accuracy_by_epoch.append(accuracy)\n",
        "  ############################################\n",
        "  ## Validación\n",
        "  ############################################\n",
        "  # Desactivo el cálculo de gradiente para validación\n",
        "  nnet.train(False)\n",
        "\n",
        "  valid_epoch_loss = 0\n",
        "  valid_epoch_y_hat = []\n",
        "  valid_epoch_y = []\n",
        "\n",
        "  for i,data in enumerate(valid_dataloader):\n",
        "    # Obtengo los datos del batch de validación\n",
        "    x_batch, y_batch = data\n",
        "    # Copio el batch al dispositivo donde entreno la red neuronal\n",
        "    x_batch = x_batch.to(device).float()\n",
        "    y_batch = y_batch.to(device).long()\n",
        "\n",
        "\n",
        "    # Paso forward\n",
        "    y_batch_hat = nnet(x_batch)\n",
        "\n",
        "    # Calculo el loss\n",
        "    loss = loss_function(y_batch_hat, y_batch)\n",
        "\n",
        "    # En validación no hago backpropagation!!\n",
        "\n",
        "    # Almaceno los valores reales y mis predicciones para cálcular las métricas\n",
        "    valid_epoch_y += list(y_batch.detach().cpu().numpy())\n",
        "    valid_epoch_y_hat += list(np.argmax(y_batch_hat.detach().cpu().numpy(), axis=1))\n",
        "    # Acumulo la loss del batch\n",
        "    valid_epoch_loss = valid_epoch_loss + loss.item()\n",
        "\n",
        "  # Calculo la media de la loss\n",
        "  valid_epoch_loss = valid_epoch_loss / n_valid\n",
        "  # Cálculo la métrica de la epoch\n",
        "  valid_accuracy = metrics.accuracy_score(valid_epoch_y, valid_epoch_y_hat)\n",
        "  valid_recall = metrics.recall_score(valid_epoch_y, valid_epoch_y_hat, average='macro')\n",
        "  valid_loss_by_epoch.append(valid_epoch_loss)\n",
        "  valid_accuracy_by_epoch.append(valid_accuracy)\n",
        "  ############################################\n",
        "  ## Impresión de resultados por epoch\n",
        "  ############################################\n",
        "  print(f\" Epoch {epoch} | \" \\\n",
        "        f\"Train/Valid loss: {epoch_loss:.3f} / {valid_epoch_loss:.3f} | \" \\\n",
        "        f\"Train/Valid accuracy: {accuracy:.3f} / {valid_accuracy:.3f} | \" \\\n",
        "        f\"Train/Valid recall: {recall:.3f} / {valid_recall:.3f} | \")"
      ],
      "outputs": [
        {
          "name": "stdout",
          "output_type": "stream",
          "text": [
            " Epoch 0 | Train/Valid loss: 0.205 / 0.191 | Train/Valid accuracy: 0.637 / 0.681 | Train/Valid recall: 0.561 / 0.597 | \n",
            " Epoch 1 | Train/Valid loss: 0.174 / 0.173 | Train/Valid accuracy: 0.693 / 0.699 | Train/Valid recall: 0.618 / 0.628 | \n",
            " Epoch 2 | Train/Valid loss: 0.170 / 0.170 | Train/Valid accuracy: 0.697 / 0.700 | Train/Valid recall: 0.623 / 0.626 | \n",
            " Epoch 3 | Train/Valid loss: 0.168 / 0.169 | Train/Valid accuracy: 0.698 / 0.684 | Train/Valid recall: 0.625 / 0.616 | \n",
            " Epoch 4 | Train/Valid loss: 0.167 / 0.166 | Train/Valid accuracy: 0.700 / 0.704 | Train/Valid recall: 0.626 / 0.627 | \n",
            " Epoch 5 | Train/Valid loss: 0.166 / 0.167 | Train/Valid accuracy: 0.700 / 0.707 | Train/Valid recall: 0.627 / 0.631 | \n",
            " Epoch 6 | Train/Valid loss: 0.166 / 0.165 | Train/Valid accuracy: 0.700 / 0.709 | Train/Valid recall: 0.627 / 0.631 | \n",
            " Epoch 7 | Train/Valid loss: 0.166 / 0.167 | Train/Valid accuracy: 0.701 / 0.709 | Train/Valid recall: 0.629 / 0.632 | \n",
            " Epoch 8 | Train/Valid loss: 0.165 / 0.165 | Train/Valid accuracy: 0.701 / 0.705 | Train/Valid recall: 0.629 / 0.632 | \n",
            " Epoch 9 | Train/Valid loss: 0.165 / 0.164 | Train/Valid accuracy: 0.702 / 0.705 | Train/Valid recall: 0.630 / 0.633 | \n",
            " Epoch 10 | Train/Valid loss: 0.164 / 0.165 | Train/Valid accuracy: 0.702 / 0.705 | Train/Valid recall: 0.630 / 0.632 | \n",
            " Epoch 11 | Train/Valid loss: 0.164 / 0.165 | Train/Valid accuracy: 0.701 / 0.701 | Train/Valid recall: 0.629 / 0.632 | \n",
            " Epoch 12 | Train/Valid loss: 0.164 / 0.165 | Train/Valid accuracy: 0.702 / 0.699 | Train/Valid recall: 0.631 / 0.629 | \n",
            " Epoch 13 | Train/Valid loss: 0.164 / 0.164 | Train/Valid accuracy: 0.702 / 0.692 | Train/Valid recall: 0.631 / 0.632 | \n",
            " Epoch 14 | Train/Valid loss: 0.164 / 0.166 | Train/Valid accuracy: 0.702 / 0.702 | Train/Valid recall: 0.631 / 0.632 | \n",
            " Epoch 15 | Train/Valid loss: 0.164 / 0.164 | Train/Valid accuracy: 0.703 / 0.708 | Train/Valid recall: 0.631 / 0.636 | \n",
            " Epoch 16 | Train/Valid loss: 0.163 / 0.163 | Train/Valid accuracy: 0.702 / 0.706 | Train/Valid recall: 0.632 / 0.631 | \n",
            " Epoch 17 | Train/Valid loss: 0.163 / 0.164 | Train/Valid accuracy: 0.702 / 0.711 | Train/Valid recall: 0.632 / 0.633 | \n",
            " Epoch 18 | Train/Valid loss: 0.163 / 0.164 | Train/Valid accuracy: 0.702 / 0.694 | Train/Valid recall: 0.632 / 0.629 | \n",
            " Epoch 19 | Train/Valid loss: 0.163 / 0.163 | Train/Valid accuracy: 0.703 / 0.699 | Train/Valid recall: 0.632 / 0.628 | \n",
            " Epoch 20 | Train/Valid loss: 0.163 / 0.163 | Train/Valid accuracy: 0.703 / 0.695 | Train/Valid recall: 0.632 / 0.633 | \n",
            " Epoch 21 | Train/Valid loss: 0.163 / 0.163 | Train/Valid accuracy: 0.703 / 0.711 | Train/Valid recall: 0.633 / 0.633 | \n",
            " Epoch 22 | Train/Valid loss: 0.163 / 0.163 | Train/Valid accuracy: 0.703 / 0.702 | Train/Valid recall: 0.632 / 0.635 | \n",
            " Epoch 23 | Train/Valid loss: 0.163 / 0.163 | Train/Valid accuracy: 0.703 / 0.701 | Train/Valid recall: 0.633 / 0.630 | \n",
            " Epoch 24 | Train/Valid loss: 0.163 / 0.163 | Train/Valid accuracy: 0.703 / 0.708 | Train/Valid recall: 0.633 / 0.636 | \n",
            " Epoch 25 | Train/Valid loss: 0.162 / 0.163 | Train/Valid accuracy: 0.703 / 0.704 | Train/Valid recall: 0.633 / 0.635 | \n",
            " Epoch 26 | Train/Valid loss: 0.162 / 0.163 | Train/Valid accuracy: 0.703 / 0.684 | Train/Valid recall: 0.633 / 0.627 | \n",
            " Epoch 27 | Train/Valid loss: 0.162 / 0.163 | Train/Valid accuracy: 0.703 / 0.701 | Train/Valid recall: 0.633 / 0.631 | \n",
            " Epoch 28 | Train/Valid loss: 0.162 / 0.163 | Train/Valid accuracy: 0.704 / 0.704 | Train/Valid recall: 0.634 / 0.633 | \n",
            " Epoch 29 | Train/Valid loss: 0.162 / 0.163 | Train/Valid accuracy: 0.703 / 0.709 | Train/Valid recall: 0.634 / 0.636 | \n",
            " Epoch 30 | Train/Valid loss: 0.162 / 0.163 | Train/Valid accuracy: 0.703 / 0.711 | Train/Valid recall: 0.634 / 0.635 | \n",
            " Epoch 31 | Train/Valid loss: 0.162 / 0.163 | Train/Valid accuracy: 0.703 / 0.711 | Train/Valid recall: 0.634 / 0.636 | \n",
            " Epoch 32 | Train/Valid loss: 0.162 / 0.162 | Train/Valid accuracy: 0.703 / 0.707 | Train/Valid recall: 0.634 / 0.635 | \n",
            " Epoch 33 | Train/Valid loss: 0.162 / 0.163 | Train/Valid accuracy: 0.703 / 0.699 | Train/Valid recall: 0.634 / 0.634 | \n",
            " Epoch 34 | Train/Valid loss: 0.162 / 0.163 | Train/Valid accuracy: 0.703 / 0.710 | Train/Valid recall: 0.634 / 0.634 | \n",
            " Epoch 35 | Train/Valid loss: 0.162 / 0.163 | Train/Valid accuracy: 0.703 / 0.700 | Train/Valid recall: 0.635 / 0.631 | \n",
            " Epoch 36 | Train/Valid loss: 0.162 / 0.162 | Train/Valid accuracy: 0.703 / 0.710 | Train/Valid recall: 0.635 / 0.636 | \n",
            " Epoch 37 | Train/Valid loss: 0.161 / 0.162 | Train/Valid accuracy: 0.703 / 0.702 | Train/Valid recall: 0.635 / 0.633 | \n",
            " Epoch 38 | Train/Valid loss: 0.161 / 0.162 | Train/Valid accuracy: 0.703 / 0.700 | Train/Valid recall: 0.635 / 0.629 | \n",
            " Epoch 39 | Train/Valid loss: 0.161 / 0.162 | Train/Valid accuracy: 0.703 / 0.710 | Train/Valid recall: 0.635 / 0.636 | \n",
            " Epoch 40 | Train/Valid loss: 0.161 / 0.162 | Train/Valid accuracy: 0.704 / 0.707 | Train/Valid recall: 0.636 / 0.637 | \n",
            " Epoch 41 | Train/Valid loss: 0.161 / 0.162 | Train/Valid accuracy: 0.703 / 0.698 | Train/Valid recall: 0.635 / 0.634 | \n",
            " Epoch 42 | Train/Valid loss: 0.161 / 0.162 | Train/Valid accuracy: 0.703 / 0.706 | Train/Valid recall: 0.635 / 0.636 | \n",
            " Epoch 43 | Train/Valid loss: 0.161 / 0.162 | Train/Valid accuracy: 0.704 / 0.708 | Train/Valid recall: 0.636 / 0.635 | \n",
            " Epoch 44 | Train/Valid loss: 0.161 / 0.162 | Train/Valid accuracy: 0.704 / 0.699 | Train/Valid recall: 0.636 / 0.632 | \n",
            " Epoch 45 | Train/Valid loss: 0.161 / 0.162 | Train/Valid accuracy: 0.704 / 0.706 | Train/Valid recall: 0.636 / 0.636 | \n",
            " Epoch 46 | Train/Valid loss: 0.161 / 0.162 | Train/Valid accuracy: 0.704 / 0.708 | Train/Valid recall: 0.636 / 0.633 | \n",
            " Epoch 47 | Train/Valid loss: 0.161 / 0.161 | Train/Valid accuracy: 0.704 / 0.705 | Train/Valid recall: 0.636 / 0.638 | \n",
            " Epoch 48 | Train/Valid loss: 0.161 / 0.161 | Train/Valid accuracy: 0.704 / 0.708 | Train/Valid recall: 0.637 / 0.637 | \n",
            " Epoch 49 | Train/Valid loss: 0.161 / 0.161 | Train/Valid accuracy: 0.704 / 0.709 | Train/Valid recall: 0.636 / 0.637 | \n",
            " Epoch 50 | Train/Valid loss: 0.161 / 0.161 | Train/Valid accuracy: 0.704 / 0.703 | Train/Valid recall: 0.636 / 0.636 | \n",
            " Epoch 51 | Train/Valid loss: 0.161 / 0.161 | Train/Valid accuracy: 0.704 / 0.701 | Train/Valid recall: 0.636 / 0.637 | \n",
            " Epoch 52 | Train/Valid loss: 0.161 / 0.163 | Train/Valid accuracy: 0.704 / 0.708 | Train/Valid recall: 0.637 / 0.634 | \n",
            " Epoch 53 | Train/Valid loss: 0.161 / 0.162 | Train/Valid accuracy: 0.704 / 0.708 | Train/Valid recall: 0.637 / 0.637 | \n",
            " Epoch 54 | Train/Valid loss: 0.161 / 0.161 | Train/Valid accuracy: 0.704 / 0.705 | Train/Valid recall: 0.637 / 0.635 | \n",
            " Epoch 55 | Train/Valid loss: 0.161 / 0.162 | Train/Valid accuracy: 0.704 / 0.709 | Train/Valid recall: 0.637 / 0.637 | \n",
            " Epoch 56 | Train/Valid loss: 0.161 / 0.162 | Train/Valid accuracy: 0.704 / 0.703 | Train/Valid recall: 0.637 / 0.635 | \n",
            " Epoch 57 | Train/Valid loss: 0.161 / 0.163 | Train/Valid accuracy: 0.703 / 0.708 | Train/Valid recall: 0.636 / 0.636 | \n",
            " Epoch 58 | Train/Valid loss: 0.161 / 0.162 | Train/Valid accuracy: 0.704 / 0.689 | Train/Valid recall: 0.637 / 0.634 | \n",
            " Epoch 59 | Train/Valid loss: 0.161 / 0.161 | Train/Valid accuracy: 0.704 / 0.701 | Train/Valid recall: 0.638 / 0.636 | \n",
            " Epoch 60 | Train/Valid loss: 0.161 / 0.163 | Train/Valid accuracy: 0.704 / 0.709 | Train/Valid recall: 0.637 / 0.637 | \n",
            " Epoch 61 | Train/Valid loss: 0.161 / 0.161 | Train/Valid accuracy: 0.704 / 0.703 | Train/Valid recall: 0.637 / 0.639 | \n",
            " Epoch 62 | Train/Valid loss: 0.160 / 0.163 | Train/Valid accuracy: 0.704 / 0.694 | Train/Valid recall: 0.637 / 0.629 | \n",
            " Epoch 63 | Train/Valid loss: 0.161 / 0.162 | Train/Valid accuracy: 0.704 / 0.703 | Train/Valid recall: 0.637 / 0.636 | \n",
            " Epoch 64 | Train/Valid loss: 0.160 / 0.161 | Train/Valid accuracy: 0.704 / 0.707 | Train/Valid recall: 0.637 / 0.637 | \n",
            " Epoch 65 | Train/Valid loss: 0.160 / 0.161 | Train/Valid accuracy: 0.704 / 0.707 | Train/Valid recall: 0.638 / 0.637 | \n",
            " Epoch 66 | Train/Valid loss: 0.160 / 0.161 | Train/Valid accuracy: 0.704 / 0.706 | Train/Valid recall: 0.638 / 0.639 | \n",
            " Epoch 67 | Train/Valid loss: 0.160 / 0.161 | Train/Valid accuracy: 0.704 / 0.707 | Train/Valid recall: 0.638 / 0.638 | \n",
            " Epoch 68 | Train/Valid loss: 0.160 / 0.161 | Train/Valid accuracy: 0.704 / 0.704 | Train/Valid recall: 0.638 / 0.637 | \n",
            " Epoch 69 | Train/Valid loss: 0.160 / 0.161 | Train/Valid accuracy: 0.704 / 0.706 | Train/Valid recall: 0.638 / 0.638 | \n",
            " Epoch 70 | Train/Valid loss: 0.160 / 0.162 | Train/Valid accuracy: 0.704 / 0.696 | Train/Valid recall: 0.638 / 0.635 | \n",
            " Epoch 71 | Train/Valid loss: 0.160 / 0.162 | Train/Valid accuracy: 0.704 / 0.696 | Train/Valid recall: 0.638 / 0.634 | \n",
            " Epoch 72 | Train/Valid loss: 0.160 / 0.161 | Train/Valid accuracy: 0.704 / 0.699 | Train/Valid recall: 0.638 / 0.638 | \n",
            " Epoch 73 | Train/Valid loss: 0.160 / 0.162 | Train/Valid accuracy: 0.704 / 0.707 | Train/Valid recall: 0.638 / 0.637 | \n",
            " Epoch 74 | Train/Valid loss: 0.160 / 0.161 | Train/Valid accuracy: 0.704 / 0.696 | Train/Valid recall: 0.638 / 0.637 | \n",
            " Epoch 75 | Train/Valid loss: 0.160 / 0.161 | Train/Valid accuracy: 0.704 / 0.708 | Train/Valid recall: 0.638 / 0.637 | \n",
            " Epoch 76 | Train/Valid loss: 0.160 / 0.161 | Train/Valid accuracy: 0.704 / 0.704 | Train/Valid recall: 0.638 / 0.637 | \n",
            " Epoch 77 | Train/Valid loss: 0.160 / 0.161 | Train/Valid accuracy: 0.704 / 0.707 | Train/Valid recall: 0.638 / 0.638 | \n",
            " Epoch 78 | Train/Valid loss: 0.160 / 0.162 | Train/Valid accuracy: 0.704 / 0.700 | Train/Valid recall: 0.638 / 0.635 | \n",
            " Epoch 79 | Train/Valid loss: 0.160 / 0.161 | Train/Valid accuracy: 0.704 / 0.709 | Train/Valid recall: 0.638 / 0.638 | \n",
            " Epoch 80 | Train/Valid loss: 0.160 / 0.162 | Train/Valid accuracy: 0.704 / 0.684 | Train/Valid recall: 0.639 / 0.631 | \n",
            " Epoch 81 | Train/Valid loss: 0.160 / 0.161 | Train/Valid accuracy: 0.704 / 0.704 | Train/Valid recall: 0.638 / 0.637 | \n",
            " Epoch 82 | Train/Valid loss: 0.160 / 0.161 | Train/Valid accuracy: 0.705 / 0.703 | Train/Valid recall: 0.639 / 0.636 | \n",
            " Epoch 83 | Train/Valid loss: 0.160 / 0.161 | Train/Valid accuracy: 0.704 / 0.706 | Train/Valid recall: 0.639 / 0.637 | \n",
            " Epoch 84 | Train/Valid loss: 0.160 / 0.162 | Train/Valid accuracy: 0.704 / 0.696 | Train/Valid recall: 0.639 / 0.634 | \n",
            " Epoch 85 | Train/Valid loss: 0.160 / 0.162 | Train/Valid accuracy: 0.705 / 0.701 | Train/Valid recall: 0.639 / 0.636 | \n",
            " Epoch 86 | Train/Valid loss: 0.160 / 0.162 | Train/Valid accuracy: 0.704 / 0.679 | Train/Valid recall: 0.639 / 0.632 | \n",
            " Epoch 87 | Train/Valid loss: 0.160 / 0.161 | Train/Valid accuracy: 0.704 / 0.706 | Train/Valid recall: 0.639 / 0.638 | \n",
            " Epoch 88 | Train/Valid loss: 0.160 / 0.161 | Train/Valid accuracy: 0.704 / 0.700 | Train/Valid recall: 0.639 / 0.635 | \n",
            " Epoch 89 | Train/Valid loss: 0.160 / 0.161 | Train/Valid accuracy: 0.704 / 0.695 | Train/Valid recall: 0.639 / 0.634 | \n",
            " Epoch 90 | Train/Valid loss: 0.160 / 0.162 | Train/Valid accuracy: 0.704 / 0.696 | Train/Valid recall: 0.639 / 0.633 | \n",
            " Epoch 91 | Train/Valid loss: 0.160 / 0.161 | Train/Valid accuracy: 0.704 / 0.710 | Train/Valid recall: 0.639 / 0.638 | \n",
            " Epoch 92 | Train/Valid loss: 0.160 / 0.161 | Train/Valid accuracy: 0.704 / 0.706 | Train/Valid recall: 0.639 / 0.639 | \n",
            " Epoch 93 | Train/Valid loss: 0.160 / 0.161 | Train/Valid accuracy: 0.704 / 0.705 | Train/Valid recall: 0.639 / 0.635 | \n",
            " Epoch 94 | Train/Valid loss: 0.160 / 0.161 | Train/Valid accuracy: 0.704 / 0.704 | Train/Valid recall: 0.639 / 0.633 | \n",
            " Epoch 95 | Train/Valid loss: 0.160 / 0.161 | Train/Valid accuracy: 0.704 / 0.702 | Train/Valid recall: 0.639 / 0.635 | \n",
            " Epoch 96 | Train/Valid loss: 0.160 / 0.162 | Train/Valid accuracy: 0.704 / 0.697 | Train/Valid recall: 0.639 / 0.637 | \n",
            " Epoch 97 | Train/Valid loss: 0.160 / 0.162 | Train/Valid accuracy: 0.704 / 0.710 | Train/Valid recall: 0.639 / 0.639 | \n",
            " Epoch 98 | Train/Valid loss: 0.160 / 0.161 | Train/Valid accuracy: 0.704 / 0.700 | Train/Valid recall: 0.640 / 0.635 | \n",
            " Epoch 99 | Train/Valid loss: 0.160 / 0.161 | Train/Valid accuracy: 0.705 / 0.701 | Train/Valid recall: 0.640 / 0.634 | \n"
          ]
        }
      ],
      "execution_count": null
    },
    {
      "metadata": {
        "ExecuteTime": {
          "end_time": "2024-10-22T03:08:00.540098Z",
          "start_time": "2024-10-22T03:08:00.419896Z"
        },
        "id": "FmmTOwKUoVL8",
        "outputId": "a9e2c8ea-388d-4f3c-f019-39836394d17b"
      },
      "cell_type": "code",
      "source": [
        "# Gráfica loss por epoch\n",
        "fig, ax1= plt.subplots(1,1)\n",
        "ax1.plot(train_loss_by_epoch, label=\"Train loss\")\n",
        "ax1.plot(valid_loss_by_epoch, label=\"Validation loss\")\n",
        "ax1.legend()\n",
        "ax1.set_title(\"Loss by epoch\")\n",
        "ax1.set_xlabel(\"epoch\")\n",
        "ax1.set_ylabel(\"CrossEntropyLoss\")"
      ],
      "outputs": [
        {
          "data": {
            "text/plain": [
              "Text(0, 0.5, 'CrossEntropyLoss')"
            ]
          },
          "execution_count": 519,
          "metadata": {},
          "output_type": "execute_result"
        },
        {
          "data": {
            "text/plain": [
              "<Figure size 640x480 with 1 Axes>"
            ],
            "image/png": "[encoded data removed]"
          },
          "metadata": {},
          "output_type": "display_data"
        }
      ],
      "execution_count": null
    },
    {
      "metadata": {
        "ExecuteTime": {
          "end_time": "2024-10-22T03:08:41.100858Z",
          "start_time": "2024-10-22T03:08:40.959601Z"
        },
        "id": "vbR8X7MSoVL8",
        "outputId": "a7be497a-aca3-4b3b-aa40-721f8cd5e3a0"
      },
      "cell_type": "code",
      "source": [
        "# Gráfica loss por epoch\n",
        "fig, ax1= plt.subplots(1,1)\n",
        "ax1.plot(train_accuracy_by_epoch, label=\"Train loss\")\n",
        "ax1.plot(valid_accuracy_by_epoch, label=\"Validation loss\")\n",
        "ax1.legend()\n",
        "ax1.set_title(\"Loss by epoch\")\n",
        "ax1.set_xlabel(\"epoch\")\n",
        "ax1.set_ylabel(\"CrossEntropyLoss\")"
      ],
      "outputs": [
        {
          "data": {
            "text/plain": [
              "Text(0, 0.5, 'CrossEntropyLoss')"
            ]
          },
          "execution_count": 520,
          "metadata": {},
          "output_type": "execute_result"
        },
        {
          "data": {
            "text/plain": [
              "<Figure size 640x480 with 1 Axes>"
            ],
            "image/png": "[encoded data removed]"
          },
          "metadata": {},
          "output_type": "display_data"
        }
      ],
      "execution_count": null
    },
    {
      "metadata": {
        "id": "DAou68zzoVL9"
      },
      "cell_type": "markdown",
      "source": [
        "### b) Entrenar un modelo de deep learning que no utilice embeddings, **descartando el `product_id` y `user_id`.** . Graficar las evoluciones de la funcion de costo y la metrica de validacion. Usar capas de regularizacion en caso de considerar necesario. Explicar resultados obtenidos."
      ]
    },
    {
      "metadata": {
        "ExecuteTime": {
          "end_time": "2024-10-22T14:07:36.461097Z",
          "start_time": "2024-10-22T14:07:36.078767Z"
        },
        "colab": {
          "base_uri": "https://localhost:8080/",
          "height": 444
        },
        "id": "_bJgFeuaoVL9",
        "outputId": "d6ecffef-e065-4840-8075-f1aa370515ec"
      },
      "cell_type": "code",
      "source": [
        "bsales_df_emb = bsales_df.copy()\n",
        "bsales_df_emb"
      ],
      "outputs": [
        {
          "output_type": "execute_result",
          "data": {
            "text/plain": [
              "        User_ID Product_ID  Encode_Gender  Encode_Age  Occupation  City_A  \\\n",
              "0       1000001  P00069042              0           0          10       1   \n",
              "1       1000001  P00248942              0           0          10       1   \n",
              "2       1000001  P00087842              0           0          10       1   \n",
              "3       1000001  P00085442              0           0          10       1   \n",
              "4       1000002  P00285442              1           6          16       0   \n",
              "...         ...        ...            ...         ...         ...     ...   \n",
              "550063  1006033  P00372445              1           5          13       0   \n",
              "550064  1006035  P00375436              0           2           1       0   \n",
              "550065  1006036  P00375436              0           2          15       0   \n",
              "550066  1006038  P00375436              0           6           1       0   \n",
              "550067  1006039  P00371644              0           4           0       0   \n",
              "\n",
              "        City_B  City_C  Stay_In_Current_City_Years  Marital_Status  \\\n",
              "0            0       0                           2               0   \n",
              "1            0       0                           2               0   \n",
              "2            0       0                           2               0   \n",
              "3            0       0                           2               0   \n",
              "4            0       1                           4               0   \n",
              "...        ...     ...                         ...             ...   \n",
              "550063       1       0                           1               1   \n",
              "550064       0       1                           3               0   \n",
              "550065       1       0                           4               1   \n",
              "550066       0       1                           2               0   \n",
              "550067       1       0                           4               1   \n",
              "\n",
              "        Product_Category_1  Product_Category_2  Product_Category_3  Purchase  \\\n",
              "0                        3                  -1                  -1      8370   \n",
              "1                        1                   6                  14     15200   \n",
              "2                       12                  -1                  -1      1422   \n",
              "3                       12                  14                  -1      1057   \n",
              "4                        8                  -1                  -1      7969   \n",
              "...                    ...                 ...                 ...       ...   \n",
              "550063                  20                  -1                  -1       368   \n",
              "550064                  20                  -1                  -1       371   \n",
              "550065                  20                  -1                  -1       137   \n",
              "550066                  20                  -1                  -1       365   \n",
              "550067                  20                  -1                  -1       490   \n",
              "\n",
              "        Purchase_Category  \n",
              "0                       1  \n",
              "1                       3  \n",
              "2                       0  \n",
              "3                       0  \n",
              "4                       1  \n",
              "...                   ...  \n",
              "550063                  0  \n",
              "550064                  0  \n",
              "550065                  0  \n",
              "550066                  0  \n",
              "550067                  0  \n",
              "\n",
              "[550068 rows x 15 columns]"
            ],
            "text/html": [
              "\n",
              "  <div id=\"df-6540f9a6-117d-4484-8a5b-393be997ee95\" class=\"colab-df-container\">\n",
              "    <div>\n",
              "<style scoped>\n",
              "    .dataframe tbody tr th:only-of-type {\n",
              "        vertical-align: middle;\n",
              "    }\n",
              "\n",
              "    .dataframe tbody tr th {\n",
              "        vertical-align: top;\n",
              "    }\n",
              "\n",
              "    .dataframe thead th {\n",
              "        text-align: right;\n",
              "    }\n",
              "</style>\n",
              "<table border=\"1\" class=\"dataframe\">\n",
              "  <thead>\n",
              "    <tr style=\"text-align: right;\">\n",
              "      <th></th>\n",
              "      <th>User_ID</th>\n",
              "      <th>Product_ID</th>\n",
              "      <th>Encode_Gender</th>\n",
              "      <th>Encode_Age</th>\n",
              "      <th>Occupation</th>\n",
              "      <th>City_A</th>\n",
              "      <th>City_B</th>\n",
              "      <th>City_C</th>\n",
              "      <th>Stay_In_Current_City_Years</th>\n",
              "      <th>Marital_Status</th>\n",
              "      <th>Product_Category_1</th>\n",
              "      <th>Product_Category_2</th>\n",
              "      <th>Product_Category_3</th>\n",
              "      <th>Purchase</th>\n",
              "      <th>Purchase_Category</th>\n",
              "    </tr>\n",
              "  </thead>\n",
              "  <tbody>\n",
              "    <tr>\n",
              "      <th>0</th>\n",
              "      <td>1000001</td>\n",
              "      <td>P00069042</td>\n",
              "      <td>0</td>\n",
              "      <td>0</td>\n",
              "      <td>10</td>\n",
              "      <td>1</td>\n",
              "      <td>0</td>\n",
              "      <td>0</td>\n",
              "      <td>2</td>\n",
              "      <td>0</td>\n",
              "      <td>3</td>\n",
              "      <td>-1</td>\n",
              "      <td>-1</td>\n",
              "      <td>8370</td>\n",
              "      <td>1</td>\n",
              "    </tr>\n",
              "    <tr>\n",
              "      <th>1</th>\n",
              "      <td>1000001</td>\n",
              "      <td>P00248942</td>\n",
              "      <td>0</td>\n",
              "      <td>0</td>\n",
              "      <td>10</td>\n",
              "      <td>1</td>\n",
              "      <td>0</td>\n",
              "      <td>0</td>\n",
              "      <td>2</td>\n",
              "      <td>0</td>\n",
              "      <td>1</td>\n",
              "      <td>6</td>\n",
              "      <td>14</td>\n",
              "      <td>15200</td>\n",
              "      <td>3</td>\n",
              "    </tr>\n",
              "    <tr>\n",
              "      <th>2</th>\n",
              "      <td>1000001</td>\n",
              "      <td>P00087842</td>\n",
              "      <td>0</td>\n",
              "      <td>0</td>\n",
              "      <td>10</td>\n",
              "      <td>1</td>\n",
              "      <td>0</td>\n",
              "      <td>0</td>\n",
              "      <td>2</td>\n",
              "      <td>0</td>\n",
              "      <td>12</td>\n",
              "      <td>-1</td>\n",
              "      <td>-1</td>\n",
              "      <td>1422</td>\n",
              "      <td>0</td>\n",
              "    </tr>\n",
              "    <tr>\n",
              "      <th>3</th>\n",
              "      <td>1000001</td>\n",
              "      <td>P00085442</td>\n",
              "      <td>0</td>\n",
              "      <td>0</td>\n",
              "      <td>10</td>\n",
              "      <td>1</td>\n",
              "      <td>0</td>\n",
              "      <td>0</td>\n",
              "      <td>2</td>\n",
              "      <td>0</td>\n",
              "      <td>12</td>\n",
              "      <td>14</td>\n",
              "      <td>-1</td>\n",
              "      <td>1057</td>\n",
              "      <td>0</td>\n",
              "    </tr>\n",
              "    <tr>\n",
              "      <th>4</th>\n",
              "      <td>1000002</td>\n",
              "      <td>P00285442</td>\n",
              "      <td>1</td>\n",
              "      <td>6</td>\n",
              "      <td>16</td>\n",
              "      <td>0</td>\n",
              "      <td>0</td>\n",
              "      <td>1</td>\n",
              "      <td>4</td>\n",
              "      <td>0</td>\n",
              "      <td>8</td>\n",
              "      <td>-1</td>\n",
              "      <td>-1</td>\n",
              "      <td>7969</td>\n",
              "      <td>1</td>\n",
              "    </tr>\n",
              "    <tr>\n",
              "      <th>...</th>\n",
              "      <td>...</td>\n",
              "      <td>...</td>\n",
              "      <td>...</td>\n",
              "      <td>...</td>\n",
              "      <td>...</td>\n",
              "      <td>...</td>\n",
              "      <td>...</td>\n",
              "      <td>...</td>\n",
              "      <td>...</td>\n",
              "      <td>...</td>\n",
              "      <td>...</td>\n",
              "      <td>...</td>\n",
              "      <td>...</td>\n",
              "      <td>...</td>\n",
              "      <td>...</td>\n",
              "    </tr>\n",
              "    <tr>\n",
              "      <th>550063</th>\n",
              "      <td>1006033</td>\n",
              "      <td>P00372445</td>\n",
              "      <td>1</td>\n",
              "      <td>5</td>\n",
              "      <td>13</td>\n",
              "      <td>0</td>\n",
              "      <td>1</td>\n",
              "      <td>0</td>\n",
              "      <td>1</td>\n",
              "      <td>1</td>\n",
              "      <td>20</td>\n",
              "      <td>-1</td>\n",
              "      <td>-1</td>\n",
              "      <td>368</td>\n",
              "      <td>0</td>\n",
              "    </tr>\n",
              "    <tr>\n",
              "      <th>550064</th>\n",
              "      <td>1006035</td>\n",
              "      <td>P00375436</td>\n",
              "      <td>0</td>\n",
              "      <td>2</td>\n",
              "      <td>1</td>\n",
              "      <td>0</td>\n",
              "      <td>0</td>\n",
              "      <td>1</td>\n",
              "      <td>3</td>\n",
              "      <td>0</td>\n",
              "      <td>20</td>\n",
              "      <td>-1</td>\n",
              "      <td>-1</td>\n",
              "      <td>371</td>\n",
              "      <td>0</td>\n",
              "    </tr>\n",
              "    <tr>\n",
              "      <th>550065</th>\n",
              "      <td>1006036</td>\n",
              "      <td>P00375436</td>\n",
              "      <td>0</td>\n",
              "      <td>2</td>\n",
              "      <td>15</td>\n",
              "      <td>0</td>\n",
              "      <td>1</td>\n",
              "      <td>0</td>\n",
              "      <td>4</td>\n",
              "      <td>1</td>\n",
              "      <td>20</td>\n",
              "      <td>-1</td>\n",
              "      <td>-1</td>\n",
              "      <td>137</td>\n",
              "      <td>0</td>\n",
              "    </tr>\n",
              "    <tr>\n",
              "      <th>550066</th>\n",
              "      <td>1006038</td>\n",
              "      <td>P00375436</td>\n",
              "      <td>0</td>\n",
              "      <td>6</td>\n",
              "      <td>1</td>\n",
              "      <td>0</td>\n",
              "      <td>0</td>\n",
              "      <td>1</td>\n",
              "      <td>2</td>\n",
              "      <td>0</td>\n",
              "      <td>20</td>\n",
              "      <td>-1</td>\n",
              "      <td>-1</td>\n",
              "      <td>365</td>\n",
              "      <td>0</td>\n",
              "    </tr>\n",
              "    <tr>\n",
              "      <th>550067</th>\n",
              "      <td>1006039</td>\n",
              "      <td>P00371644</td>\n",
              "      <td>0</td>\n",
              "      <td>4</td>\n",
              "      <td>0</td>\n",
              "      <td>0</td>\n",
              "      <td>1</td>\n",
              "      <td>0</td>\n",
              "      <td>4</td>\n",
              "      <td>1</td>\n",
              "      <td>20</td>\n",
              "      <td>-1</td>\n",
              "      <td>-1</td>\n",
              "      <td>490</td>\n",
              "      <td>0</td>\n",
              "    </tr>\n",
              "  </tbody>\n",
              "</table>\n",
              "<p>550068 rows × 15 columns</p>\n",
              "</div>\n",
              "    <div class=\"colab-df-buttons\">\n",
              "\n",
              "  <div class=\"colab-df-container\">\n",
              "    <button class=\"colab-df-convert\" onclick=\"convertToInteractive('df-6540f9a6-117d-4484-8a5b-393be997ee95')\"\n",
              "            title=\"Convert this dataframe to an interactive table.\"\n",
              "            style=\"display:none;\">\n",
              "\n",
              "  <svg xmlns=\"http://www.w3.org/2000/svg\" height=\"24px\" viewBox=\"0 -960 960 960\">\n",
              "    <path d=\"M120-120v-720h720v720H120Zm60-500h600v-160H180v160Zm220 220h160v-160H400v160Zm0 220h160v-160H400v160ZM180-400h160v-160H180v160Zm440 0h160v-160H620v160ZM180-180h160v-160H180v160Zm440 0h160v-160H620v160Z\"/>\n",
              "  </svg>\n",
              "    </button>\n",
              "\n",
              "  <style>\n",
              "    .colab-df-container {\n",
              "      display:flex;\n",
              "      gap: 12px;\n",
              "    }\n",
              "\n",
              "    .colab-df-convert {\n",
              "      background-color: #E8F0FE;\n",
              "      border: none;\n",
              "      border-radius: 50%;\n",
              "      cursor: pointer;\n",
              "      display: none;\n",
              "      fill: #1967D2;\n",
              "      height: 32px;\n",
              "      padding: 0 0 0 0;\n",
              "      width: 32px;\n",
              "    }\n",
              "\n",
              "    .colab-df-convert:hover {\n",
              "      background-color: #E2EBFA;\n",
              "      box-shadow: 0px 1px 2px rgba(60, 64, 67, 0.3), 0px 1px 3px 1px rgba(60, 64, 67, 0.15);\n",
              "      fill: #174EA6;\n",
              "    }\n",
              "\n",
              "    .colab-df-buttons div {\n",
              "      margin-bottom: 4px;\n",
              "    }\n",
              "\n",
              "    [theme=dark] .colab-df-convert {\n",
              "      background-color: #3B4455;\n",
              "      fill: #D2E3FC;\n",
              "    }\n",
              "\n",
              "    [theme=dark] .colab-df-convert:hover {\n",
              "      background-color: #434B5C;\n",
              "      box-shadow: 0px 1px 3px 1px rgba(0, 0, 0, 0.15);\n",
              "      filter: drop-shadow(0px 1px 2px rgba(0, 0, 0, 0.3));\n",
              "      fill: #FFFFFF;\n",
              "    }\n",
              "  </style>\n",
              "\n",
              "    <script>\n",
              "      const buttonEl =\n",
              "        document.querySelector('#df-6540f9a6-117d-4484-8a5b-393be997ee95 button.colab-df-convert');\n",
              "      buttonEl.style.display =\n",
              "        google.colab.kernel.accessAllowed ? 'block' : 'none';\n",
              "\n",
              "      async function convertToInteractive(key) {\n",
              "        const element = document.querySelector('#df-6540f9a6-117d-4484-8a5b-393be997ee95');\n",
              "        const dataTable =\n",
              "          await google.colab.kernel.invokeFunction('convertToInteractive',\n",
              "                                                    [key], {});\n",
              "        if (!dataTable) return;\n",
              "\n",
              "        const docLinkHtml = 'Like what you see? Visit the ' +\n",
              "          '<a target=\"_blank\" href=https://colab.research.google.com/notebooks/data_table.ipynb>data table notebook</a>'\n",
              "          + ' to learn more about interactive tables.';\n",
              "        element.innerHTML = '';\n",
              "        dataTable['output_type'] = 'display_data';\n",
              "        await google.colab.output.renderOutput(dataTable, element);\n",
              "        const docLink = document.createElement('div');\n",
              "        docLink.innerHTML = docLinkHtml;\n",
              "        element.appendChild(docLink);\n",
              "      }\n",
              "    </script>\n",
              "  </div>\n",
              "\n",
              "\n",
              "<div id=\"df-ed889f8b-cabb-4820-bddb-86419a2ef50e\">\n",
              "  <button class=\"colab-df-quickchart\" onclick=\"quickchart('df-ed889f8b-cabb-4820-bddb-86419a2ef50e')\"\n",
              "            title=\"Suggest charts\"\n",
              "            style=\"display:none;\">\n",
              "\n",
              "<svg xmlns=\"http://www.w3.org/2000/svg\" height=\"24px\"viewBox=\"0 0 24 24\"\n",
              "     width=\"24px\">\n",
              "    <g>\n",
              "        <path d=\"M19 3H5c-1.1 0-2 .9-2 2v14c0 1.1.9 2 2 2h14c1.1 0 2-.9 2-2V5c0-1.1-.9-2-2-2zM9 17H7v-7h2v7zm4 0h-2V7h2v10zm4 0h-2v-4h2v4z\"/>\n",
              "    </g>\n",
              "</svg>\n",
              "  </button>\n",
              "\n",
              "<style>\n",
              "  .colab-df-quickchart {\n",
              "      --bg-color: #E8F0FE;\n",
              "      --fill-color: #1967D2;\n",
              "      --hover-bg-color: #E2EBFA;\n",
              "      --hover-fill-color: #174EA6;\n",
              "      --disabled-fill-color: #AAA;\n",
              "      --disabled-bg-color: #DDD;\n",
              "  }\n",
              "\n",
              "  [theme=dark] .colab-df-quickchart {\n",
              "      --bg-color: #3B4455;\n",
              "      --fill-color: #D2E3FC;\n",
              "      --hover-bg-color: #434B5C;\n",
              "      --hover-fill-color: #FFFFFF;\n",
              "      --disabled-bg-color: #3B4455;\n",
              "      --disabled-fill-color: #666;\n",
              "  }\n",
              "\n",
              "  .colab-df-quickchart {\n",
              "    background-color: var(--bg-color);\n",
              "    border: none;\n",
              "    border-radius: 50%;\n",
              "    cursor: pointer;\n",
              "    display: none;\n",
              "    fill: var(--fill-color);\n",
              "    height: 32px;\n",
              "    padding: 0;\n",
              "    width: 32px;\n",
              "  }\n",
              "\n",
              "  .colab-df-quickchart:hover {\n",
              "    background-color: var(--hover-bg-color);\n",
              "    box-shadow: 0 1px 2px rgba(60, 64, 67, 0.3), 0 1px 3px 1px rgba(60, 64, 67, 0.15);\n",
              "    fill: var(--button-hover-fill-color);\n",
              "  }\n",
              "\n",
              "  .colab-df-quickchart-complete:disabled,\n",
              "  .colab-df-quickchart-complete:disabled:hover {\n",
              "    background-color: var(--disabled-bg-color);\n",
              "    fill: var(--disabled-fill-color);\n",
              "    box-shadow: none;\n",
              "  }\n",
              "\n",
              "  .colab-df-spinner {\n",
              "    border: 2px solid var(--fill-color);\n",
              "    border-color: transparent;\n",
              "    border-bottom-color: var(--fill-color);\n",
              "    animation:\n",
              "      spin 1s steps(1) infinite;\n",
              "  }\n",
              "\n",
              "  @keyframes spin {\n",
              "    0% {\n",
              "      border-color: transparent;\n",
              "      border-bottom-color: var(--fill-color);\n",
              "      border-left-color: var(--fill-color);\n",
              "    }\n",
              "    20% {\n",
              "      border-color: transparent;\n",
              "      border-left-color: var(--fill-color);\n",
              "      border-top-color: var(--fill-color);\n",
              "    }\n",
              "    30% {\n",
              "      border-color: transparent;\n",
              "      border-left-color: var(--fill-color);\n",
              "      border-top-color: var(--fill-color);\n",
              "      border-right-color: var(--fill-color);\n",
              "    }\n",
              "    40% {\n",
              "      border-color: transparent;\n",
              "      border-right-color: var(--fill-color);\n",
              "      border-top-color: var(--fill-color);\n",
              "    }\n",
              "    60% {\n",
              "      border-color: transparent;\n",
              "      border-right-color: var(--fill-color);\n",
              "    }\n",
              "    80% {\n",
              "      border-color: transparent;\n",
              "      border-right-color: var(--fill-color);\n",
              "      border-bottom-color: var(--fill-color);\n",
              "    }\n",
              "    90% {\n",
              "      border-color: transparent;\n",
              "      border-bottom-color: var(--fill-color);\n",
              "    }\n",
              "  }\n",
              "</style>\n",
              "\n",
              "  <script>\n",
              "    async function quickchart(key) {\n",
              "      const quickchartButtonEl =\n",
              "        document.querySelector('#' + key + ' button');\n",
              "      quickchartButtonEl.disabled = true;  // To prevent multiple clicks.\n",
              "      quickchartButtonEl.classList.add('colab-df-spinner');\n",
              "      try {\n",
              "        const charts = await google.colab.kernel.invokeFunction(\n",
              "            'suggestCharts', [key], {});\n",
              "      } catch (error) {\n",
              "        console.error('Error during call to suggestCharts:', error);\n",
              "      }\n",
              "      quickchartButtonEl.classList.remove('colab-df-spinner');\n",
              "      quickchartButtonEl.classList.add('colab-df-quickchart-complete');\n",
              "    }\n",
              "    (() => {\n",
              "      let quickchartButtonEl =\n",
              "        document.querySelector('#df-ed889f8b-cabb-4820-bddb-86419a2ef50e button');\n",
              "      quickchartButtonEl.style.display =\n",
              "        google.colab.kernel.accessAllowed ? 'block' : 'none';\n",
              "    })();\n",
              "  </script>\n",
              "</div>\n",
              "\n",
              "  <div id=\"id_eb10862b-3660-4145-98af-2bbb3834aaa8\">\n",
              "    <style>\n",
              "      .colab-df-generate {\n",
              "        background-color: #E8F0FE;\n",
              "        border: none;\n",
              "        border-radius: 50%;\n",
              "        cursor: pointer;\n",
              "        display: none;\n",
              "        fill: #1967D2;\n",
              "        height: 32px;\n",
              "        padding: 0 0 0 0;\n",
              "        width: 32px;\n",
              "      }\n",
              "\n",
              "      .colab-df-generate:hover {\n",
              "        background-color: #E2EBFA;\n",
              "        box-shadow: 0px 1px 2px rgba(60, 64, 67, 0.3), 0px 1px 3px 1px rgba(60, 64, 67, 0.15);\n",
              "        fill: #174EA6;\n",
              "      }\n",
              "\n",
              "      [theme=dark] .colab-df-generate {\n",
              "        background-color: #3B4455;\n",
              "        fill: #D2E3FC;\n",
              "      }\n",
              "\n",
              "      [theme=dark] .colab-df-generate:hover {\n",
              "        background-color: #434B5C;\n",
              "        box-shadow: 0px 1px 3px 1px rgba(0, 0, 0, 0.15);\n",
              "        filter: drop-shadow(0px 1px 2px rgba(0, 0, 0, 0.3));\n",
              "        fill: #FFFFFF;\n",
              "      }\n",
              "    </style>\n",
              "    <button class=\"colab-df-generate\" onclick=\"generateWithVariable('bsales_df_emb')\"\n",
              "            title=\"Generate code using this dataframe.\"\n",
              "            style=\"display:none;\">\n",
              "\n",
              "  <svg xmlns=\"http://www.w3.org/2000/svg\" height=\"24px\"viewBox=\"0 0 24 24\"\n",
              "       width=\"24px\">\n",
              "    <path d=\"M7,19H8.4L18.45,9,17,7.55,7,17.6ZM5,21V16.75L18.45,3.32a2,2,0,0,1,2.83,0l1.4,1.43a1.91,1.91,0,0,1,.58,1.4,1.91,1.91,0,0,1-.58,1.4L9.25,21ZM18.45,9,17,7.55Zm-12,3A5.31,5.31,0,0,0,4.9,8.1,5.31,5.31,0,0,0,1,6.5,5.31,5.31,0,0,0,4.9,4.9,5.31,5.31,0,0,0,6.5,1,5.31,5.31,0,0,0,8.1,4.9,5.31,5.31,0,0,0,12,6.5,5.46,5.46,0,0,0,6.5,12Z\"/>\n",
              "  </svg>\n",
              "    </button>\n",
              "    <script>\n",
              "      (() => {\n",
              "      const buttonEl =\n",
              "        document.querySelector('#id_eb10862b-3660-4145-98af-2bbb3834aaa8 button.colab-df-generate');\n",
              "      buttonEl.style.display =\n",
              "        google.colab.kernel.accessAllowed ? 'block' : 'none';\n",
              "\n",
              "      buttonEl.onclick = () => {\n",
              "        google.colab.notebook.generateWithVariable('bsales_df_emb');\n",
              "      }\n",
              "      })();\n",
              "    </script>\n",
              "  </div>\n",
              "\n",
              "    </div>\n",
              "  </div>\n"
            ],
            "application/vnd.google.colaboratory.intrinsic+json": {
              "type": "dataframe",
              "variable_name": "bsales_df_emb"
            }
          },
          "metadata": {},
          "execution_count": 21
        }
      ],
      "execution_count": 21
    },
    {
      "metadata": {
        "ExecuteTime": {
          "end_time": "2024-10-22T14:07:38.833455Z",
          "start_time": "2024-10-22T14:07:38.824247Z"
        },
        "colab": {
          "base_uri": "https://localhost:8080/"
        },
        "id": "l7F-SVNIoVL9",
        "outputId": "4a4ebbd4-9c18-4f12-a784-804799f89df8"
      },
      "cell_type": "code",
      "source": [
        "product_id = bsales_df_emb['Product_ID']\n",
        "user_id = bsales_df_emb['User_ID']\n",
        "print('Product_ID', len(product_id.unique()))\n",
        "print('User_ID', len(user_id.unique()))"
      ],
      "outputs": [
        {
          "output_type": "stream",
          "name": "stdout",
          "text": [
            "Product_ID 3631\n",
            "User_ID 5891\n"
          ]
        }
      ],
      "execution_count": 34
    },
    {
      "metadata": {
        "ExecuteTime": {
          "end_time": "2024-10-22T14:07:43.004506Z",
          "start_time": "2024-10-22T14:07:42.970737Z"
        },
        "id": "NVTH3XO2oVL9"
      },
      "cell_type": "code",
      "source": [
        "bsales_df_embeddings = bsales_df_emb.drop(['Purchase'], axis=1, inplace=False)"
      ],
      "outputs": [],
      "execution_count": 23
    },
    {
      "metadata": {
        "ExecuteTime": {
          "end_time": "2024-10-22T14:07:44.546956Z",
          "start_time": "2024-10-22T14:07:44.413210Z"
        },
        "colab": {
          "base_uri": "https://localhost:8080/"
        },
        "id": "MKBz9uevoVL9",
        "outputId": "77eb7885-e63b-4ae9-c2d4-f226116047a2"
      },
      "cell_type": "code",
      "source": [
        "# x = bsales_df_nn_without_embeddings.drop(columns=['Group_0', 'Group_1', 'Group_2', 'Group_3']).values\n",
        "x = bsales_df_embeddings.drop(columns=['Purchase_Category', 'Product_ID', 'User_ID']).values\n",
        "# y = bsales_df_nn_without_embeddings[['Group_0', 'Group_1', 'Group_2', 'Group_3']].values\n",
        "y = bsales_df_embeddings['Purchase_Category'].values\n",
        "x"
      ],
      "outputs": [
        {
          "output_type": "execute_result",
          "data": {
            "text/plain": [
              "array([[ 0,  0, 10, ...,  3, -1, -1],\n",
              "       [ 0,  0, 10, ...,  1,  6, 14],\n",
              "       [ 0,  0, 10, ..., 12, -1, -1],\n",
              "       ...,\n",
              "       [ 0,  2, 15, ..., 20, -1, -1],\n",
              "       [ 0,  6,  1, ..., 20, -1, -1],\n",
              "       [ 0,  4,  0, ..., 20, -1, -1]])"
            ]
          },
          "metadata": {},
          "execution_count": 25
        }
      ],
      "execution_count": 25
    },
    {
      "metadata": {
        "ExecuteTime": {
          "end_time": "2024-10-22T14:07:54.490811Z",
          "start_time": "2024-10-22T14:07:53.528458Z"
        },
        "id": "-63o4Ti3oVL-"
      },
      "cell_type": "code",
      "source": [
        "# Normalizacion\n",
        "# x = x.to_numpy()\n",
        "# y = y.to_numpy()\n",
        "x_norm = (x - np.min(x, axis=0)) / (np.max(x, axis=0) - np.min(x, axis=0))\n",
        "# Divido el dataset\n",
        "idx = np.random.permutation(x_norm.shape[0])\n",
        "train_idx = idx[0:int(0.85 * len(idx))]\n",
        "valid_idx = idx[int(0.85 * len(idx)):]\n",
        "\n",
        "x_train_emb = x_norm[train_idx]\n",
        "y_train_emb = y[train_idx]\n",
        "x_valid_emb = x_norm[valid_idx]\n",
        "y_valid_emb = y[valid_idx]\n",
        "\n",
        "n_train = x_train_emb.shape[0]\n",
        "n_valid = x_valid_emb.shape[0]"
      ],
      "outputs": [],
      "execution_count": 26
    },
    {
      "metadata": {
        "ExecuteTime": {
          "end_time": "2024-10-22T14:07:54.920302Z",
          "start_time": "2024-10-22T14:07:54.495235Z"
        },
        "id": "OCXGjuhuoVL-"
      },
      "cell_type": "code",
      "source": [
        "# Normalización min max\n",
        "x_norm = (x - np.min(x, axis=0)) / (np.max(x, axis=0 ) - np.min(x, axis=0))"
      ],
      "outputs": [],
      "execution_count": 27
    },
    {
      "metadata": {
        "ExecuteTime": {
          "end_time": "2024-10-22T14:07:56.328483Z",
          "start_time": "2024-10-22T14:07:55.270381Z"
        },
        "id": "uDxwQi6KoVL-"
      },
      "cell_type": "code",
      "source": [
        "product_id_to_idx = {value: i for i, value in enumerate(product_id.unique())}\n",
        "# Vector de vendor_idx en el dataset\n",
        "product_idx = np.array([product_id_to_idx[value] for value in product_id])\n",
        "# Divido el vector vendor_idx en entrenamiento y validación\n",
        "product_idx_train = product_idx[train_idx]\n",
        "product_idx_valid = product_idx[valid_idx]\n",
        "\n",
        "user_id_to_idx = {value: i for i, value in enumerate(user_id.unique())}\n",
        "# Vector de vendor_idx en el dataset\n",
        "user_idx = np.array([user_id_to_idx[value] for value in user_id])\n",
        "# Divido el vector vendor_idx en entrenamiento y validación\n",
        "user_idx_train = user_idx[train_idx]\n",
        "user_idx_valid = user_idx[valid_idx]"
      ],
      "outputs": [],
      "execution_count": 28
    },
    {
      "metadata": {
        "ExecuteTime": {
          "end_time": "2024-10-22T14:07:56.987178Z",
          "start_time": "2024-10-22T14:07:56.978075Z"
        },
        "id": "kWLXeEcOoVL-"
      },
      "cell_type": "code",
      "source": [
        "# Clase Dataset de Pytorch con embeddings\n",
        "class PurchaseCategoryDatasetWithEmbeddings(Dataset):\n",
        "\n",
        "  def __init__(self, x, user_idx, product_idx, y):\n",
        "    self.x = x\n",
        "    self.user_idx = user_idx\n",
        "    self.product_idx = product_idx\n",
        "    self.y = y\n",
        "\n",
        "  def __len__(self):\n",
        "    return self.x.shape[0]\n",
        "\n",
        "  def __getitem__(self, idx):\n",
        "    return self.x[idx], self.user_idx[idx], self.product_idx[idx], self.y[idx]"
      ],
      "outputs": [],
      "execution_count": 29
    },
    {
      "metadata": {
        "ExecuteTime": {
          "end_time": "2024-10-22T14:08:00.133225Z",
          "start_time": "2024-10-22T14:08:00.123066Z"
        },
        "id": "cxkzrN4UoVL-"
      },
      "cell_type": "code",
      "source": [
        "# Creo el dataset de entrenamiento\n",
        "train_ds_emb = PurchaseCategoryDatasetWithEmbeddings(x_train_emb, user_idx_train,product_idx_train, y_train_emb)\n",
        "# Creo el dataset de validación\n",
        "valid_ds_emb = PurchaseCategoryDatasetWithEmbeddings(x_valid_emb, user_idx_valid, product_idx_valid, y_valid_emb)\n",
        "\n",
        "# Pytorch utiliza DataLoader para entregar los dataset de a batches\n",
        "train_dataloader_emb = DataLoader(train_ds_emb, batch_size = 64, shuffle= True)\n",
        "valid_dataloader_emb = DataLoader(valid_ds_emb, batch_size=64)"
      ],
      "outputs": [],
      "execution_count": 30
    },
    {
      "metadata": {
        "ExecuteTime": {
          "end_time": "2024-10-22T14:08:11.407657Z",
          "start_time": "2024-10-22T14:08:11.395257Z"
        },
        "id": "FWpu2EW9oVL-"
      },
      "cell_type": "code",
      "source": [
        "class NNet_Emb  (torch.nn.Module):\n",
        "\n",
        "  def __init__(self):\n",
        "    # Defino la arquitectura de la red\n",
        "    super().__init__()\n",
        "    self.embeddings_1 = torch.nn.Embedding(num_embeddings=5891, embedding_dim=8)\n",
        "    self.embeddings_2 = torch.nn.Embedding(num_embeddings=3631, embedding_dim=8)\n",
        "    self.linear_1 = torch.nn.Linear(in_features=11+8*2, out_features=64, bias=True)\n",
        "    self.relu_1 = torch.nn.ReLU()\n",
        "    self.dropout = torch.nn.Dropout(p=0.5)\n",
        "    # self.linear_2 = torch.nn.Linear(in_features = 512, out_features=256, bias=True)\n",
        "    # self.relu_2 = torch.nn.ReLU()\n",
        "    # self.linear_3 = torch.nn.Linear(in_features = 256, out_features=128, bias=True)\n",
        "    # self.relu_3 = torch.nn.ReLU()\n",
        "    # self.linear_4 = torch.nn.Linear(in_features = 128, out_features= 64, bias=True)\n",
        "    # self.relu_4 = torch.nn.ReLU()\n",
        "    self.linear_5 = torch.nn.Linear(in_features = 64, out_features= 16, bias=True)\n",
        "    self.relu_5 = torch.nn.ReLU()\n",
        "    self.output = torch.nn.Linear(in_features = 16, out_features=4, bias=True)\n",
        "\n",
        "  def forward(self, x, user_idx, product_idx):\n",
        "    # Defino el cálculo del paso forward\n",
        "    embeddings_outputs_1 = self.embeddings_1(user_idx)\n",
        "    embeddings_outputs_2 = self.embeddings_2(product_idx)\n",
        "    x = torch.cat([x, embeddings_outputs_1, embeddings_outputs_2], dim=1)\n",
        "    x = self.linear_1(x)\n",
        "    x = self.relu_1(x)\n",
        "    x = self.dropout(x)\n",
        "    # x = self.linear_2(x)\n",
        "    # x = self.relu_2(x)\n",
        "    # x = self.linear_3(x)\n",
        "    # x = self.relu_3(x)\n",
        "    # x = self.linear_4(x)\n",
        "    # x = self.relu_4(x)\n",
        "    x = self.linear_5(x)\n",
        "    x = self.relu_5(x)\n",
        "    x = self.output(x)\n",
        "    return x"
      ],
      "outputs": [],
      "execution_count": 59
    },
    {
      "metadata": {
        "id": "nzYq_ZhwoVL_"
      },
      "cell_type": "code",
      "outputs": [],
      "execution_count": 60,
      "source": [
        "# Dado que las clases se encuentran desbalanceadas vamos a utilizar el argumento weight de CrossEntropy\n",
        "class_counts = np.bincount(y_train_emb)\n",
        "class_weights = 1. / class_counts  # Invertir la frecuencia para dar más peso a las clases menos frecuentes\n",
        "class_weights = class_weights / class_weights.sum()\n",
        "weights = torch.tensor(class_weights, dtype=torch.float).to(device)"
      ]
    },
    {
      "metadata": {
        "ExecuteTime": {
          "end_time": "2024-10-22T14:08:48.614617Z",
          "start_time": "2024-10-22T14:08:44.323996Z"
        },
        "id": "QdSIXKBOoVL_"
      },
      "cell_type": "code",
      "source": [
        "# Instanciamos la red\n",
        "nnet_emb = NNet_Emb()\n",
        "# Copio la red neuronal al dispositivo donde entrene la red neuronal\n",
        "nnet_emb = nnet_emb.to(device)\n",
        "# Loss\n",
        "loss_function_emb = torch.nn.CrossEntropyLoss(weight=weights, reduction='sum')\n",
        "# loss_function = torch.nn.CrossEntropyLoss(reduction='sum')\n",
        "    # torch.nn.BCELoss(reduction='sum'))\n",
        "# Optimizer\n",
        "optimizer_emb = torch.optim.Adam(nnet_emb.parameters(), lr=0.001, weight_decay=0.01)"
      ],
      "outputs": [],
      "execution_count": 63
    },
    {
      "metadata": {
        "jupyter": {
          "is_executing": true
        },
        "ExecuteTime": {
          "start_time": "2024-10-22T14:12:16.186060Z"
        },
        "colab": {
          "base_uri": "https://localhost:8080/"
        },
        "id": "PL2b-CbKoVL_",
        "outputId": "3b63c0bc-da43-4884-95d2-518c5ff75ea4"
      },
      "cell_type": "code",
      "source": [
        "# cantidad de epochs\n",
        "epochs = 100\n",
        "train_loss_by_epoch_emb=[]\n",
        "valid_loss_by_epoch_emb=[]\n",
        "train_accuracy_by_epoch_emb=[]\n",
        "valid_accuracy_by_epoch_emb=[]\n",
        "n_train = len(train_ds_emb)\n",
        "n_valid = len(valid_ds_emb)\n",
        "# Doble loop algoritmo Mini-Batch\n",
        "for epoch in range(epochs):\n",
        "\n",
        "  ############################################\n",
        "  ## Entrenamiento\n",
        "  ############################################\n",
        "  nnet_emb.train(True)\n",
        "\n",
        "  epoch_loss = 0\n",
        "  epoch_y_hat = []\n",
        "  epoch_y = []\n",
        "\n",
        "  for i,data in enumerate(train_dataloader_emb):\n",
        "    # Obtengo los datos del batch de entrenamiento\n",
        "    x_batch, user_idx, product_idx,  y_batch = data\n",
        "    # Copio el batch al dispositivo donde entreno la red neuronal\n",
        "    x_batch = x_batch.to(device).float()\n",
        "    user_idx = user_idx.to(device).long()\n",
        "    product_idx = product_idx.to(device).long()\n",
        "    y_batch = y_batch.to(device).long()\n",
        "\n",
        "    # Paso forward\n",
        "    # Limpio optimizer para empezar un nuevo cálculo de gradiente\n",
        "    optimizer_emb.zero_grad()\n",
        "    y_batch_hat = nnet_emb(x_batch, user_idx, product_idx)\n",
        "    # print(y_batch_hat)\n",
        "    # Calculo el loss\n",
        "    loss = loss_function_emb(y_batch_hat,y_batch)\n",
        "    # print(loss.item())\n",
        "    # Backpropagation\n",
        "    loss.backward()\n",
        "\n",
        "    # Actualizar los parámetros\n",
        "    optimizer_emb.step()\n",
        "\n",
        "    # Almaceno los valores reales y mis predicciones para cálcular las métricas\n",
        "    epoch_y += list(y_batch.detach().cpu().numpy())\n",
        "    epoch_y_hat += list(np.argmax(y_batch_hat.detach().cpu().numpy(), axis=1))\n",
        "    # Acumulo la loss del batch\n",
        "    epoch_loss = epoch_loss + loss.item()\n",
        "\n",
        "  # Calculo la media de la loss\n",
        "  epoch_loss_emb = epoch_loss / n_train\n",
        "  # Cálculo la métrica de la epoch\n",
        "  accuracy_emb = metrics.accuracy_score(epoch_y,  epoch_y_hat)\n",
        "  recall_emb = metrics.recall_score(epoch_y, epoch_y_hat, average='macro')\n",
        "  train_loss_by_epoch_emb.append(epoch_loss_emb)\n",
        "  train_accuracy_by_epoch_emb.append(accuracy_emb)\n",
        "  ############################################\n",
        "  ## Validación\n",
        "  ############################################\n",
        "  # Desactivo el cálculo de gradiente para validación\n",
        "  nnet_emb.train(False)\n",
        "\n",
        "  valid_epoch_loss = 0\n",
        "  valid_epoch_y_hat = []\n",
        "  valid_epoch_y = []\n",
        "\n",
        "  for i,data in enumerate(valid_dataloader_emb):\n",
        "    # Obtengo los datos del batch de validación\n",
        "    x_batch, user_idx, product_idx,  y_batch = data\n",
        "    # Copio el batch al dispositivo donde entreno la red neuronal\n",
        "    x_batch = x_batch.to(device).float()\n",
        "    user_idx = user_idx.to(device).long()\n",
        "    product_idx = product_idx.to(device).long()\n",
        "    y_batch = y_batch.to(device).long()\n",
        "\n",
        "\n",
        "    # Paso forward\n",
        "    y_batch_hat = nnet_emb(x_batch, user_idx, product_idx)\n",
        "\n",
        "    # Calculo el loss\n",
        "    loss = loss_function_emb(y_batch_hat, y_batch)\n",
        "\n",
        "    # En validación no hago backpropagation!!\n",
        "\n",
        "    # Almaceno los valores reales y mis predicciones para cálcular las métricas\n",
        "    valid_epoch_y += list(y_batch.detach().cpu().numpy())\n",
        "    valid_epoch_y_hat += list(np.argmax(y_batch_hat.detach().cpu().numpy(), axis=1))\n",
        "    # Acumulo la loss del batch\n",
        "    valid_epoch_loss = valid_epoch_loss + loss.item()\n",
        "\n",
        "  # Calculo la media de la loss\n",
        "  valid_epoch_loss_emb = valid_epoch_loss / n_valid\n",
        "  # Cálculo la métrica de la epoch\n",
        "  valid_accuracy_emb = metrics.accuracy_score(valid_epoch_y, valid_epoch_y_hat)\n",
        "  valid_recall_emb = metrics.recall_score(valid_epoch_y, valid_epoch_y_hat, average='macro')\n",
        "  valid_loss_by_epoch_emb.append(valid_epoch_loss_emb)\n",
        "  valid_accuracy_by_epoch_emb.append(valid_accuracy_emb)\n",
        "  ############################################\n",
        "  ## Impresión de resultados por epoch\n",
        "  ############################################\n",
        "  print(f\" Epoch {epoch} | \" \\\n",
        "        f\"Train/Valid loss: {epoch_loss_emb:.3f} / {valid_epoch_loss_emb:.3f} | \" \\\n",
        "        f\"Train/Valid accuracy: {accuracy_emb:.3f} / {valid_accuracy_emb:.3f} | \" \\\n",
        "        f\"Train/Valid recall: {recall_emb:.3f} / {valid_recall_emb:.3f} | \")"
      ],
      "outputs": [
        {
          "output_type": "stream",
          "name": "stdout",
          "text": [
            " Epoch 0 | Train/Valid loss: 0.185 / 0.148 | Train/Valid accuracy: 0.613 / 0.716 | Train/Valid recall: 0.587 / 0.681 | \n",
            " Epoch 1 | Train/Valid loss: 0.149 / 0.145 | Train/Valid accuracy: 0.700 / 0.704 | Train/Valid recall: 0.681 / 0.688 | \n",
            " Epoch 2 | Train/Valid loss: 0.147 / 0.143 | Train/Valid accuracy: 0.704 / 0.711 | Train/Valid recall: 0.686 / 0.691 | \n",
            " Epoch 3 | Train/Valid loss: 0.145 / 0.142 | Train/Valid accuracy: 0.707 / 0.704 | Train/Valid recall: 0.689 / 0.693 | \n",
            " Epoch 4 | Train/Valid loss: 0.145 / 0.142 | Train/Valid accuracy: 0.708 / 0.706 | Train/Valid recall: 0.690 / 0.695 | \n",
            " Epoch 5 | Train/Valid loss: 0.144 / 0.141 | Train/Valid accuracy: 0.711 / 0.716 | Train/Valid recall: 0.692 / 0.695 | \n",
            " Epoch 6 | Train/Valid loss: 0.144 / 0.141 | Train/Valid accuracy: 0.711 / 0.718 | Train/Valid recall: 0.692 / 0.694 | \n",
            " Epoch 7 | Train/Valid loss: 0.144 / 0.141 | Train/Valid accuracy: 0.712 / 0.720 | Train/Valid recall: 0.693 / 0.696 | \n",
            " Epoch 8 | Train/Valid loss: 0.144 / 0.142 | Train/Valid accuracy: 0.712 / 0.710 | Train/Valid recall: 0.692 / 0.689 | \n",
            " Epoch 9 | Train/Valid loss: 0.143 / 0.141 | Train/Valid accuracy: 0.712 / 0.713 | Train/Valid recall: 0.693 / 0.697 | \n",
            " Epoch 10 | Train/Valid loss: 0.143 / 0.141 | Train/Valid accuracy: 0.713 / 0.715 | Train/Valid recall: 0.693 / 0.696 | \n",
            " Epoch 11 | Train/Valid loss: 0.143 / 0.141 | Train/Valid accuracy: 0.714 / 0.722 | Train/Valid recall: 0.694 / 0.695 | \n",
            " Epoch 12 | Train/Valid loss: 0.143 / 0.141 | Train/Valid accuracy: 0.714 / 0.722 | Train/Valid recall: 0.694 / 0.694 | \n",
            " Epoch 13 | Train/Valid loss: 0.143 / 0.141 | Train/Valid accuracy: 0.714 / 0.713 | Train/Valid recall: 0.693 / 0.695 | \n",
            " Epoch 14 | Train/Valid loss: 0.143 / 0.141 | Train/Valid accuracy: 0.715 / 0.719 | Train/Valid recall: 0.693 / 0.695 | \n",
            " Epoch 15 | Train/Valid loss: 0.143 / 0.140 | Train/Valid accuracy: 0.714 / 0.714 | Train/Valid recall: 0.693 / 0.696 | \n",
            " Epoch 16 | Train/Valid loss: 0.143 / 0.141 | Train/Valid accuracy: 0.714 / 0.707 | Train/Valid recall: 0.693 / 0.695 | \n",
            " Epoch 17 | Train/Valid loss: 0.143 / 0.141 | Train/Valid accuracy: 0.714 / 0.718 | Train/Valid recall: 0.693 / 0.693 | \n",
            " Epoch 18 | Train/Valid loss: 0.143 / 0.141 | Train/Valid accuracy: 0.714 / 0.714 | Train/Valid recall: 0.693 / 0.694 | \n",
            " Epoch 19 | Train/Valid loss: 0.143 / 0.141 | Train/Valid accuracy: 0.712 / 0.726 | Train/Valid recall: 0.692 / 0.694 | \n",
            " Epoch 20 | Train/Valid loss: 0.143 / 0.141 | Train/Valid accuracy: 0.715 / 0.711 | Train/Valid recall: 0.694 / 0.695 | \n",
            " Epoch 21 | Train/Valid loss: 0.143 / 0.141 | Train/Valid accuracy: 0.714 / 0.706 | Train/Valid recall: 0.692 / 0.695 | \n",
            " Epoch 22 | Train/Valid loss: 0.143 / 0.141 | Train/Valid accuracy: 0.715 / 0.702 | Train/Valid recall: 0.693 / 0.695 | \n",
            " Epoch 23 | Train/Valid loss: 0.143 / 0.141 | Train/Valid accuracy: 0.716 / 0.717 | Train/Valid recall: 0.694 / 0.695 | \n",
            " Epoch 24 | Train/Valid loss: 0.143 / 0.141 | Train/Valid accuracy: 0.716 / 0.708 | Train/Valid recall: 0.694 / 0.696 | \n",
            " Epoch 25 | Train/Valid loss: 0.143 / 0.141 | Train/Valid accuracy: 0.715 / 0.716 | Train/Valid recall: 0.692 / 0.695 | \n",
            " Epoch 26 | Train/Valid loss: 0.143 / 0.141 | Train/Valid accuracy: 0.716 / 0.723 | Train/Valid recall: 0.693 / 0.696 | \n",
            " Epoch 27 | Train/Valid loss: 0.143 / 0.141 | Train/Valid accuracy: 0.716 / 0.703 | Train/Valid recall: 0.693 / 0.695 | \n",
            " Epoch 28 | Train/Valid loss: 0.143 / 0.141 | Train/Valid accuracy: 0.716 / 0.726 | Train/Valid recall: 0.693 / 0.693 | \n",
            " Epoch 29 | Train/Valid loss: 0.143 / 0.141 | Train/Valid accuracy: 0.716 / 0.712 | Train/Valid recall: 0.693 / 0.694 | \n",
            " Epoch 30 | Train/Valid loss: 0.143 / 0.141 | Train/Valid accuracy: 0.716 / 0.705 | Train/Valid recall: 0.693 / 0.696 | \n",
            " Epoch 31 | Train/Valid loss: 0.143 / 0.141 | Train/Valid accuracy: 0.716 / 0.712 | Train/Valid recall: 0.693 / 0.693 | \n",
            " Epoch 32 | Train/Valid loss: 0.143 / 0.141 | Train/Valid accuracy: 0.716 / 0.713 | Train/Valid recall: 0.693 / 0.694 | \n",
            " Epoch 33 | Train/Valid loss: 0.143 / 0.141 | Train/Valid accuracy: 0.715 / 0.716 | Train/Valid recall: 0.692 / 0.695 | \n",
            " Epoch 34 | Train/Valid loss: 0.143 / 0.142 | Train/Valid accuracy: 0.715 / 0.720 | Train/Valid recall: 0.693 / 0.690 | \n",
            " Epoch 35 | Train/Valid loss: 0.143 / 0.141 | Train/Valid accuracy: 0.715 / 0.729 | Train/Valid recall: 0.693 / 0.696 | \n",
            " Epoch 36 | Train/Valid loss: 0.143 / 0.140 | Train/Valid accuracy: 0.715 / 0.709 | Train/Valid recall: 0.694 / 0.697 | \n",
            " Epoch 37 | Train/Valid loss: 0.143 / 0.141 | Train/Valid accuracy: 0.714 / 0.726 | Train/Valid recall: 0.693 / 0.695 | \n",
            " Epoch 38 | Train/Valid loss: 0.143 / 0.141 | Train/Valid accuracy: 0.715 / 0.710 | Train/Valid recall: 0.694 / 0.694 | \n",
            " Epoch 39 | Train/Valid loss: 0.143 / 0.141 | Train/Valid accuracy: 0.715 / 0.719 | Train/Valid recall: 0.694 / 0.697 | \n",
            " Epoch 40 | Train/Valid loss: 0.143 / 0.141 | Train/Valid accuracy: 0.715 / 0.716 | Train/Valid recall: 0.693 / 0.695 | \n",
            " Epoch 41 | Train/Valid loss: 0.143 / 0.141 | Train/Valid accuracy: 0.715 / 0.728 | Train/Valid recall: 0.694 / 0.694 | \n",
            " Epoch 42 | Train/Valid loss: 0.143 / 0.141 | Train/Valid accuracy: 0.715 / 0.716 | Train/Valid recall: 0.694 / 0.695 | \n",
            " Epoch 43 | Train/Valid loss: 0.143 / 0.141 | Train/Valid accuracy: 0.714 / 0.718 | Train/Valid recall: 0.693 / 0.694 | \n",
            " Epoch 44 | Train/Valid loss: 0.143 / 0.141 | Train/Valid accuracy: 0.714 / 0.716 | Train/Valid recall: 0.693 / 0.696 | \n",
            " Epoch 45 | Train/Valid loss: 0.143 / 0.141 | Train/Valid accuracy: 0.714 / 0.713 | Train/Valid recall: 0.693 / 0.695 | \n",
            " Epoch 46 | Train/Valid loss: 0.143 / 0.140 | Train/Valid accuracy: 0.714 / 0.722 | Train/Valid recall: 0.693 / 0.697 | \n",
            " Epoch 47 | Train/Valid loss: 0.143 / 0.141 | Train/Valid accuracy: 0.715 / 0.721 | Train/Valid recall: 0.693 / 0.694 | \n",
            " Epoch 48 | Train/Valid loss: 0.143 / 0.141 | Train/Valid accuracy: 0.715 / 0.726 | Train/Valid recall: 0.693 / 0.695 | \n",
            " Epoch 49 | Train/Valid loss: 0.143 / 0.141 | Train/Valid accuracy: 0.715 / 0.727 | Train/Valid recall: 0.693 / 0.696 | \n",
            " Epoch 50 | Train/Valid loss: 0.143 / 0.141 | Train/Valid accuracy: 0.714 / 0.721 | Train/Valid recall: 0.693 / 0.695 | \n",
            " Epoch 51 | Train/Valid loss: 0.143 / 0.141 | Train/Valid accuracy: 0.714 / 0.707 | Train/Valid recall: 0.693 / 0.695 | \n",
            " Epoch 52 | Train/Valid loss: 0.143 / 0.141 | Train/Valid accuracy: 0.715 / 0.705 | Train/Valid recall: 0.693 / 0.694 | \n",
            " Epoch 53 | Train/Valid loss: 0.143 / 0.141 | Train/Valid accuracy: 0.714 / 0.718 | Train/Valid recall: 0.693 / 0.697 | \n",
            " Epoch 54 | Train/Valid loss: 0.143 / 0.141 | Train/Valid accuracy: 0.715 / 0.714 | Train/Valid recall: 0.693 / 0.695 | \n",
            " Epoch 55 | Train/Valid loss: 0.143 / 0.141 | Train/Valid accuracy: 0.715 / 0.717 | Train/Valid recall: 0.694 / 0.693 | \n",
            " Epoch 56 | Train/Valid loss: 0.143 / 0.141 | Train/Valid accuracy: 0.715 / 0.711 | Train/Valid recall: 0.693 / 0.697 | \n",
            " Epoch 57 | Train/Valid loss: 0.143 / 0.141 | Train/Valid accuracy: 0.714 / 0.708 | Train/Valid recall: 0.692 / 0.694 | \n",
            " Epoch 58 | Train/Valid loss: 0.143 / 0.141 | Train/Valid accuracy: 0.715 / 0.718 | Train/Valid recall: 0.693 / 0.694 | \n",
            " Epoch 59 | Train/Valid loss: 0.143 / 0.141 | Train/Valid accuracy: 0.715 / 0.718 | Train/Valid recall: 0.694 / 0.693 | \n",
            " Epoch 60 | Train/Valid loss: 0.143 / 0.142 | Train/Valid accuracy: 0.715 / 0.721 | Train/Valid recall: 0.693 / 0.693 | \n",
            " Epoch 61 | Train/Valid loss: 0.143 / 0.141 | Train/Valid accuracy: 0.714 / 0.718 | Train/Valid recall: 0.693 / 0.696 | \n",
            " Epoch 62 | Train/Valid loss: 0.143 / 0.141 | Train/Valid accuracy: 0.715 / 0.712 | Train/Valid recall: 0.693 / 0.696 | \n",
            " Epoch 63 | Train/Valid loss: 0.143 / 0.141 | Train/Valid accuracy: 0.715 / 0.725 | Train/Valid recall: 0.693 / 0.695 | \n",
            " Epoch 64 | Train/Valid loss: 0.143 / 0.141 | Train/Valid accuracy: 0.716 / 0.712 | Train/Valid recall: 0.694 / 0.694 | \n",
            " Epoch 65 | Train/Valid loss: 0.143 / 0.141 | Train/Valid accuracy: 0.716 / 0.710 | Train/Valid recall: 0.694 / 0.695 | \n",
            " Epoch 66 | Train/Valid loss: 0.143 / 0.141 | Train/Valid accuracy: 0.716 / 0.714 | Train/Valid recall: 0.694 / 0.694 | \n",
            " Epoch 67 | Train/Valid loss: 0.143 / 0.140 | Train/Valid accuracy: 0.716 / 0.711 | Train/Valid recall: 0.693 / 0.698 | \n",
            " Epoch 68 | Train/Valid loss: 0.143 / 0.140 | Train/Valid accuracy: 0.716 / 0.722 | Train/Valid recall: 0.694 / 0.697 | \n",
            " Epoch 69 | Train/Valid loss: 0.143 / 0.141 | Train/Valid accuracy: 0.716 / 0.722 | Train/Valid recall: 0.694 / 0.696 | \n",
            " Epoch 70 | Train/Valid loss: 0.143 / 0.141 | Train/Valid accuracy: 0.716 / 0.713 | Train/Valid recall: 0.694 / 0.697 | \n",
            " Epoch 71 | Train/Valid loss: 0.143 / 0.141 | Train/Valid accuracy: 0.716 / 0.722 | Train/Valid recall: 0.694 / 0.696 | \n",
            " Epoch 72 | Train/Valid loss: 0.143 / 0.141 | Train/Valid accuracy: 0.714 / 0.718 | Train/Valid recall: 0.693 / 0.698 | \n",
            " Epoch 73 | Train/Valid loss: 0.143 / 0.140 | Train/Valid accuracy: 0.715 / 0.716 | Train/Valid recall: 0.694 / 0.697 | \n",
            " Epoch 74 | Train/Valid loss: 0.143 / 0.141 | Train/Valid accuracy: 0.716 / 0.719 | Train/Valid recall: 0.695 / 0.696 | \n",
            " Epoch 75 | Train/Valid loss: 0.143 / 0.140 | Train/Valid accuracy: 0.716 / 0.715 | Train/Valid recall: 0.694 / 0.697 | \n",
            " Epoch 76 | Train/Valid loss: 0.143 / 0.141 | Train/Valid accuracy: 0.716 / 0.709 | Train/Valid recall: 0.693 / 0.694 | \n",
            " Epoch 77 | Train/Valid loss: 0.143 / 0.141 | Train/Valid accuracy: 0.716 / 0.719 | Train/Valid recall: 0.694 / 0.696 | \n",
            " Epoch 78 | Train/Valid loss: 0.143 / 0.141 | Train/Valid accuracy: 0.715 / 0.708 | Train/Valid recall: 0.694 / 0.695 | \n",
            " Epoch 79 | Train/Valid loss: 0.143 / 0.140 | Train/Valid accuracy: 0.716 / 0.713 | Train/Valid recall: 0.694 / 0.697 | \n",
            " Epoch 80 | Train/Valid loss: 0.143 / 0.141 | Train/Valid accuracy: 0.715 / 0.712 | Train/Valid recall: 0.694 / 0.695 | \n",
            " Epoch 81 | Train/Valid loss: 0.143 / 0.141 | Train/Valid accuracy: 0.716 / 0.713 | Train/Valid recall: 0.695 / 0.697 | \n",
            " Epoch 82 | Train/Valid loss: 0.143 / 0.141 | Train/Valid accuracy: 0.714 / 0.727 | Train/Valid recall: 0.693 / 0.694 | \n",
            " Epoch 83 | Train/Valid loss: 0.143 / 0.140 | Train/Valid accuracy: 0.715 / 0.719 | Train/Valid recall: 0.694 / 0.697 | \n",
            " Epoch 84 | Train/Valid loss: 0.143 / 0.141 | Train/Valid accuracy: 0.714 / 0.715 | Train/Valid recall: 0.693 / 0.697 | \n",
            " Epoch 85 | Train/Valid loss: 0.143 / 0.140 | Train/Valid accuracy: 0.714 / 0.715 | Train/Valid recall: 0.693 / 0.695 | \n",
            " Epoch 86 | Train/Valid loss: 0.143 / 0.141 | Train/Valid accuracy: 0.715 / 0.719 | Train/Valid recall: 0.694 / 0.696 | \n",
            " Epoch 87 | Train/Valid loss: 0.143 / 0.141 | Train/Valid accuracy: 0.714 / 0.713 | Train/Valid recall: 0.694 / 0.693 | \n",
            " Epoch 88 | Train/Valid loss: 0.143 / 0.141 | Train/Valid accuracy: 0.714 / 0.711 | Train/Valid recall: 0.694 / 0.697 | \n",
            " Epoch 89 | Train/Valid loss: 0.143 / 0.141 | Train/Valid accuracy: 0.715 / 0.712 | Train/Valid recall: 0.694 / 0.696 | \n",
            " Epoch 90 | Train/Valid loss: 0.143 / 0.141 | Train/Valid accuracy: 0.715 / 0.720 | Train/Valid recall: 0.693 / 0.695 | \n",
            " Epoch 91 | Train/Valid loss: 0.143 / 0.140 | Train/Valid accuracy: 0.714 / 0.726 | Train/Valid recall: 0.693 / 0.695 | \n",
            " Epoch 92 | Train/Valid loss: 0.143 / 0.143 | Train/Valid accuracy: 0.714 / 0.703 | Train/Valid recall: 0.693 / 0.693 | \n",
            " Epoch 93 | Train/Valid loss: 0.143 / 0.140 | Train/Valid accuracy: 0.714 / 0.723 | Train/Valid recall: 0.693 / 0.699 | \n",
            " Epoch 94 | Train/Valid loss: 0.143 / 0.141 | Train/Valid accuracy: 0.714 / 0.715 | Train/Valid recall: 0.693 / 0.697 | \n",
            " Epoch 95 | Train/Valid loss: 0.143 / 0.141 | Train/Valid accuracy: 0.715 / 0.719 | Train/Valid recall: 0.694 / 0.693 | \n",
            " Epoch 96 | Train/Valid loss: 0.143 / 0.141 | Train/Valid accuracy: 0.715 / 0.712 | Train/Valid recall: 0.693 / 0.696 | \n",
            " Epoch 97 | Train/Valid loss: 0.143 / 0.141 | Train/Valid accuracy: 0.714 / 0.719 | Train/Valid recall: 0.693 / 0.691 | \n",
            " Epoch 98 | Train/Valid loss: 0.143 / 0.141 | Train/Valid accuracy: 0.714 / 0.703 | Train/Valid recall: 0.693 / 0.695 | \n",
            " Epoch 99 | Train/Valid loss: 0.143 / 0.141 | Train/Valid accuracy: 0.716 / 0.711 | Train/Valid recall: 0.694 / 0.696 | \n"
          ]
        }
      ],
      "execution_count": 64
    },
    {
      "cell_type": "code",
      "source": [
        "# Gráfica loss por epoch\n",
        "fig, ax1= plt.subplots(1,1)\n",
        "ax1.plot(train_loss_by_epoch_emb, label=\"Train loss\")\n",
        "ax1.plot(valid_loss_by_epoch_emb, label=\"Validation loss\")\n",
        "ax1.legend()\n",
        "ax1.set_title(\"Loss by epoch\")\n",
        "ax1.set_xlabel(\"epoch\")\n",
        "ax1.set_ylabel(\"CrossEntropyLoss\")"
      ],
      "metadata": {
        "colab": {
          "base_uri": "https://localhost:8080/",
          "height": 489
        },
        "id": "u7iERWsyOJM0",
        "outputId": "b1443a0d-195e-49db-aa5a-8202ad985911"
      },
      "execution_count": 65,
      "outputs": [
        {
          "output_type": "execute_result",
          "data": {
            "text/plain": [
              "Text(0, 0.5, 'CrossEntropyLoss')"
            ]
          },
          "metadata": {},
          "execution_count": 65
        },
        {
          "output_type": "display_data",
          "data": {
            "text/plain": [
              "<Figure size 640x480 with 1 Axes>"
            ],
            "image/png": "[encoded data removed]"
          },
          "metadata": {}
        }
      ]
    },
    {
      "cell_type": "code",
      "source": [],
      "metadata": {
        "id": "AifHRn28OQFw"
      },
      "execution_count": null,
      "outputs": []
    },
    {
      "metadata": {
        "ExecuteTime": {
          "end_time": "2024-10-22T03:08:41.100858Z",
          "start_time": "2024-10-22T03:08:40.959601Z"
        },
        "outputId": "009012fd-bffe-4328-db8b-c6d836052005",
        "colab": {
          "base_uri": "https://localhost:8080/",
          "height": 489
        },
        "id": "GMaAH--gOUN2"
      },
      "cell_type": "code",
      "source": [
        "# Gráfica loss por epoch\n",
        "fig, ax1= plt.subplots(1,1)\n",
        "ax1.plot(train_accuracy_by_epoch_emb, label=\"Train loss\")\n",
        "ax1.plot(valid_accuracy_by_epoch_emb, label=\"Validation loss\")\n",
        "ax1.legend()\n",
        "ax1.set_title(\"Loss by epoch\")\n",
        "ax1.set_xlabel(\"epoch\")\n",
        "ax1.set_ylabel(\"CrossEntropyLoss\")"
      ],
      "outputs": [
        {
          "output_type": "execute_result",
          "data": {
            "text/plain": [
              "Text(0, 0.5, 'CrossEntropyLoss')"
            ]
          },
          "metadata": {},
          "execution_count": 66
        },
        {
          "output_type": "display_data",
          "data": {
            "text/plain": [
              "<Figure size 640x480 with 1 Axes>"
            ],
            "image/png": "[encoded data removed]"
          },
          "metadata": {}
        }
      ],
      "execution_count": 66
    },
    {
      "metadata": {
        "ExecuteTime": {
          "end_time": "2024-10-21T16:58:33.025203Z",
          "start_time": "2024-10-21T16:58:27.648476Z"
        },
        "id": "O-7LBfrloVL_",
        "outputId": "a5887a51-32e7-4a3e-af8a-6d6cb08b2a7e"
      },
      "cell_type": "code",
      "source": [
        "loss = torch.nn.CrossEntropyLoss()\n",
        "input = torch.randn(3, 5, requires_grad=True)\n",
        "target = torch.empty(3, dtype=torch.long).random_(5)\n",
        "output = loss(input, target)\n",
        "output.backward()\n",
        "\n",
        "# Example of target with class probabilities\n",
        "input = torch.randn(3, 5, requires_grad=True)\n",
        "target = torch.randn(3, 5).softmax(dim=1)\n",
        "output = loss(input, target)\n",
        "output.backward()"
      ],
      "outputs": [
        {
          "ename": "KeyboardInterrupt",
          "evalue": "",
          "output_type": "error",
          "traceback": [
            "\u001b[0;31m---------------------------------------------------------------------------\u001b[0m",
            "\u001b[0;31mKeyboardInterrupt\u001b[0m                         Traceback (most recent call last)",
            "Cell \u001b[0;32mIn[37], line 3\u001b[0m\n\u001b[1;32m      1\u001b[0m loss \u001b[38;5;241m=\u001b[39m torch\u001b[38;5;241m.\u001b[39mnn\u001b[38;5;241m.\u001b[39mCrossEntropyLoss()\n\u001b[1;32m      2\u001b[0m \u001b[38;5;28minput\u001b[39m \u001b[38;5;241m=\u001b[39m torch\u001b[38;5;241m.\u001b[39mrandn(\u001b[38;5;241m3\u001b[39m, \u001b[38;5;241m5\u001b[39m, requires_grad\u001b[38;5;241m=\u001b[39m\u001b[38;5;28;01mTrue\u001b[39;00m)\n\u001b[0;32m----> 3\u001b[0m target \u001b[38;5;241m=\u001b[39m \u001b[43mtorch\u001b[49m\u001b[38;5;241m.\u001b[39mempty(\u001b[38;5;241m3\u001b[39m, dtype\u001b[38;5;241m=\u001b[39mtorch\u001b[38;5;241m.\u001b[39mlong)\u001b[38;5;241m.\u001b[39mrandom_(\u001b[38;5;241m5\u001b[39m)\n\u001b[1;32m      4\u001b[0m output \u001b[38;5;241m=\u001b[39m loss(\u001b[38;5;28minput\u001b[39m, target)\n\u001b[1;32m      5\u001b[0m output\u001b[38;5;241m.\u001b[39mbackward()\n",
            "Cell \u001b[0;32mIn[37], line 3\u001b[0m\n\u001b[1;32m      1\u001b[0m loss \u001b[38;5;241m=\u001b[39m torch\u001b[38;5;241m.\u001b[39mnn\u001b[38;5;241m.\u001b[39mCrossEntropyLoss()\n\u001b[1;32m      2\u001b[0m \u001b[38;5;28minput\u001b[39m \u001b[38;5;241m=\u001b[39m torch\u001b[38;5;241m.\u001b[39mrandn(\u001b[38;5;241m3\u001b[39m, \u001b[38;5;241m5\u001b[39m, requires_grad\u001b[38;5;241m=\u001b[39m\u001b[38;5;28;01mTrue\u001b[39;00m)\n\u001b[0;32m----> 3\u001b[0m target \u001b[38;5;241m=\u001b[39m \u001b[43mtorch\u001b[49m\u001b[38;5;241m.\u001b[39mempty(\u001b[38;5;241m3\u001b[39m, dtype\u001b[38;5;241m=\u001b[39mtorch\u001b[38;5;241m.\u001b[39mlong)\u001b[38;5;241m.\u001b[39mrandom_(\u001b[38;5;241m5\u001b[39m)\n\u001b[1;32m      4\u001b[0m output \u001b[38;5;241m=\u001b[39m loss(\u001b[38;5;28minput\u001b[39m, target)\n\u001b[1;32m      5\u001b[0m output\u001b[38;5;241m.\u001b[39mbackward()\n",
            "File \u001b[0;32m/opt/pycharm-2024.1.1/plugins/python/helpers/pydev/_pydevd_bundle/pydevd_frame.py:888\u001b[0m, in \u001b[0;36mPyDBFrame.trace_dispatch\u001b[0;34m(self, frame, event, arg)\u001b[0m\n\u001b[1;32m    885\u001b[0m             stop \u001b[38;5;241m=\u001b[39m \u001b[38;5;28;01mFalse\u001b[39;00m\n\u001b[1;32m    887\u001b[0m \u001b[38;5;28;01mif\u001b[39;00m plugin_stop:\n\u001b[0;32m--> 888\u001b[0m     stopped_on_plugin \u001b[38;5;241m=\u001b[39m \u001b[43mplugin_manager\u001b[49m\u001b[38;5;241;43m.\u001b[39;49m\u001b[43mstop\u001b[49m\u001b[43m(\u001b[49m\u001b[43mmain_debugger\u001b[49m\u001b[43m,\u001b[49m\u001b[43m \u001b[49m\u001b[43mframe\u001b[49m\u001b[43m,\u001b[49m\u001b[43m \u001b[49m\u001b[43mevent\u001b[49m\u001b[43m,\u001b[49m\u001b[43m \u001b[49m\u001b[38;5;28;43mself\u001b[39;49m\u001b[38;5;241;43m.\u001b[39;49m\u001b[43m_args\u001b[49m\u001b[43m,\u001b[49m\u001b[43m \u001b[49m\u001b[43mstop_info\u001b[49m\u001b[43m,\u001b[49m\u001b[43m \u001b[49m\u001b[43marg\u001b[49m\u001b[43m,\u001b[49m\u001b[43m \u001b[49m\u001b[43mstep_cmd\u001b[49m\u001b[43m)\u001b[49m\n\u001b[1;32m    889\u001b[0m \u001b[38;5;28;01melif\u001b[39;00m stop:\n\u001b[1;32m    890\u001b[0m     \u001b[38;5;28;01mif\u001b[39;00m is_line:\n",
            "File \u001b[0;32m/opt/pycharm-2024.1.1/plugins/python/helpers-pro/jupyter_debug/pydev_jupyter_plugin.py:169\u001b[0m, in \u001b[0;36mstop\u001b[0;34m(plugin, pydb, frame, event, args, stop_info, arg, step_cmd)\u001b[0m\n\u001b[1;32m    167\u001b[0m     frame \u001b[38;5;241m=\u001b[39m suspend_jupyter(main_debugger, thread, frame, step_cmd)\n\u001b[1;32m    168\u001b[0m     \u001b[38;5;28;01mif\u001b[39;00m frame:\n\u001b[0;32m--> 169\u001b[0m         \u001b[43mmain_debugger\u001b[49m\u001b[38;5;241;43m.\u001b[39;49m\u001b[43mdo_wait_suspend\u001b[49m\u001b[43m(\u001b[49m\u001b[43mthread\u001b[49m\u001b[43m,\u001b[49m\u001b[43m \u001b[49m\u001b[43mframe\u001b[49m\u001b[43m,\u001b[49m\u001b[43m \u001b[49m\u001b[43mevent\u001b[49m\u001b[43m,\u001b[49m\u001b[43m \u001b[49m\u001b[43marg\u001b[49m\u001b[43m)\u001b[49m\n\u001b[1;32m    170\u001b[0m         \u001b[38;5;28;01mreturn\u001b[39;00m \u001b[38;5;28;01mTrue\u001b[39;00m\n\u001b[1;32m    171\u001b[0m \u001b[38;5;28;01mreturn\u001b[39;00m \u001b[38;5;28;01mFalse\u001b[39;00m\n",
            "File \u001b[0;32m/opt/pycharm-2024.1.1/plugins/python/helpers/pydev/pydevd.py:1201\u001b[0m, in \u001b[0;36mPyDB.do_wait_suspend\u001b[0;34m(self, thread, frame, event, arg, send_suspend_message, is_unhandled_exception)\u001b[0m\n\u001b[1;32m   1198\u001b[0m         from_this_thread\u001b[38;5;241m.\u001b[39mappend(frame_id)\n\u001b[1;32m   1200\u001b[0m \u001b[38;5;28;01mwith\u001b[39;00m \u001b[38;5;28mself\u001b[39m\u001b[38;5;241m.\u001b[39m_threads_suspended_single_notification\u001b[38;5;241m.\u001b[39mnotify_thread_suspended(thread_id, stop_reason):\n\u001b[0;32m-> 1201\u001b[0m     \u001b[38;5;28;43mself\u001b[39;49m\u001b[38;5;241;43m.\u001b[39;49m\u001b[43m_do_wait_suspend\u001b[49m\u001b[43m(\u001b[49m\u001b[43mthread\u001b[49m\u001b[43m,\u001b[49m\u001b[43m \u001b[49m\u001b[43mframe\u001b[49m\u001b[43m,\u001b[49m\u001b[43m \u001b[49m\u001b[43mevent\u001b[49m\u001b[43m,\u001b[49m\u001b[43m \u001b[49m\u001b[43marg\u001b[49m\u001b[43m,\u001b[49m\u001b[43m \u001b[49m\u001b[43msuspend_type\u001b[49m\u001b[43m,\u001b[49m\u001b[43m \u001b[49m\u001b[43mfrom_this_thread\u001b[49m\u001b[43m)\u001b[49m\n",
            "File \u001b[0;32m/opt/pycharm-2024.1.1/plugins/python/helpers/pydev/pydevd.py:1216\u001b[0m, in \u001b[0;36mPyDB._do_wait_suspend\u001b[0;34m(self, thread, frame, event, arg, suspend_type, from_this_thread)\u001b[0m\n\u001b[1;32m   1213\u001b[0m             \u001b[38;5;28mself\u001b[39m\u001b[38;5;241m.\u001b[39m_call_mpl_hook()\n\u001b[1;32m   1215\u001b[0m         \u001b[38;5;28mself\u001b[39m\u001b[38;5;241m.\u001b[39mprocess_internal_commands()\n\u001b[0;32m-> 1216\u001b[0m         \u001b[43mtime\u001b[49m\u001b[38;5;241;43m.\u001b[39;49m\u001b[43msleep\u001b[49m\u001b[43m(\u001b[49m\u001b[38;5;241;43m0.01\u001b[39;49m\u001b[43m)\u001b[49m\n\u001b[1;32m   1218\u001b[0m \u001b[38;5;28mself\u001b[39m\u001b[38;5;241m.\u001b[39mcancel_async_evaluation(get_current_thread_id(thread), \u001b[38;5;28mstr\u001b[39m(\u001b[38;5;28mid\u001b[39m(frame)))\n\u001b[1;32m   1220\u001b[0m \u001b[38;5;66;03m# process any stepping instructions\u001b[39;00m\n",
            "\u001b[0;31mKeyboardInterrupt\u001b[0m: "
          ]
        }
      ],
      "execution_count": null
    },
    {
      "metadata": {
        "id": "W2L3Urn7oVL_"
      },
      "cell_type": "markdown",
      "source": []
    },
    {
      "cell_type": "markdown",
      "source": [
        "    # Parte 2.a\n",
        "\n",
        "Implemente una arquitectura de red neuronal basada en CNN para identificar del dataset fashion MNIST las 10 clases del mismo. Sobre dicho modelo, realize una exploración de 5 variantes distintas (que se desprenden del modelo propuesto) variando alguno (o varios) de los siguientes hiperparámetros:\n",
        "- numero de capas.\n",
        "- numero de kernels.\n",
        "- tamaño de kernels.\n",
        "\n",
        "\n",
        "Evalue la evolución de la función de perdida y la accuracy (para train y test) para cada modelo en una gráfica con las curvas de los 5 modelos propuestos. Compare también el tiempo de entrenamiento y peso (tamaño) de cada modelo. Aplique técnicas de regularización para evitar overfitting. Elija el modelo que considera mejor y justifique.\n",
        "Entregables:\n",
        " - Grafica comparativa de función de perdida vs epochs para los 5 modelos.\n",
        " - Grafica comparativa de función de accuracy vs epochs para los 5 modelos.\n",
        " - Tabla comparativa (o grafico de barras) del tiempo de entrenamiento y pesos de cada modelo.\n",
        " - Justificación del modelo elegio (qué consideró para elegir el modelo y bajo qué criterio).\n",
        "\n"
      ],
      "metadata": {
        "id": "-6LncA6WwfhQ"
      }
    },
    {
      "cell_type": "code",
      "metadata": {
        "id": "srwTqvY7fKk2",
        "ExecuteTime": {
          "end_time": "2024-10-10T00:53:02.935899Z",
          "start_time": "2024-10-10T00:53:01.474362Z"
        }
      },
      "source": [
        "import torch\n",
        "from torch import nn\n",
        "from torch.utils.data import DataLoader\n",
        "from torchvision import datasets\n",
        "from torchvision.transforms import ToTensor"
      ],
      "outputs": [],
      "execution_count": null
    },
    {
      "metadata": {
        "ExecuteTime": {
          "end_time": "2024-10-10T00:53:31.705142Z",
          "start_time": "2024-10-10T00:53:31.702316Z"
        },
        "id": "tGQk0RMxoVMA",
        "outputId": "6533e8e1-4021-4be4-9bc4-12f382b4dc7e"
      },
      "cell_type": "code",
      "source": [
        "torch.cuda.is_available()"
      ],
      "outputs": [
        {
          "data": {
            "text/plain": [
              "False"
            ]
          },
          "execution_count": 3,
          "metadata": {},
          "output_type": "execute_result"
        }
      ],
      "execution_count": null
    },
    {
      "cell_type": "code",
      "source": [
        "# Download train data from open datasets.\n",
        "train_data= datasets.FashionMNIST(root='data', train=True, download=True, transform=ToTensor(),)\n",
        "\n",
        "# Download test data from open datsets.\n",
        "test_data=datasets.FashionMNIST(root='data', train=False, download=True, transform=ToTensor(),)\n"
      ],
      "metadata": {
        "colab": {
          "base_uri": "https://localhost:8080/"
        },
        "id": "xNGscXTPfVNZ",
        "outputId": "250430fb-d246-4950-ec66-73057bd4fda0"
      },
      "execution_count": null,
      "outputs": [
        {
          "output_type": "stream",
          "name": "stdout",
          "text": [
            "Downloading http://fashion-mnist.s3-website.eu-central-1.amazonaws.com/train-images-idx3-ubyte.gz\n",
            "Downloading http://fashion-mnist.s3-website.eu-central-1.amazonaws.com/train-images-idx3-ubyte.gz to data/FashionMNIST/raw/train-images-idx3-ubyte.gz\n"
          ]
        },
        {
          "output_type": "stream",
          "name": "stderr",
          "text": [
            "100%|██████████| 26421880/26421880 [00:02<00:00, 12594801.85it/s]\n"
          ]
        },
        {
          "output_type": "stream",
          "name": "stdout",
          "text": [
            "Extracting data/FashionMNIST/raw/train-images-idx3-ubyte.gz to data/FashionMNIST/raw\n",
            "\n",
            "Downloading http://fashion-mnist.s3-website.eu-central-1.amazonaws.com/train-labels-idx1-ubyte.gz\n",
            "Downloading http://fashion-mnist.s3-website.eu-central-1.amazonaws.com/train-labels-idx1-ubyte.gz to data/FashionMNIST/raw/train-labels-idx1-ubyte.gz\n"
          ]
        },
        {
          "output_type": "stream",
          "name": "stderr",
          "text": [
            "100%|██████████| 29515/29515 [00:00<00:00, 199486.41it/s]\n"
          ]
        },
        {
          "output_type": "stream",
          "name": "stdout",
          "text": [
            "Extracting data/FashionMNIST/raw/train-labels-idx1-ubyte.gz to data/FashionMNIST/raw\n",
            "\n",
            "Downloading http://fashion-mnist.s3-website.eu-central-1.amazonaws.com/t10k-images-idx3-ubyte.gz\n",
            "Downloading http://fashion-mnist.s3-website.eu-central-1.amazonaws.com/t10k-images-idx3-ubyte.gz to data/FashionMNIST/raw/t10k-images-idx3-ubyte.gz\n"
          ]
        },
        {
          "output_type": "stream",
          "name": "stderr",
          "text": [
            "100%|██████████| 4422102/4422102 [00:01<00:00, 3758955.28it/s]\n"
          ]
        },
        {
          "output_type": "stream",
          "name": "stdout",
          "text": [
            "Extracting data/FashionMNIST/raw/t10k-images-idx3-ubyte.gz to data/FashionMNIST/raw\n",
            "\n",
            "Downloading http://fashion-mnist.s3-website.eu-central-1.amazonaws.com/t10k-labels-idx1-ubyte.gz\n",
            "Downloading http://fashion-mnist.s3-website.eu-central-1.amazonaws.com/t10k-labels-idx1-ubyte.gz to data/FashionMNIST/raw/t10k-labels-idx1-ubyte.gz\n"
          ]
        },
        {
          "output_type": "stream",
          "name": "stderr",
          "text": [
            "100%|██████████| 5148/5148 [00:00<00:00, 4915155.25it/s]"
          ]
        },
        {
          "output_type": "stream",
          "name": "stdout",
          "text": [
            "Extracting data/FashionMNIST/raw/t10k-labels-idx1-ubyte.gz to data/FashionMNIST/raw\n",
            "\n"
          ]
        },
        {
          "output_type": "stream",
          "name": "stderr",
          "text": [
            "\n"
          ]
        }
      ]
    },
    {
      "cell_type": "code",
      "source": [
        "import matplotlib.pyplot as plt\n",
        "\n",
        "labels_map={\n",
        "    0: 'T-shirt',\n",
        "    1: 'Trouser',\n",
        "    2: 'Pullover',\n",
        "    3: 'Dress',\n",
        "    4: 'Coat',\n",
        "    5: 'Sandal',\n",
        "    6: 'Shirt',\n",
        "    7: 'Sneaker',\n",
        "    8: 'Bag',\n",
        "    9: 'Ankle Boot',\n",
        "}\n",
        "\n",
        "figure = plt.figure(figsize = (10,10))\n",
        "cols, rows = 3, 3\n",
        "\n",
        "for i in range (1, cols*rows + 1):\n",
        "    sample_idx = torch.randint(len(train_data), size = (1,)).item()\n",
        "    image, label = train_data[sample_idx]\n",
        "    figure.add_subplot(rows, cols, i)\n",
        "    plt.title(labels_map[label])\n",
        "    plt.axis('off')\n",
        "    plt.imshow(image.squeeze(), cmap='gray')\n",
        "plt.show()"
      ],
      "metadata": {
        "colab": {
          "base_uri": "https://localhost:8080/",
          "height": 829
        },
        "id": "9mZXNPCQfbEU",
        "outputId": "bd25839b-3629-4887-e19d-390bf4ce5d60"
      },
      "execution_count": null,
      "outputs": [
        {
          "output_type": "display_data",
          "data": {
            "text/plain": [
              "<Figure size 1000x1000 with 9 Axes>"
            ],
            "image/png": "[encoded data removed]"
          },
          "metadata": {}
        }
      ]
    },
    {
      "cell_type": "code",
      "source": [],
      "metadata": {
        "id": "PWhInawBhdIE"
      },
      "execution_count": null,
      "outputs": []
    },
    {
      "cell_type": "markdown",
      "source": [
        "# Parte 2.b\n",
        "\n",
        "Empleando el modelo entrenado y elegido por Ud. en el punto anterior, realice transfer learning para procesar las imágenes del dataset MNIST (los números) **e identificar los números mayores o menores a 4,5**.\n",
        "Para el entrenamiento emplee solamente 20.000 muestras del set de entrenamiento y valide con el set de testeo. Al reducir el train set, mantenga equilibrada la distribución de las clases.\n",
        "\n",
        "Elija la estrategia de transfer learning acorde a los visto en la teoría y justifique su elección.\n",
        "\n",
        "Compare las curvas de entrenamiento y accurracy empleando transfer learning o usando la arquitectura elejida en el punto anterior pero entrenando desde cero.\n",
        "Entregables:\n",
        "- Estrategia elegida y su justificación.\n",
        "- Grafica comparativa de función de perdida vs epochs para el modelo con transfer learning y sin transfer learning.\n",
        "- Grafica comparativa de función de accuracy vs epochs para el modelo con transfer learning y sin transfer learning.\n",
        "- Comentarios sobre las curvas graficadas.\n"
      ],
      "metadata": {
        "id": "jLIuwzpm0Rz0"
      }
    }
  ]
}